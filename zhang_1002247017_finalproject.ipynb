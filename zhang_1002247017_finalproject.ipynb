{
  "nbformat": 4,
  "nbformat_minor": 0,
  "metadata": {
    "colab": {
      "name": "zhang_1002247017_finalproject.ipynb",
      "provenance": []
    },
    "kernelspec": {
      "name": "python3",
      "display_name": "Python 3"
    },
    "language_info": {
      "name": "python"
    }
  },
  "cells": [
    {
      "cell_type": "code",
      "source": [
        "import numpy as np \n",
        "import pandas as pd \n",
        "from collections import Counter\n",
        "import matplotlib.pyplot as plt\n",
        "import seaborn as sns\n",
        "\n",
        "import nltk\n",
        "nltk.download('stopwords')\n",
        "from nltk.corpus import stopwords\n",
        "from nltk.tokenize import word_tokenize\n",
        "from nltk.tokenize import RegexpTokenizer\n",
        "from collections import Counter\n",
        "from nltk.stem import PorterStemmer\n",
        "from nltk.stem import WordNetLemmatizer\n",
        "from wordcloud import WordCloud\n",
        "\n",
        "nltk.download('wordnet')"
      ],
      "metadata": {
        "colab": {
          "base_uri": "https://localhost:8080/"
        },
        "id": "EsqsNR0tpV_u",
        "outputId": "55d119ac-50a2-4f45-f98b-c4098a6261a9"
      },
      "execution_count": 156,
      "outputs": [
        {
          "output_type": "stream",
          "name": "stdout",
          "text": [
            "[nltk_data] Downloading package stopwords to /root/nltk_data...\n",
            "[nltk_data]   Package stopwords is already up-to-date!\n",
            "[nltk_data] Downloading package wordnet to /root/nltk_data...\n",
            "[nltk_data]   Package wordnet is already up-to-date!\n"
          ]
        },
        {
          "output_type": "execute_result",
          "data": {
            "text/plain": [
              "True"
            ]
          },
          "metadata": {},
          "execution_count": 156
        }
      ]
    },
    {
      "cell_type": "code",
      "source": [
        "pd.set_option('display.max_columns', None)  \n",
        "pd.set_option('display.expand_frame_repr', False)\n",
        "pd.set_option('max_colwidth',400)"
      ],
      "metadata": {
        "id": "BvJWLtkap3Ue"
      },
      "execution_count": null,
      "outputs": []
    },
    {
      "cell_type": "markdown",
      "source": [
        "# Part 1: Data Cleaning for Sentiment Analysis dataset"
      ],
      "metadata": {
        "id": "nCTlFQE7R_ig"
      }
    },
    {
      "cell_type": "code",
      "source": [
        "df = pd.read_csv('sentiment_analysis.csv')\n",
        "df.head(10)"
      ],
      "metadata": {
        "colab": {
          "base_uri": "https://localhost:8080/",
          "height": 359
        },
        "id": "XWQwBmhio5FK",
        "outputId": "f3756a78-0eb0-4174-88e1-1bd53d7da742"
      },
      "execution_count": null,
      "outputs": [
        {
          "output_type": "execute_result",
          "data": {
            "text/plain": [
              "             ID                                                                                                                                              text  label\n",
              "0  7.680980e+17                                Josh Jenkins is looking forward to TAB Breeders Crown Super Sunday https://t.co/antImqAo4Y https://t.co/ejnA78Sks0      1\n",
              "1  7.680980e+17      RT @MianUsmanJaved: Congratulations Pakistan on becoming #No1TestTeam in the world against all odds! #JI_PakZindabadRallies https://t.co/1o…      1\n",
              "2  7.680980e+17      RT @PEPalerts: This September, @YESmag is taking you to Maine Mendoza’s surprise thanksgiving party she threw for her fans! https://t.co/oX…      1\n",
              "3  7.680980e+17       RT @david_gaibis: Newly painted walls, thanks a million to our custodial painters this summer.  Great job ladies!!!#EC_proud https://t.co/…      1\n",
              "4  7.680980e+17                RT @CedricFeschotte: Excited to announce: as of July 2017 Feschotte lab will be relocating to @Cornell MBG https://t.co/dd0FG7BRx3      1\n",
              "5  7.680980e+17                                                                   RT @SH4WNSMILE: -Who is excited for illuminate !? -.... https://t.co/AKnIVEGUOe      1\n",
              "6  7.680980e+17  RT @KendallHuntRPD: The #firstdayofschool for students &amp; teachers. Good luck and have a Successful 2016-17 School Year #EducationMatters ht…      1\n",
              "7  7.680980e+17                                  RT @BantySrkian: #SRK and kajol in the making of DDLJ song .. Both are greatest ever 🙏🙏🙏 https://t.co/Aa7fAvvtNE      1\n",
              "8  7.680980e+17                                                                                             RT @GayHopper_com: I'm happy! https://t.co/fKXbN3Zhtd      1\n",
              "9  7.680980e+17       RT @StarCinema: Kathryn, Daniel share memorable experience in Barcelona SEE INTERVIEW HERE: https://t.co/Vub69JTdKL https://t.co/NntyQWs7To      1"
            ],
            "text/html": [
              "\n",
              "  <div id=\"df-6e9065b3-93f6-4610-8988-e452d488d85a\">\n",
              "    <div class=\"colab-df-container\">\n",
              "      <div>\n",
              "<style scoped>\n",
              "    .dataframe tbody tr th:only-of-type {\n",
              "        vertical-align: middle;\n",
              "    }\n",
              "\n",
              "    .dataframe tbody tr th {\n",
              "        vertical-align: top;\n",
              "    }\n",
              "\n",
              "    .dataframe thead th {\n",
              "        text-align: right;\n",
              "    }\n",
              "</style>\n",
              "<table border=\"1\" class=\"dataframe\">\n",
              "  <thead>\n",
              "    <tr style=\"text-align: right;\">\n",
              "      <th></th>\n",
              "      <th>ID</th>\n",
              "      <th>text</th>\n",
              "      <th>label</th>\n",
              "    </tr>\n",
              "  </thead>\n",
              "  <tbody>\n",
              "    <tr>\n",
              "      <th>0</th>\n",
              "      <td>7.680980e+17</td>\n",
              "      <td>Josh Jenkins is looking forward to TAB Breeders Crown Super Sunday https://t.co/antImqAo4Y https://t.co/ejnA78Sks0</td>\n",
              "      <td>1</td>\n",
              "    </tr>\n",
              "    <tr>\n",
              "      <th>1</th>\n",
              "      <td>7.680980e+17</td>\n",
              "      <td>RT @MianUsmanJaved: Congratulations Pakistan on becoming #No1TestTeam in the world against all odds! #JI_PakZindabadRallies https://t.co/1o…</td>\n",
              "      <td>1</td>\n",
              "    </tr>\n",
              "    <tr>\n",
              "      <th>2</th>\n",
              "      <td>7.680980e+17</td>\n",
              "      <td>RT @PEPalerts: This September, @YESmag is taking you to Maine Mendoza’s surprise thanksgiving party she threw for her fans! https://t.co/oX…</td>\n",
              "      <td>1</td>\n",
              "    </tr>\n",
              "    <tr>\n",
              "      <th>3</th>\n",
              "      <td>7.680980e+17</td>\n",
              "      <td>RT @david_gaibis: Newly painted walls, thanks a million to our custodial painters this summer.  Great job ladies!!!#EC_proud https://t.co/…</td>\n",
              "      <td>1</td>\n",
              "    </tr>\n",
              "    <tr>\n",
              "      <th>4</th>\n",
              "      <td>7.680980e+17</td>\n",
              "      <td>RT @CedricFeschotte: Excited to announce: as of July 2017 Feschotte lab will be relocating to @Cornell MBG https://t.co/dd0FG7BRx3</td>\n",
              "      <td>1</td>\n",
              "    </tr>\n",
              "    <tr>\n",
              "      <th>5</th>\n",
              "      <td>7.680980e+17</td>\n",
              "      <td>RT @SH4WNSMILE: -Who is excited for illuminate !? -.... https://t.co/AKnIVEGUOe</td>\n",
              "      <td>1</td>\n",
              "    </tr>\n",
              "    <tr>\n",
              "      <th>6</th>\n",
              "      <td>7.680980e+17</td>\n",
              "      <td>RT @KendallHuntRPD: The #firstdayofschool for students &amp;amp; teachers. Good luck and have a Successful 2016-17 School Year #EducationMatters ht…</td>\n",
              "      <td>1</td>\n",
              "    </tr>\n",
              "    <tr>\n",
              "      <th>7</th>\n",
              "      <td>7.680980e+17</td>\n",
              "      <td>RT @BantySrkian: #SRK and kajol in the making of DDLJ song .. Both are greatest ever 🙏🙏🙏 https://t.co/Aa7fAvvtNE</td>\n",
              "      <td>1</td>\n",
              "    </tr>\n",
              "    <tr>\n",
              "      <th>8</th>\n",
              "      <td>7.680980e+17</td>\n",
              "      <td>RT @GayHopper_com: I'm happy! https://t.co/fKXbN3Zhtd</td>\n",
              "      <td>1</td>\n",
              "    </tr>\n",
              "    <tr>\n",
              "      <th>9</th>\n",
              "      <td>7.680980e+17</td>\n",
              "      <td>RT @StarCinema: Kathryn, Daniel share memorable experience in Barcelona SEE INTERVIEW HERE: https://t.co/Vub69JTdKL https://t.co/NntyQWs7To</td>\n",
              "      <td>1</td>\n",
              "    </tr>\n",
              "  </tbody>\n",
              "</table>\n",
              "</div>\n",
              "      <button class=\"colab-df-convert\" onclick=\"convertToInteractive('df-6e9065b3-93f6-4610-8988-e452d488d85a')\"\n",
              "              title=\"Convert this dataframe to an interactive table.\"\n",
              "              style=\"display:none;\">\n",
              "        \n",
              "  <svg xmlns=\"http://www.w3.org/2000/svg\" height=\"24px\"viewBox=\"0 0 24 24\"\n",
              "       width=\"24px\">\n",
              "    <path d=\"M0 0h24v24H0V0z\" fill=\"none\"/>\n",
              "    <path d=\"M18.56 5.44l.94 2.06.94-2.06 2.06-.94-2.06-.94-.94-2.06-.94 2.06-2.06.94zm-11 1L8.5 8.5l.94-2.06 2.06-.94-2.06-.94L8.5 2.5l-.94 2.06-2.06.94zm10 10l.94 2.06.94-2.06 2.06-.94-2.06-.94-.94-2.06-.94 2.06-2.06.94z\"/><path d=\"M17.41 7.96l-1.37-1.37c-.4-.4-.92-.59-1.43-.59-.52 0-1.04.2-1.43.59L10.3 9.45l-7.72 7.72c-.78.78-.78 2.05 0 2.83L4 21.41c.39.39.9.59 1.41.59.51 0 1.02-.2 1.41-.59l7.78-7.78 2.81-2.81c.8-.78.8-2.07 0-2.86zM5.41 20L4 18.59l7.72-7.72 1.47 1.35L5.41 20z\"/>\n",
              "  </svg>\n",
              "      </button>\n",
              "      \n",
              "  <style>\n",
              "    .colab-df-container {\n",
              "      display:flex;\n",
              "      flex-wrap:wrap;\n",
              "      gap: 12px;\n",
              "    }\n",
              "\n",
              "    .colab-df-convert {\n",
              "      background-color: #E8F0FE;\n",
              "      border: none;\n",
              "      border-radius: 50%;\n",
              "      cursor: pointer;\n",
              "      display: none;\n",
              "      fill: #1967D2;\n",
              "      height: 32px;\n",
              "      padding: 0 0 0 0;\n",
              "      width: 32px;\n",
              "    }\n",
              "\n",
              "    .colab-df-convert:hover {\n",
              "      background-color: #E2EBFA;\n",
              "      box-shadow: 0px 1px 2px rgba(60, 64, 67, 0.3), 0px 1px 3px 1px rgba(60, 64, 67, 0.15);\n",
              "      fill: #174EA6;\n",
              "    }\n",
              "\n",
              "    [theme=dark] .colab-df-convert {\n",
              "      background-color: #3B4455;\n",
              "      fill: #D2E3FC;\n",
              "    }\n",
              "\n",
              "    [theme=dark] .colab-df-convert:hover {\n",
              "      background-color: #434B5C;\n",
              "      box-shadow: 0px 1px 3px 1px rgba(0, 0, 0, 0.15);\n",
              "      filter: drop-shadow(0px 1px 2px rgba(0, 0, 0, 0.3));\n",
              "      fill: #FFFFFF;\n",
              "    }\n",
              "  </style>\n",
              "\n",
              "      <script>\n",
              "        const buttonEl =\n",
              "          document.querySelector('#df-6e9065b3-93f6-4610-8988-e452d488d85a button.colab-df-convert');\n",
              "        buttonEl.style.display =\n",
              "          google.colab.kernel.accessAllowed ? 'block' : 'none';\n",
              "\n",
              "        async function convertToInteractive(key) {\n",
              "          const element = document.querySelector('#df-6e9065b3-93f6-4610-8988-e452d488d85a');\n",
              "          const dataTable =\n",
              "            await google.colab.kernel.invokeFunction('convertToInteractive',\n",
              "                                                     [key], {});\n",
              "          if (!dataTable) return;\n",
              "\n",
              "          const docLinkHtml = 'Like what you see? Visit the ' +\n",
              "            '<a target=\"_blank\" href=https://colab.research.google.com/notebooks/data_table.ipynb>data table notebook</a>'\n",
              "            + ' to learn more about interactive tables.';\n",
              "          element.innerHTML = '';\n",
              "          dataTable['output_type'] = 'display_data';\n",
              "          await google.colab.output.renderOutput(dataTable, element);\n",
              "          const docLink = document.createElement('div');\n",
              "          docLink.innerHTML = docLinkHtml;\n",
              "          element.appendChild(docLink);\n",
              "        }\n",
              "      </script>\n",
              "    </div>\n",
              "  </div>\n",
              "  "
            ]
          },
          "metadata": {},
          "execution_count": 4
        }
      ]
    },
    {
      "cell_type": "code",
      "source": [
        "print('Number of tweets:', df.shape[0])"
      ],
      "metadata": {
        "colab": {
          "base_uri": "https://localhost:8080/"
        },
        "id": "GnvQ9KYKo5CY",
        "outputId": "aa9f5421-88f3-49ca-deee-5ec37282a4e8"
      },
      "execution_count": null,
      "outputs": [
        {
          "output_type": "stream",
          "name": "stdout",
          "text": [
            "Number of tweets: 550391\n"
          ]
        }
      ]
    },
    {
      "cell_type": "code",
      "source": [
        "#remove emoji\n",
        "df = df.astype(str).apply(lambda x: x.str.encode('ascii', 'ignore').str.decode('ascii'))\n",
        "\n",
        "#Convert to lowercase\n",
        "df['text'] = df['text'].str.lower()\n",
        "\n",
        "#Remove URLs\n",
        "df['text'] = df['text'].replace(r'http\\S+', '', regex=True).replace(r'www\\S+', '', regex=True)\n",
        "\n",
        "#remove punctuations\n",
        "df['text']= df['text'].str.replace('[^\\w\\s]','')"
      ],
      "metadata": {
        "colab": {
          "base_uri": "https://localhost:8080/"
        },
        "id": "WVUHziWBo4_M",
        "outputId": "8f793618-b652-42b8-f995-e5f2bda602af"
      },
      "execution_count": null,
      "outputs": [
        {
          "output_type": "stream",
          "name": "stderr",
          "text": [
            "/usr/local/lib/python3.7/dist-packages/ipykernel_launcher.py:11: FutureWarning: The default value of regex will change from True to False in a future version.\n",
            "  # This is added back by InteractiveShellApp.init_path()\n"
          ]
        }
      ]
    },
    {
      "cell_type": "code",
      "source": [
        "df.head()"
      ],
      "metadata": {
        "colab": {
          "base_uri": "https://localhost:8080/",
          "height": 204
        },
        "id": "sNlgdy6p3xMF",
        "outputId": "498a897f-f761-499d-f040-3e361a0a3c3a"
      },
      "execution_count": null,
      "outputs": [
        {
          "output_type": "execute_result",
          "data": {
            "text/plain": [
              "            ID                                                                                                                     text label\n",
              "0  7.68098e+17                                                     josh jenkins is looking forward to tab breeders crown super sunday       1\n",
              "1  7.68098e+17  rt mianusmanjaved congratulations pakistan on becoming no1testteam in the world against all odds ji_pakzindabadrallies      1\n",
              "2  7.68098e+17   rt pepalerts this september yesmag is taking you to maine mendozas surprise thanksgiving party she threw for her fans      1\n",
              "3  7.68098e+17    rt david_gaibis newly painted walls thanks a million to our custodial painters this summer  great job ladiesec_proud      1\n",
              "4  7.68098e+17                  rt cedricfeschotte excited to announce as of july 2017 feschotte lab will be relocating to cornell mbg      1"
            ],
            "text/html": [
              "\n",
              "  <div id=\"df-52650ccd-e69f-4204-a7e0-b5f063aca68c\">\n",
              "    <div class=\"colab-df-container\">\n",
              "      <div>\n",
              "<style scoped>\n",
              "    .dataframe tbody tr th:only-of-type {\n",
              "        vertical-align: middle;\n",
              "    }\n",
              "\n",
              "    .dataframe tbody tr th {\n",
              "        vertical-align: top;\n",
              "    }\n",
              "\n",
              "    .dataframe thead th {\n",
              "        text-align: right;\n",
              "    }\n",
              "</style>\n",
              "<table border=\"1\" class=\"dataframe\">\n",
              "  <thead>\n",
              "    <tr style=\"text-align: right;\">\n",
              "      <th></th>\n",
              "      <th>ID</th>\n",
              "      <th>text</th>\n",
              "      <th>label</th>\n",
              "    </tr>\n",
              "  </thead>\n",
              "  <tbody>\n",
              "    <tr>\n",
              "      <th>0</th>\n",
              "      <td>7.68098e+17</td>\n",
              "      <td>josh jenkins is looking forward to tab breeders crown super sunday</td>\n",
              "      <td>1</td>\n",
              "    </tr>\n",
              "    <tr>\n",
              "      <th>1</th>\n",
              "      <td>7.68098e+17</td>\n",
              "      <td>rt mianusmanjaved congratulations pakistan on becoming no1testteam in the world against all odds ji_pakzindabadrallies</td>\n",
              "      <td>1</td>\n",
              "    </tr>\n",
              "    <tr>\n",
              "      <th>2</th>\n",
              "      <td>7.68098e+17</td>\n",
              "      <td>rt pepalerts this september yesmag is taking you to maine mendozas surprise thanksgiving party she threw for her fans</td>\n",
              "      <td>1</td>\n",
              "    </tr>\n",
              "    <tr>\n",
              "      <th>3</th>\n",
              "      <td>7.68098e+17</td>\n",
              "      <td>rt david_gaibis newly painted walls thanks a million to our custodial painters this summer  great job ladiesec_proud</td>\n",
              "      <td>1</td>\n",
              "    </tr>\n",
              "    <tr>\n",
              "      <th>4</th>\n",
              "      <td>7.68098e+17</td>\n",
              "      <td>rt cedricfeschotte excited to announce as of july 2017 feschotte lab will be relocating to cornell mbg</td>\n",
              "      <td>1</td>\n",
              "    </tr>\n",
              "  </tbody>\n",
              "</table>\n",
              "</div>\n",
              "      <button class=\"colab-df-convert\" onclick=\"convertToInteractive('df-52650ccd-e69f-4204-a7e0-b5f063aca68c')\"\n",
              "              title=\"Convert this dataframe to an interactive table.\"\n",
              "              style=\"display:none;\">\n",
              "        \n",
              "  <svg xmlns=\"http://www.w3.org/2000/svg\" height=\"24px\"viewBox=\"0 0 24 24\"\n",
              "       width=\"24px\">\n",
              "    <path d=\"M0 0h24v24H0V0z\" fill=\"none\"/>\n",
              "    <path d=\"M18.56 5.44l.94 2.06.94-2.06 2.06-.94-2.06-.94-.94-2.06-.94 2.06-2.06.94zm-11 1L8.5 8.5l.94-2.06 2.06-.94-2.06-.94L8.5 2.5l-.94 2.06-2.06.94zm10 10l.94 2.06.94-2.06 2.06-.94-2.06-.94-.94-2.06-.94 2.06-2.06.94z\"/><path d=\"M17.41 7.96l-1.37-1.37c-.4-.4-.92-.59-1.43-.59-.52 0-1.04.2-1.43.59L10.3 9.45l-7.72 7.72c-.78.78-.78 2.05 0 2.83L4 21.41c.39.39.9.59 1.41.59.51 0 1.02-.2 1.41-.59l7.78-7.78 2.81-2.81c.8-.78.8-2.07 0-2.86zM5.41 20L4 18.59l7.72-7.72 1.47 1.35L5.41 20z\"/>\n",
              "  </svg>\n",
              "      </button>\n",
              "      \n",
              "  <style>\n",
              "    .colab-df-container {\n",
              "      display:flex;\n",
              "      flex-wrap:wrap;\n",
              "      gap: 12px;\n",
              "    }\n",
              "\n",
              "    .colab-df-convert {\n",
              "      background-color: #E8F0FE;\n",
              "      border: none;\n",
              "      border-radius: 50%;\n",
              "      cursor: pointer;\n",
              "      display: none;\n",
              "      fill: #1967D2;\n",
              "      height: 32px;\n",
              "      padding: 0 0 0 0;\n",
              "      width: 32px;\n",
              "    }\n",
              "\n",
              "    .colab-df-convert:hover {\n",
              "      background-color: #E2EBFA;\n",
              "      box-shadow: 0px 1px 2px rgba(60, 64, 67, 0.3), 0px 1px 3px 1px rgba(60, 64, 67, 0.15);\n",
              "      fill: #174EA6;\n",
              "    }\n",
              "\n",
              "    [theme=dark] .colab-df-convert {\n",
              "      background-color: #3B4455;\n",
              "      fill: #D2E3FC;\n",
              "    }\n",
              "\n",
              "    [theme=dark] .colab-df-convert:hover {\n",
              "      background-color: #434B5C;\n",
              "      box-shadow: 0px 1px 3px 1px rgba(0, 0, 0, 0.15);\n",
              "      filter: drop-shadow(0px 1px 2px rgba(0, 0, 0, 0.3));\n",
              "      fill: #FFFFFF;\n",
              "    }\n",
              "  </style>\n",
              "\n",
              "      <script>\n",
              "        const buttonEl =\n",
              "          document.querySelector('#df-52650ccd-e69f-4204-a7e0-b5f063aca68c button.colab-df-convert');\n",
              "        buttonEl.style.display =\n",
              "          google.colab.kernel.accessAllowed ? 'block' : 'none';\n",
              "\n",
              "        async function convertToInteractive(key) {\n",
              "          const element = document.querySelector('#df-52650ccd-e69f-4204-a7e0-b5f063aca68c');\n",
              "          const dataTable =\n",
              "            await google.colab.kernel.invokeFunction('convertToInteractive',\n",
              "                                                     [key], {});\n",
              "          if (!dataTable) return;\n",
              "\n",
              "          const docLinkHtml = 'Like what you see? Visit the ' +\n",
              "            '<a target=\"_blank\" href=https://colab.research.google.com/notebooks/data_table.ipynb>data table notebook</a>'\n",
              "            + ' to learn more about interactive tables.';\n",
              "          element.innerHTML = '';\n",
              "          dataTable['output_type'] = 'display_data';\n",
              "          await google.colab.output.renderOutput(dataTable, element);\n",
              "          const docLink = document.createElement('div');\n",
              "          docLink.innerHTML = docLinkHtml;\n",
              "          element.appendChild(docLink);\n",
              "        }\n",
              "      </script>\n",
              "    </div>\n",
              "  </div>\n",
              "  "
            ]
          },
          "metadata": {},
          "execution_count": 6
        }
      ]
    },
    {
      "cell_type": "code",
      "source": [
        "stop_words = stopwords.words('english')\n",
        "tokenizer = RegexpTokenizer(r'\\w+')\n",
        "lemmatizer = WordNetLemmatizer()"
      ],
      "metadata": {
        "id": "hG36iDO4UOhR"
      },
      "execution_count": 161,
      "outputs": []
    },
    {
      "cell_type": "code",
      "source": [
        "#remove stop words\n",
        "def remove_stopwords(text):\n",
        "  \n",
        "    clean_tokens = [lemmatizer.lemmatize(word) for word in tokenizer.tokenize(text) if word not in stop_words]\n",
        "    tweet_clean = (' ').join(clean_tokens) # join tokens back to string\n",
        "    return tweet_clean"
      ],
      "metadata": {
        "id": "Voc4f2F9QiXX"
      },
      "execution_count": null,
      "outputs": []
    },
    {
      "cell_type": "code",
      "source": [
        "#apply function of removing stopwords\n",
        "df['text'] = df['text'].apply(str)\n",
        "df['text'] = df.apply(lambda row: remove_stopwords(row['text']), axis=1)\n",
        "df.head(10)"
      ],
      "metadata": {
        "colab": {
          "base_uri": "https://localhost:8080/",
          "height": 359
        },
        "id": "HwVBVvz7RMmN",
        "outputId": "38d1fded-df77-49bc-f9d8-b1e1e9d2ace5"
      },
      "execution_count": null,
      "outputs": [
        {
          "output_type": "execute_result",
          "data": {
            "text/plain": [
              "            ID                                                                                                                text label\n",
              "0  7.68098e+17                                                         josh jenkins looking forward tab breeder crown super sunday     1\n",
              "1  7.68098e+17                     rt mianusmanjaved congratulation pakistan becoming no1testteam world odds ji_pakzindabadrallies     1\n",
              "2  7.68098e+17                           rt pepalerts september yesmag taking maine mendozas surprise thanksgiving party threw fan     1\n",
              "3  7.68098e+17                 rt david_gaibis newly painted wall thanks million custodial painter summer great job ladiesec_proud     1\n",
              "4  7.68098e+17                                  rt cedricfeschotte excited announce july 2017 feschotte lab relocating cornell mbg     1\n",
              "5  7.68098e+17                                                                                    rt sh4wnsmile excited illuminate     1\n",
              "6  7.68098e+17  rt kendallhuntrpd firstdayofschool student amp teacher good luck successful 201617 school year educationmatters ht     1\n",
              "7  7.68098e+17                                                             rt bantysrkian srk kajol making ddlj song greatest ever     1\n",
              "8  7.68098e+17                                                                                           rt gayhopper_com im happy     1\n",
              "9  7.68098e+17                                     rt starcinema kathryn daniel share memorable experience barcelona see interview     1"
            ],
            "text/html": [
              "\n",
              "  <div id=\"df-4a5a4fc1-1b6f-48e7-91b8-6c6e9a7636b0\">\n",
              "    <div class=\"colab-df-container\">\n",
              "      <div>\n",
              "<style scoped>\n",
              "    .dataframe tbody tr th:only-of-type {\n",
              "        vertical-align: middle;\n",
              "    }\n",
              "\n",
              "    .dataframe tbody tr th {\n",
              "        vertical-align: top;\n",
              "    }\n",
              "\n",
              "    .dataframe thead th {\n",
              "        text-align: right;\n",
              "    }\n",
              "</style>\n",
              "<table border=\"1\" class=\"dataframe\">\n",
              "  <thead>\n",
              "    <tr style=\"text-align: right;\">\n",
              "      <th></th>\n",
              "      <th>ID</th>\n",
              "      <th>text</th>\n",
              "      <th>label</th>\n",
              "    </tr>\n",
              "  </thead>\n",
              "  <tbody>\n",
              "    <tr>\n",
              "      <th>0</th>\n",
              "      <td>7.68098e+17</td>\n",
              "      <td>josh jenkins looking forward tab breeder crown super sunday</td>\n",
              "      <td>1</td>\n",
              "    </tr>\n",
              "    <tr>\n",
              "      <th>1</th>\n",
              "      <td>7.68098e+17</td>\n",
              "      <td>rt mianusmanjaved congratulation pakistan becoming no1testteam world odds ji_pakzindabadrallies</td>\n",
              "      <td>1</td>\n",
              "    </tr>\n",
              "    <tr>\n",
              "      <th>2</th>\n",
              "      <td>7.68098e+17</td>\n",
              "      <td>rt pepalerts september yesmag taking maine mendozas surprise thanksgiving party threw fan</td>\n",
              "      <td>1</td>\n",
              "    </tr>\n",
              "    <tr>\n",
              "      <th>3</th>\n",
              "      <td>7.68098e+17</td>\n",
              "      <td>rt david_gaibis newly painted wall thanks million custodial painter summer great job ladiesec_proud</td>\n",
              "      <td>1</td>\n",
              "    </tr>\n",
              "    <tr>\n",
              "      <th>4</th>\n",
              "      <td>7.68098e+17</td>\n",
              "      <td>rt cedricfeschotte excited announce july 2017 feschotte lab relocating cornell mbg</td>\n",
              "      <td>1</td>\n",
              "    </tr>\n",
              "    <tr>\n",
              "      <th>5</th>\n",
              "      <td>7.68098e+17</td>\n",
              "      <td>rt sh4wnsmile excited illuminate</td>\n",
              "      <td>1</td>\n",
              "    </tr>\n",
              "    <tr>\n",
              "      <th>6</th>\n",
              "      <td>7.68098e+17</td>\n",
              "      <td>rt kendallhuntrpd firstdayofschool student amp teacher good luck successful 201617 school year educationmatters ht</td>\n",
              "      <td>1</td>\n",
              "    </tr>\n",
              "    <tr>\n",
              "      <th>7</th>\n",
              "      <td>7.68098e+17</td>\n",
              "      <td>rt bantysrkian srk kajol making ddlj song greatest ever</td>\n",
              "      <td>1</td>\n",
              "    </tr>\n",
              "    <tr>\n",
              "      <th>8</th>\n",
              "      <td>7.68098e+17</td>\n",
              "      <td>rt gayhopper_com im happy</td>\n",
              "      <td>1</td>\n",
              "    </tr>\n",
              "    <tr>\n",
              "      <th>9</th>\n",
              "      <td>7.68098e+17</td>\n",
              "      <td>rt starcinema kathryn daniel share memorable experience barcelona see interview</td>\n",
              "      <td>1</td>\n",
              "    </tr>\n",
              "  </tbody>\n",
              "</table>\n",
              "</div>\n",
              "      <button class=\"colab-df-convert\" onclick=\"convertToInteractive('df-4a5a4fc1-1b6f-48e7-91b8-6c6e9a7636b0')\"\n",
              "              title=\"Convert this dataframe to an interactive table.\"\n",
              "              style=\"display:none;\">\n",
              "        \n",
              "  <svg xmlns=\"http://www.w3.org/2000/svg\" height=\"24px\"viewBox=\"0 0 24 24\"\n",
              "       width=\"24px\">\n",
              "    <path d=\"M0 0h24v24H0V0z\" fill=\"none\"/>\n",
              "    <path d=\"M18.56 5.44l.94 2.06.94-2.06 2.06-.94-2.06-.94-.94-2.06-.94 2.06-2.06.94zm-11 1L8.5 8.5l.94-2.06 2.06-.94-2.06-.94L8.5 2.5l-.94 2.06-2.06.94zm10 10l.94 2.06.94-2.06 2.06-.94-2.06-.94-.94-2.06-.94 2.06-2.06.94z\"/><path d=\"M17.41 7.96l-1.37-1.37c-.4-.4-.92-.59-1.43-.59-.52 0-1.04.2-1.43.59L10.3 9.45l-7.72 7.72c-.78.78-.78 2.05 0 2.83L4 21.41c.39.39.9.59 1.41.59.51 0 1.02-.2 1.41-.59l7.78-7.78 2.81-2.81c.8-.78.8-2.07 0-2.86zM5.41 20L4 18.59l7.72-7.72 1.47 1.35L5.41 20z\"/>\n",
              "  </svg>\n",
              "      </button>\n",
              "      \n",
              "  <style>\n",
              "    .colab-df-container {\n",
              "      display:flex;\n",
              "      flex-wrap:wrap;\n",
              "      gap: 12px;\n",
              "    }\n",
              "\n",
              "    .colab-df-convert {\n",
              "      background-color: #E8F0FE;\n",
              "      border: none;\n",
              "      border-radius: 50%;\n",
              "      cursor: pointer;\n",
              "      display: none;\n",
              "      fill: #1967D2;\n",
              "      height: 32px;\n",
              "      padding: 0 0 0 0;\n",
              "      width: 32px;\n",
              "    }\n",
              "\n",
              "    .colab-df-convert:hover {\n",
              "      background-color: #E2EBFA;\n",
              "      box-shadow: 0px 1px 2px rgba(60, 64, 67, 0.3), 0px 1px 3px 1px rgba(60, 64, 67, 0.15);\n",
              "      fill: #174EA6;\n",
              "    }\n",
              "\n",
              "    [theme=dark] .colab-df-convert {\n",
              "      background-color: #3B4455;\n",
              "      fill: #D2E3FC;\n",
              "    }\n",
              "\n",
              "    [theme=dark] .colab-df-convert:hover {\n",
              "      background-color: #434B5C;\n",
              "      box-shadow: 0px 1px 3px 1px rgba(0, 0, 0, 0.15);\n",
              "      filter: drop-shadow(0px 1px 2px rgba(0, 0, 0, 0.3));\n",
              "      fill: #FFFFFF;\n",
              "    }\n",
              "  </style>\n",
              "\n",
              "      <script>\n",
              "        const buttonEl =\n",
              "          document.querySelector('#df-4a5a4fc1-1b6f-48e7-91b8-6c6e9a7636b0 button.colab-df-convert');\n",
              "        buttonEl.style.display =\n",
              "          google.colab.kernel.accessAllowed ? 'block' : 'none';\n",
              "\n",
              "        async function convertToInteractive(key) {\n",
              "          const element = document.querySelector('#df-4a5a4fc1-1b6f-48e7-91b8-6c6e9a7636b0');\n",
              "          const dataTable =\n",
              "            await google.colab.kernel.invokeFunction('convertToInteractive',\n",
              "                                                     [key], {});\n",
              "          if (!dataTable) return;\n",
              "\n",
              "          const docLinkHtml = 'Like what you see? Visit the ' +\n",
              "            '<a target=\"_blank\" href=https://colab.research.google.com/notebooks/data_table.ipynb>data table notebook</a>'\n",
              "            + ' to learn more about interactive tables.';\n",
              "          element.innerHTML = '';\n",
              "          dataTable['output_type'] = 'display_data';\n",
              "          await google.colab.output.renderOutput(dataTable, element);\n",
              "          const docLink = document.createElement('div');\n",
              "          docLink.innerHTML = docLinkHtml;\n",
              "          element.appendChild(docLink);\n",
              "        }\n",
              "      </script>\n",
              "    </div>\n",
              "  </div>\n",
              "  "
            ]
          },
          "metadata": {},
          "execution_count": 8
        }
      ]
    },
    {
      "cell_type": "markdown",
      "source": [
        "## Data cleaning for the second dataset"
      ],
      "metadata": {
        "id": "-awNhhUHRdxW"
      }
    },
    {
      "cell_type": "code",
      "source": [
        "neg_df = pd.read_csv('Canadian_elections_2021.csv')\n",
        "print('Number of tweets:', neg_df.shape[0])"
      ],
      "metadata": {
        "colab": {
          "base_uri": "https://localhost:8080/"
        },
        "id": "O4XQNMAHRnnt",
        "outputId": "493dc52d-9e4d-4414-9c9a-b4c15d87ab9b"
      },
      "execution_count": null,
      "outputs": [
        {
          "output_type": "stream",
          "name": "stdout",
          "text": [
            "Number of tweets: 1002\n"
          ]
        }
      ]
    },
    {
      "cell_type": "code",
      "source": [
        "neg_df.head(10)"
      ],
      "metadata": {
        "colab": {
          "base_uri": "https://localhost:8080/",
          "height": 573
        },
        "id": "hqjneFr0SvdJ",
        "outputId": "0699ec3a-7aca-40cb-ffa9-eb7d2e5bd0be"
      },
      "execution_count": null,
      "outputs": [
        {
          "output_type": "execute_result",
          "data": {
            "text/plain": [
              "                                                                                                                                                                                                                                                                                               text sentiment         negative_reason\n",
              "0             The Canadian election is a power grab by PM Trudeau, yes -- to take it away from the opposition leaders who have chosen obstruction (20 non-confidence motions) and disinformation in the middle of a worldwide pandemic. Yes, no one wanted a vote; the opposition antics forced it.  negative  calling election early\n",
              "1               I do hope Trudeau loses the Canadian election tomorrow , called a snap one thinking he’d romp it.. Seems the people there don’t like a Black face hypocrite, super wokist &amp; COVID restriction groupie..  Let’s hope the polls are right, might make our Government think again.  negative                  covid \n",
              "2       Dear Canadians, This election is a test of how progressive we are. Whether we stand by science, women’s and BIPOC rights, equality, public healthcare &amp; education, the environment. Whether we stand up against hate. We have so much to lose. Don’t let us fall back. #cdnpoli #elxn44  positive                     NaN\n",
              "3          Canadian friends: Never forget that Trudeau had 2 more years on his mandate + called a completely unnecessary election right when vaccine mandates were being rolled out - a moment of extreme political volatility. He gambled the country all so he could be less accountable. #Elxn44  negative  calling election early\n",
              "4            Sorry @theJagmeetSingh I have voted #NDP all my life but in this election I am fighting for my freedoms as a Canadian. I voted last Saturday for @MaxineBernier of the @peoplespca #ppc #VotePPC2021 #VoteForHumanRights #voteforfreedom #maximebernier #PurpleReign #freedom 🇨🇦💜🇨🇦💜🇨🇦  positive                     NaN\n",
              "5  Vaccines &amp; guns are key this election because O'Toole has no serious plan to get all Canadians vaccinated (he can't even get his candidates vaccinated) &amp; he is playing games on guns so he can deliver for the fun lobby.  But many Canadians (and for me), climate is the issue. So...  negative                  covid \n",
              "6                  I’m sorry, moderators can respond but leadership candidates can’t?   This debate is a farce and frankly a disservice to Canadians, and after the awful 2019 formats I hope the next election we see new moderation format. They’ve had two goes, that’s enough. #elxn44 #cdnpoli  negative                  others\n",
              "7            I have to say this. I've been skeptical and critical of mainstream Canadian journalism, but I have never seen this level of trying to choose the winner/influence the outcome of an election as I have with this one. I feel objectivity is a lost art for many in #cdnmedia. #cdnpoli  negative                  others\n",
              "8          If Canadians #VotePPC and support @MaximeBernier that would be a blow to the UN and the Globalists and The Great Reset and Agenda 2030!  It could also be a catalyst for freedom that countries around the world (including the US) would respond too!  This election is that important!  positive                     NaN\n",
              "9            Justin Trudeau literally had rocks thrown at him yet continued showing &amp; answered questions during an election campaign.  Erin O’Toole? Hiding from the media the day before an election because he doesn’t want to answer to the legitimate concerns that Canadians have. #elxn44  positive                     NaN"
            ],
            "text/html": [
              "\n",
              "  <div id=\"df-462c5f67-4e83-467b-bd82-45f85f8967af\">\n",
              "    <div class=\"colab-df-container\">\n",
              "      <div>\n",
              "<style scoped>\n",
              "    .dataframe tbody tr th:only-of-type {\n",
              "        vertical-align: middle;\n",
              "    }\n",
              "\n",
              "    .dataframe tbody tr th {\n",
              "        vertical-align: top;\n",
              "    }\n",
              "\n",
              "    .dataframe thead th {\n",
              "        text-align: right;\n",
              "    }\n",
              "</style>\n",
              "<table border=\"1\" class=\"dataframe\">\n",
              "  <thead>\n",
              "    <tr style=\"text-align: right;\">\n",
              "      <th></th>\n",
              "      <th>text</th>\n",
              "      <th>sentiment</th>\n",
              "      <th>negative_reason</th>\n",
              "    </tr>\n",
              "  </thead>\n",
              "  <tbody>\n",
              "    <tr>\n",
              "      <th>0</th>\n",
              "      <td>The Canadian election is a power grab by PM Trudeau, yes -- to take it away from the opposition leaders who have chosen obstruction (20 non-confidence motions) and disinformation in the middle of a worldwide pandemic. Yes, no one wanted a vote; the opposition antics forced it.</td>\n",
              "      <td>negative</td>\n",
              "      <td>calling election early</td>\n",
              "    </tr>\n",
              "    <tr>\n",
              "      <th>1</th>\n",
              "      <td>I do hope Trudeau loses the Canadian election tomorrow , called a snap one thinking he’d romp it.. Seems the people there don’t like a Black face hypocrite, super wokist &amp;amp; COVID restriction groupie..  Let’s hope the polls are right, might make our Government think again.</td>\n",
              "      <td>negative</td>\n",
              "      <td>covid</td>\n",
              "    </tr>\n",
              "    <tr>\n",
              "      <th>2</th>\n",
              "      <td>Dear Canadians, This election is a test of how progressive we are. Whether we stand by science, women’s and BIPOC rights, equality, public healthcare &amp;amp; education, the environment. Whether we stand up against hate. We have so much to lose. Don’t let us fall back. #cdnpoli #elxn44</td>\n",
              "      <td>positive</td>\n",
              "      <td>NaN</td>\n",
              "    </tr>\n",
              "    <tr>\n",
              "      <th>3</th>\n",
              "      <td>Canadian friends: Never forget that Trudeau had 2 more years on his mandate + called a completely unnecessary election right when vaccine mandates were being rolled out - a moment of extreme political volatility. He gambled the country all so he could be less accountable. #Elxn44</td>\n",
              "      <td>negative</td>\n",
              "      <td>calling election early</td>\n",
              "    </tr>\n",
              "    <tr>\n",
              "      <th>4</th>\n",
              "      <td>Sorry @theJagmeetSingh I have voted #NDP all my life but in this election I am fighting for my freedoms as a Canadian. I voted last Saturday for @MaxineBernier of the @peoplespca #ppc #VotePPC2021 #VoteForHumanRights #voteforfreedom #maximebernier #PurpleReign #freedom 🇨🇦💜🇨🇦💜🇨🇦</td>\n",
              "      <td>positive</td>\n",
              "      <td>NaN</td>\n",
              "    </tr>\n",
              "    <tr>\n",
              "      <th>5</th>\n",
              "      <td>Vaccines &amp;amp; guns are key this election because O'Toole has no serious plan to get all Canadians vaccinated (he can't even get his candidates vaccinated) &amp;amp; he is playing games on guns so he can deliver for the fun lobby.  But many Canadians (and for me), climate is the issue. So...</td>\n",
              "      <td>negative</td>\n",
              "      <td>covid</td>\n",
              "    </tr>\n",
              "    <tr>\n",
              "      <th>6</th>\n",
              "      <td>I’m sorry, moderators can respond but leadership candidates can’t?   This debate is a farce and frankly a disservice to Canadians, and after the awful 2019 formats I hope the next election we see new moderation format. They’ve had two goes, that’s enough. #elxn44 #cdnpoli</td>\n",
              "      <td>negative</td>\n",
              "      <td>others</td>\n",
              "    </tr>\n",
              "    <tr>\n",
              "      <th>7</th>\n",
              "      <td>I have to say this. I've been skeptical and critical of mainstream Canadian journalism, but I have never seen this level of trying to choose the winner/influence the outcome of an election as I have with this one. I feel objectivity is a lost art for many in #cdnmedia. #cdnpoli</td>\n",
              "      <td>negative</td>\n",
              "      <td>others</td>\n",
              "    </tr>\n",
              "    <tr>\n",
              "      <th>8</th>\n",
              "      <td>If Canadians #VotePPC and support @MaximeBernier that would be a blow to the UN and the Globalists and The Great Reset and Agenda 2030!  It could also be a catalyst for freedom that countries around the world (including the US) would respond too!  This election is that important!</td>\n",
              "      <td>positive</td>\n",
              "      <td>NaN</td>\n",
              "    </tr>\n",
              "    <tr>\n",
              "      <th>9</th>\n",
              "      <td>Justin Trudeau literally had rocks thrown at him yet continued showing &amp;amp; answered questions during an election campaign.  Erin O’Toole? Hiding from the media the day before an election because he doesn’t want to answer to the legitimate concerns that Canadians have. #elxn44</td>\n",
              "      <td>positive</td>\n",
              "      <td>NaN</td>\n",
              "    </tr>\n",
              "  </tbody>\n",
              "</table>\n",
              "</div>\n",
              "      <button class=\"colab-df-convert\" onclick=\"convertToInteractive('df-462c5f67-4e83-467b-bd82-45f85f8967af')\"\n",
              "              title=\"Convert this dataframe to an interactive table.\"\n",
              "              style=\"display:none;\">\n",
              "        \n",
              "  <svg xmlns=\"http://www.w3.org/2000/svg\" height=\"24px\"viewBox=\"0 0 24 24\"\n",
              "       width=\"24px\">\n",
              "    <path d=\"M0 0h24v24H0V0z\" fill=\"none\"/>\n",
              "    <path d=\"M18.56 5.44l.94 2.06.94-2.06 2.06-.94-2.06-.94-.94-2.06-.94 2.06-2.06.94zm-11 1L8.5 8.5l.94-2.06 2.06-.94-2.06-.94L8.5 2.5l-.94 2.06-2.06.94zm10 10l.94 2.06.94-2.06 2.06-.94-2.06-.94-.94-2.06-.94 2.06-2.06.94z\"/><path d=\"M17.41 7.96l-1.37-1.37c-.4-.4-.92-.59-1.43-.59-.52 0-1.04.2-1.43.59L10.3 9.45l-7.72 7.72c-.78.78-.78 2.05 0 2.83L4 21.41c.39.39.9.59 1.41.59.51 0 1.02-.2 1.41-.59l7.78-7.78 2.81-2.81c.8-.78.8-2.07 0-2.86zM5.41 20L4 18.59l7.72-7.72 1.47 1.35L5.41 20z\"/>\n",
              "  </svg>\n",
              "      </button>\n",
              "      \n",
              "  <style>\n",
              "    .colab-df-container {\n",
              "      display:flex;\n",
              "      flex-wrap:wrap;\n",
              "      gap: 12px;\n",
              "    }\n",
              "\n",
              "    .colab-df-convert {\n",
              "      background-color: #E8F0FE;\n",
              "      border: none;\n",
              "      border-radius: 50%;\n",
              "      cursor: pointer;\n",
              "      display: none;\n",
              "      fill: #1967D2;\n",
              "      height: 32px;\n",
              "      padding: 0 0 0 0;\n",
              "      width: 32px;\n",
              "    }\n",
              "\n",
              "    .colab-df-convert:hover {\n",
              "      background-color: #E2EBFA;\n",
              "      box-shadow: 0px 1px 2px rgba(60, 64, 67, 0.3), 0px 1px 3px 1px rgba(60, 64, 67, 0.15);\n",
              "      fill: #174EA6;\n",
              "    }\n",
              "\n",
              "    [theme=dark] .colab-df-convert {\n",
              "      background-color: #3B4455;\n",
              "      fill: #D2E3FC;\n",
              "    }\n",
              "\n",
              "    [theme=dark] .colab-df-convert:hover {\n",
              "      background-color: #434B5C;\n",
              "      box-shadow: 0px 1px 3px 1px rgba(0, 0, 0, 0.15);\n",
              "      filter: drop-shadow(0px 1px 2px rgba(0, 0, 0, 0.3));\n",
              "      fill: #FFFFFF;\n",
              "    }\n",
              "  </style>\n",
              "\n",
              "      <script>\n",
              "        const buttonEl =\n",
              "          document.querySelector('#df-462c5f67-4e83-467b-bd82-45f85f8967af button.colab-df-convert');\n",
              "        buttonEl.style.display =\n",
              "          google.colab.kernel.accessAllowed ? 'block' : 'none';\n",
              "\n",
              "        async function convertToInteractive(key) {\n",
              "          const element = document.querySelector('#df-462c5f67-4e83-467b-bd82-45f85f8967af');\n",
              "          const dataTable =\n",
              "            await google.colab.kernel.invokeFunction('convertToInteractive',\n",
              "                                                     [key], {});\n",
              "          if (!dataTable) return;\n",
              "\n",
              "          const docLinkHtml = 'Like what you see? Visit the ' +\n",
              "            '<a target=\"_blank\" href=https://colab.research.google.com/notebooks/data_table.ipynb>data table notebook</a>'\n",
              "            + ' to learn more about interactive tables.';\n",
              "          element.innerHTML = '';\n",
              "          dataTable['output_type'] = 'display_data';\n",
              "          await google.colab.output.renderOutput(dataTable, element);\n",
              "          const docLink = document.createElement('div');\n",
              "          docLink.innerHTML = docLinkHtml;\n",
              "          element.appendChild(docLink);\n",
              "        }\n",
              "      </script>\n",
              "    </div>\n",
              "  </div>\n",
              "  "
            ]
          },
          "metadata": {},
          "execution_count": 10
        }
      ]
    },
    {
      "cell_type": "code",
      "source": [
        "#remove emoji\n",
        "neg_df_clean = neg_df.astype(str).apply(lambda x: x.str.encode('ascii', 'ignore').str.decode('ascii'))\n",
        "\n",
        "#Convert to lowercase\n",
        "neg_df_clean['text'] = neg_df_clean['text'].str.lower()\n",
        "\n",
        "#Remove URLs\n",
        "neg_df_clean['text'] = neg_df_clean['text'].replace(r'http\\S+', '', regex=True).replace(r'www\\S+', '', regex=True)\n",
        "\n",
        "#remove punctuations\n",
        "neg_df_clean['text']= neg_df_clean['text'].str.replace('[^\\w\\s]','')"
      ],
      "metadata": {
        "colab": {
          "base_uri": "https://localhost:8080/"
        },
        "id": "39NLlgVMRnik",
        "outputId": "a77cb020-7145-4160-c27e-4edabd1baba5"
      },
      "execution_count": null,
      "outputs": [
        {
          "output_type": "stream",
          "name": "stderr",
          "text": [
            "/usr/local/lib/python3.7/dist-packages/ipykernel_launcher.py:11: FutureWarning: The default value of regex will change from True to False in a future version.\n",
            "  # This is added back by InteractiveShellApp.init_path()\n"
          ]
        }
      ]
    },
    {
      "cell_type": "code",
      "source": [
        "#remove stopwords\n",
        "neg_df_clean['text'] = neg_df_clean['text'].apply(str)\n",
        "neg_df_clean['text'] = neg_df_clean.apply(lambda row: remove_stopwords(row['text']), axis=1)\n",
        "neg_df_clean.sample(10)"
      ],
      "metadata": {
        "colab": {
          "base_uri": "https://localhost:8080/",
          "height": 471
        },
        "id": "tC2eeRZaTNUr",
        "outputId": "c857c0cf-596b-48f1-83d1-c3095a4d27c0"
      },
      "execution_count": null,
      "outputs": [
        {
          "output_type": "execute_result",
          "data": {
            "text/plain": [
              "                                                                                                                                                                                text sentiment negative_reason\n",
              "337  pat_from_scarb pxlx02 remember really happened otoole got hammered debate know truth say first dont hide ignore rightwing radio dont watch canadian msm amp neither great night  positive             nan\n",
              "269                                                                                                     canadian justice amp peace middle east election guide 2021 report card party  positive             nan\n",
              "466                                                                           erin otoole spent day preparing use hand like justin trudeau previous debate lol cdnpoli polcan elxn44  positive             nan\n",
              "993                                                                                                             ffs stop shit lie much otoole ffs shameful journalist mercedesglobal  negative       tell lies\n",
              "766                                                                                               bought first bag milk since citizenship make feel canadian voting federal election  positive             nan\n",
              "290                                                                                                                                    pattyhajdu thats free country wtg erin otoole  positive             nan\n",
              "32     true strategic voting advice believe canadian freedom attack want vote count save countrythen recognize fact liberal set win minority election voting conservative change 1 5  positive             nan\n",
              "171                                 great leader major political party come together middle election campaign encourage canadian get together thanks thejagmeetsingh getting started  positive             nan\n",
              "994                                           rohaniroop callmechris316 cbcalerts vanity election poor guy wasted 600 million dollar lost power killing getting canadian sick leader  negative          others\n",
              "833                                                                                                                                                       6 year mr trudeau lot debt  negative         economy"
            ],
            "text/html": [
              "\n",
              "  <div id=\"df-46062bb2-a666-46e9-ac05-deec421c1fda\">\n",
              "    <div class=\"colab-df-container\">\n",
              "      <div>\n",
              "<style scoped>\n",
              "    .dataframe tbody tr th:only-of-type {\n",
              "        vertical-align: middle;\n",
              "    }\n",
              "\n",
              "    .dataframe tbody tr th {\n",
              "        vertical-align: top;\n",
              "    }\n",
              "\n",
              "    .dataframe thead th {\n",
              "        text-align: right;\n",
              "    }\n",
              "</style>\n",
              "<table border=\"1\" class=\"dataframe\">\n",
              "  <thead>\n",
              "    <tr style=\"text-align: right;\">\n",
              "      <th></th>\n",
              "      <th>text</th>\n",
              "      <th>sentiment</th>\n",
              "      <th>negative_reason</th>\n",
              "    </tr>\n",
              "  </thead>\n",
              "  <tbody>\n",
              "    <tr>\n",
              "      <th>337</th>\n",
              "      <td>pat_from_scarb pxlx02 remember really happened otoole got hammered debate know truth say first dont hide ignore rightwing radio dont watch canadian msm amp neither great night</td>\n",
              "      <td>positive</td>\n",
              "      <td>nan</td>\n",
              "    </tr>\n",
              "    <tr>\n",
              "      <th>269</th>\n",
              "      <td>canadian justice amp peace middle east election guide 2021 report card party</td>\n",
              "      <td>positive</td>\n",
              "      <td>nan</td>\n",
              "    </tr>\n",
              "    <tr>\n",
              "      <th>466</th>\n",
              "      <td>erin otoole spent day preparing use hand like justin trudeau previous debate lol cdnpoli polcan elxn44</td>\n",
              "      <td>positive</td>\n",
              "      <td>nan</td>\n",
              "    </tr>\n",
              "    <tr>\n",
              "      <th>993</th>\n",
              "      <td>ffs stop shit lie much otoole ffs shameful journalist mercedesglobal</td>\n",
              "      <td>negative</td>\n",
              "      <td>tell lies</td>\n",
              "    </tr>\n",
              "    <tr>\n",
              "      <th>766</th>\n",
              "      <td>bought first bag milk since citizenship make feel canadian voting federal election</td>\n",
              "      <td>positive</td>\n",
              "      <td>nan</td>\n",
              "    </tr>\n",
              "    <tr>\n",
              "      <th>290</th>\n",
              "      <td>pattyhajdu thats free country wtg erin otoole</td>\n",
              "      <td>positive</td>\n",
              "      <td>nan</td>\n",
              "    </tr>\n",
              "    <tr>\n",
              "      <th>32</th>\n",
              "      <td>true strategic voting advice believe canadian freedom attack want vote count save countrythen recognize fact liberal set win minority election voting conservative change 1 5</td>\n",
              "      <td>positive</td>\n",
              "      <td>nan</td>\n",
              "    </tr>\n",
              "    <tr>\n",
              "      <th>171</th>\n",
              "      <td>great leader major political party come together middle election campaign encourage canadian get together thanks thejagmeetsingh getting started</td>\n",
              "      <td>positive</td>\n",
              "      <td>nan</td>\n",
              "    </tr>\n",
              "    <tr>\n",
              "      <th>994</th>\n",
              "      <td>rohaniroop callmechris316 cbcalerts vanity election poor guy wasted 600 million dollar lost power killing getting canadian sick leader</td>\n",
              "      <td>negative</td>\n",
              "      <td>others</td>\n",
              "    </tr>\n",
              "    <tr>\n",
              "      <th>833</th>\n",
              "      <td>6 year mr trudeau lot debt</td>\n",
              "      <td>negative</td>\n",
              "      <td>economy</td>\n",
              "    </tr>\n",
              "  </tbody>\n",
              "</table>\n",
              "</div>\n",
              "      <button class=\"colab-df-convert\" onclick=\"convertToInteractive('df-46062bb2-a666-46e9-ac05-deec421c1fda')\"\n",
              "              title=\"Convert this dataframe to an interactive table.\"\n",
              "              style=\"display:none;\">\n",
              "        \n",
              "  <svg xmlns=\"http://www.w3.org/2000/svg\" height=\"24px\"viewBox=\"0 0 24 24\"\n",
              "       width=\"24px\">\n",
              "    <path d=\"M0 0h24v24H0V0z\" fill=\"none\"/>\n",
              "    <path d=\"M18.56 5.44l.94 2.06.94-2.06 2.06-.94-2.06-.94-.94-2.06-.94 2.06-2.06.94zm-11 1L8.5 8.5l.94-2.06 2.06-.94-2.06-.94L8.5 2.5l-.94 2.06-2.06.94zm10 10l.94 2.06.94-2.06 2.06-.94-2.06-.94-.94-2.06-.94 2.06-2.06.94z\"/><path d=\"M17.41 7.96l-1.37-1.37c-.4-.4-.92-.59-1.43-.59-.52 0-1.04.2-1.43.59L10.3 9.45l-7.72 7.72c-.78.78-.78 2.05 0 2.83L4 21.41c.39.39.9.59 1.41.59.51 0 1.02-.2 1.41-.59l7.78-7.78 2.81-2.81c.8-.78.8-2.07 0-2.86zM5.41 20L4 18.59l7.72-7.72 1.47 1.35L5.41 20z\"/>\n",
              "  </svg>\n",
              "      </button>\n",
              "      \n",
              "  <style>\n",
              "    .colab-df-container {\n",
              "      display:flex;\n",
              "      flex-wrap:wrap;\n",
              "      gap: 12px;\n",
              "    }\n",
              "\n",
              "    .colab-df-convert {\n",
              "      background-color: #E8F0FE;\n",
              "      border: none;\n",
              "      border-radius: 50%;\n",
              "      cursor: pointer;\n",
              "      display: none;\n",
              "      fill: #1967D2;\n",
              "      height: 32px;\n",
              "      padding: 0 0 0 0;\n",
              "      width: 32px;\n",
              "    }\n",
              "\n",
              "    .colab-df-convert:hover {\n",
              "      background-color: #E2EBFA;\n",
              "      box-shadow: 0px 1px 2px rgba(60, 64, 67, 0.3), 0px 1px 3px 1px rgba(60, 64, 67, 0.15);\n",
              "      fill: #174EA6;\n",
              "    }\n",
              "\n",
              "    [theme=dark] .colab-df-convert {\n",
              "      background-color: #3B4455;\n",
              "      fill: #D2E3FC;\n",
              "    }\n",
              "\n",
              "    [theme=dark] .colab-df-convert:hover {\n",
              "      background-color: #434B5C;\n",
              "      box-shadow: 0px 1px 3px 1px rgba(0, 0, 0, 0.15);\n",
              "      filter: drop-shadow(0px 1px 2px rgba(0, 0, 0, 0.3));\n",
              "      fill: #FFFFFF;\n",
              "    }\n",
              "  </style>\n",
              "\n",
              "      <script>\n",
              "        const buttonEl =\n",
              "          document.querySelector('#df-46062bb2-a666-46e9-ac05-deec421c1fda button.colab-df-convert');\n",
              "        buttonEl.style.display =\n",
              "          google.colab.kernel.accessAllowed ? 'block' : 'none';\n",
              "\n",
              "        async function convertToInteractive(key) {\n",
              "          const element = document.querySelector('#df-46062bb2-a666-46e9-ac05-deec421c1fda');\n",
              "          const dataTable =\n",
              "            await google.colab.kernel.invokeFunction('convertToInteractive',\n",
              "                                                     [key], {});\n",
              "          if (!dataTable) return;\n",
              "\n",
              "          const docLinkHtml = 'Like what you see? Visit the ' +\n",
              "            '<a target=\"_blank\" href=https://colab.research.google.com/notebooks/data_table.ipynb>data table notebook</a>'\n",
              "            + ' to learn more about interactive tables.';\n",
              "          element.innerHTML = '';\n",
              "          dataTable['output_type'] = 'display_data';\n",
              "          await google.colab.output.renderOutput(dataTable, element);\n",
              "          const docLink = document.createElement('div');\n",
              "          docLink.innerHTML = docLinkHtml;\n",
              "          element.appendChild(docLink);\n",
              "        }\n",
              "      </script>\n",
              "    </div>\n",
              "  </div>\n",
              "  "
            ]
          },
          "metadata": {},
          "execution_count": 11
        }
      ]
    },
    {
      "cell_type": "markdown",
      "source": [
        "# Part 2: Exploratory Data Analysis"
      ],
      "metadata": {
        "id": "98ri0vDcG-Se"
      }
    },
    {
      "cell_type": "markdown",
      "source": [
        "Find top k words from all tweets for each dataset to have a glance and pick the useful hashtags"
      ],
      "metadata": {
        "id": "hVaTUl48WqWs"
      }
    },
    {
      "cell_type": "code",
      "source": [
        "#use the uncleaned data to pull the key words and hashtags\n",
        "allTweets = neg_df[\"text\"].str.cat(sep=' ')\n",
        "tweetWords = [word.strip(\"\"\" ,.:'\\\";\"\"\").lower() for word in allTweets.split()]\n",
        "\n",
        "#extract the most frequent hashtags\n",
        "hashtags = [word for word in tweetWords if word.startswith(\"#\")]\n",
        "hashtagsCounter = Counter(hashtags)\n",
        "\n",
        "hashtagsCounter.most_common(50)"
      ],
      "metadata": {
        "colab": {
          "base_uri": "https://localhost:8080/"
        },
        "id": "UXxCvwUKasVb",
        "outputId": "26ce1a63-4975-41e4-acad-9b7936f0313d"
      },
      "execution_count": 132,
      "outputs": [
        {
          "output_type": "execute_result",
          "data": {
            "text/plain": [
              "[('#elxn44', 115),\n",
              " ('#cdnpoli', 85),\n",
              " ('#nevervoteconservative', 50),\n",
              " ('#voteppc', 46),\n",
              " ('#voteliberal', 36),\n",
              " ('#istandwithtrudeau', 23),\n",
              " ('#otoole', 21),\n",
              " ('#ppc', 16),\n",
              " ('#elections2021', 15),\n",
              " ('#voteliberalmajority', 11),\n",
              " ('#canada', 10),\n",
              " ('#nevervotecpc', 10),\n",
              " ('#forwardforeveryone', 10),\n",
              " ('#voteppc2021', 9),\n",
              " ('#canadaelection', 9),\n",
              " ('#canadianelection', 8),\n",
              " ('#ndp', 7),\n",
              " ('#liberalmajority', 7),\n",
              " ('#votetrudeauout', 7),\n",
              " ('#trudeau', 6),\n",
              " ('#leadersdebate', 6),\n",
              " ('#otooleforpm', 6),\n",
              " ('#debatdeschefs', 6),\n",
              " ('#conservative', 6),\n",
              " ('#maximebernier', 5),\n",
              " ('#election2021', 5),\n",
              " ('#onpoli', 5),\n",
              " ('#polcan', 5),\n",
              " ('#purplewave', 5),\n",
              " ('#vote', 4),\n",
              " ('#canadians', 4),\n",
              " ('#justintrudeau', 4),\n",
              " ('#cpc', 4),\n",
              " ('#flipflopotoole', 4),\n",
              " ('#debate2021', 4),\n",
              " ('#voteconservative', 4),\n",
              " ('#covid19', 4),\n",
              " ('#freedom', 3),\n",
              " ('#cdnmedia', 3),\n",
              " ('#canadian', 3),\n",
              " ('#elexn44', 3),\n",
              " ('#ndp2021', 3),\n",
              " ('#votendp', 3),\n",
              " ('#maximebernierforpm', 3),\n",
              " ('#makemaxourpm', 3),\n",
              " ('#لنصوت_جميعا', 3),\n",
              " ('#climatechange', 3),\n",
              " ('#election', 3),\n",
              " ('#debate', 3),\n",
              " ('#trudeaumustgo', 3)]"
            ]
          },
          "metadata": {},
          "execution_count": 132
        }
      ]
    },
    {
      "cell_type": "markdown",
      "source": [
        "Procedures of defining which party the tweet has affiliation with:\n",
        "\n",
        "1. For the tweet that contains the hashtag that conveys direct message for specific party, count that tweet in the corresonding party.\n",
        "\n",
        "2. Split data into \"Positive\" and \"Negative\" sentiments.\n",
        "\n",
        "3. Ignore the negative sentiments data since they probably do not give a clear afflilliation of any of the party\n",
        "4. For the rest positive sentiment tweets, track the most frequent hashtags and keywords being mentioned."
      ],
      "metadata": {
        "id": "q6MVSX1sfRpa"
      }
    },
    {
      "cell_type": "code",
      "source": [
        "#organize hashtags have strong willingness to vote for specific parties\n",
        "cpc = ['#votecpc','#votecpc4canada','#voteconservative','#otoole4pm','#otooleforpm']\n",
        "lib = ['#voteliberal', '#istandwithtrudeau', '#voteliberalmajority', '#forwardforeveryone', '#liberalmajority', '#teamtrudeau',\n",
        "       '#liberalsurge', '#liberals', '#voteliberal','#trudeaumajority']\n",
        "ppc = ['#voteppc', '#voteppc2021', '#voteppcforfreedoms','#jumptoppc','#voteppcforfiscalresponsibility','#maximebernierforpm','#makemaxmypm']\n",
        "ndp= ['#ndp2021', '#democracy','#teamjagmeet','#votendp', '#readyforbetter'] \n",
        "\n",
        "#join the group of hashtags to create a string pattern\n",
        "cpc_pattern = '|'.join(cpc)\n",
        "lib_pattern = '|'.join(lib)\n",
        "ppc_pattern = '|'.join(ppc)\n",
        "ndp_pattern = '|'.join(ndp)"
      ],
      "metadata": {
        "id": "Sd7KfU_pkOva"
      },
      "execution_count": null,
      "outputs": []
    },
    {
      "cell_type": "code",
      "source": [
        "#remove emoji\n",
        "neg_df_lower = neg_df.astype(str).apply(lambda x: x.str.encode('ascii', 'ignore').str.decode('ascii'))\n",
        "\n",
        "#Convert to lowercase\n",
        "neg_df_lower['text'] = neg_df_lower['text'].str.lower()\n",
        "\n",
        "#Remove URLs\n",
        "neg_df_lower['text'] = neg_df_lower['text'].replace(r'http\\S+', '', regex=True).replace(r'www\\S+', '', regex=True)\n",
        "\n",
        "#But without removing punctionation beacause it contains hashtag\n",
        "\n",
        "neg_df_lower.sample(5)"
      ],
      "metadata": {
        "colab": {
          "base_uri": "https://localhost:8080/",
          "height": 316
        },
        "id": "dTpUlut_QRkA",
        "outputId": "c6a55b78-8746-4e1c-a3ad-3422e56adcca"
      },
      "execution_count": null,
      "outputs": [
        {
          "output_type": "execute_result",
          "data": {
            "text/plain": [
              "                                                                                                                                                                                                        text sentiment negative_reason\n",
              "994                  @rohaniroop @callmechris316 @cbcalerts vanity election... poor guy wasted $600 million dollars and lost some power.  killing and getting canadians sick.  some leader you have there...  negative          others\n",
              "448                                                                    @wearecanproud the election was called for the glorification of trudeau. why people vote for a leader who doesnt care about canadians  negative          others\n",
              "822                                                                                                                                                    y'all, i'm nervous about canada's federal election...  negative          others\n",
              "292  singh: i agree, we can't have another 4 years of trudeau trudeau: all the parties talk about this, but we have to rely on our experts. experts say the lpc plan is the best (singh and paul? interrupt)  positive             nan\n",
              "932                                                           @mjinvesting2021 @justintrudeau trudeau government is weak on criminals using guns then turns around and blames legal gun owners. makes sense.  negative     gun control"
            ],
            "text/html": [
              "\n",
              "  <div id=\"df-c83e75ce-6687-4119-be85-b84b5dd65b51\">\n",
              "    <div class=\"colab-df-container\">\n",
              "      <div>\n",
              "<style scoped>\n",
              "    .dataframe tbody tr th:only-of-type {\n",
              "        vertical-align: middle;\n",
              "    }\n",
              "\n",
              "    .dataframe tbody tr th {\n",
              "        vertical-align: top;\n",
              "    }\n",
              "\n",
              "    .dataframe thead th {\n",
              "        text-align: right;\n",
              "    }\n",
              "</style>\n",
              "<table border=\"1\" class=\"dataframe\">\n",
              "  <thead>\n",
              "    <tr style=\"text-align: right;\">\n",
              "      <th></th>\n",
              "      <th>text</th>\n",
              "      <th>sentiment</th>\n",
              "      <th>negative_reason</th>\n",
              "    </tr>\n",
              "  </thead>\n",
              "  <tbody>\n",
              "    <tr>\n",
              "      <th>994</th>\n",
              "      <td>@rohaniroop @callmechris316 @cbcalerts vanity election... poor guy wasted $600 million dollars and lost some power.  killing and getting canadians sick.  some leader you have there...</td>\n",
              "      <td>negative</td>\n",
              "      <td>others</td>\n",
              "    </tr>\n",
              "    <tr>\n",
              "      <th>448</th>\n",
              "      <td>@wearecanproud the election was called for the glorification of trudeau. why people vote for a leader who doesnt care about canadians</td>\n",
              "      <td>negative</td>\n",
              "      <td>others</td>\n",
              "    </tr>\n",
              "    <tr>\n",
              "      <th>822</th>\n",
              "      <td>y'all, i'm nervous about canada's federal election...</td>\n",
              "      <td>negative</td>\n",
              "      <td>others</td>\n",
              "    </tr>\n",
              "    <tr>\n",
              "      <th>292</th>\n",
              "      <td>singh: i agree, we can't have another 4 years of trudeau trudeau: all the parties talk about this, but we have to rely on our experts. experts say the lpc plan is the best (singh and paul? interrupt)</td>\n",
              "      <td>positive</td>\n",
              "      <td>nan</td>\n",
              "    </tr>\n",
              "    <tr>\n",
              "      <th>932</th>\n",
              "      <td>@mjinvesting2021 @justintrudeau trudeau government is weak on criminals using guns then turns around and blames legal gun owners. makes sense.</td>\n",
              "      <td>negative</td>\n",
              "      <td>gun control</td>\n",
              "    </tr>\n",
              "  </tbody>\n",
              "</table>\n",
              "</div>\n",
              "      <button class=\"colab-df-convert\" onclick=\"convertToInteractive('df-c83e75ce-6687-4119-be85-b84b5dd65b51')\"\n",
              "              title=\"Convert this dataframe to an interactive table.\"\n",
              "              style=\"display:none;\">\n",
              "        \n",
              "  <svg xmlns=\"http://www.w3.org/2000/svg\" height=\"24px\"viewBox=\"0 0 24 24\"\n",
              "       width=\"24px\">\n",
              "    <path d=\"M0 0h24v24H0V0z\" fill=\"none\"/>\n",
              "    <path d=\"M18.56 5.44l.94 2.06.94-2.06 2.06-.94-2.06-.94-.94-2.06-.94 2.06-2.06.94zm-11 1L8.5 8.5l.94-2.06 2.06-.94-2.06-.94L8.5 2.5l-.94 2.06-2.06.94zm10 10l.94 2.06.94-2.06 2.06-.94-2.06-.94-.94-2.06-.94 2.06-2.06.94z\"/><path d=\"M17.41 7.96l-1.37-1.37c-.4-.4-.92-.59-1.43-.59-.52 0-1.04.2-1.43.59L10.3 9.45l-7.72 7.72c-.78.78-.78 2.05 0 2.83L4 21.41c.39.39.9.59 1.41.59.51 0 1.02-.2 1.41-.59l7.78-7.78 2.81-2.81c.8-.78.8-2.07 0-2.86zM5.41 20L4 18.59l7.72-7.72 1.47 1.35L5.41 20z\"/>\n",
              "  </svg>\n",
              "      </button>\n",
              "      \n",
              "  <style>\n",
              "    .colab-df-container {\n",
              "      display:flex;\n",
              "      flex-wrap:wrap;\n",
              "      gap: 12px;\n",
              "    }\n",
              "\n",
              "    .colab-df-convert {\n",
              "      background-color: #E8F0FE;\n",
              "      border: none;\n",
              "      border-radius: 50%;\n",
              "      cursor: pointer;\n",
              "      display: none;\n",
              "      fill: #1967D2;\n",
              "      height: 32px;\n",
              "      padding: 0 0 0 0;\n",
              "      width: 32px;\n",
              "    }\n",
              "\n",
              "    .colab-df-convert:hover {\n",
              "      background-color: #E2EBFA;\n",
              "      box-shadow: 0px 1px 2px rgba(60, 64, 67, 0.3), 0px 1px 3px 1px rgba(60, 64, 67, 0.15);\n",
              "      fill: #174EA6;\n",
              "    }\n",
              "\n",
              "    [theme=dark] .colab-df-convert {\n",
              "      background-color: #3B4455;\n",
              "      fill: #D2E3FC;\n",
              "    }\n",
              "\n",
              "    [theme=dark] .colab-df-convert:hover {\n",
              "      background-color: #434B5C;\n",
              "      box-shadow: 0px 1px 3px 1px rgba(0, 0, 0, 0.15);\n",
              "      filter: drop-shadow(0px 1px 2px rgba(0, 0, 0, 0.3));\n",
              "      fill: #FFFFFF;\n",
              "    }\n",
              "  </style>\n",
              "\n",
              "      <script>\n",
              "        const buttonEl =\n",
              "          document.querySelector('#df-c83e75ce-6687-4119-be85-b84b5dd65b51 button.colab-df-convert');\n",
              "        buttonEl.style.display =\n",
              "          google.colab.kernel.accessAllowed ? 'block' : 'none';\n",
              "\n",
              "        async function convertToInteractive(key) {\n",
              "          const element = document.querySelector('#df-c83e75ce-6687-4119-be85-b84b5dd65b51');\n",
              "          const dataTable =\n",
              "            await google.colab.kernel.invokeFunction('convertToInteractive',\n",
              "                                                     [key], {});\n",
              "          if (!dataTable) return;\n",
              "\n",
              "          const docLinkHtml = 'Like what you see? Visit the ' +\n",
              "            '<a target=\"_blank\" href=https://colab.research.google.com/notebooks/data_table.ipynb>data table notebook</a>'\n",
              "            + ' to learn more about interactive tables.';\n",
              "          element.innerHTML = '';\n",
              "          dataTable['output_type'] = 'display_data';\n",
              "          await google.colab.output.renderOutput(dataTable, element);\n",
              "          const docLink = document.createElement('div');\n",
              "          docLink.innerHTML = docLinkHtml;\n",
              "          element.appendChild(docLink);\n",
              "        }\n",
              "      </script>\n",
              "    </div>\n",
              "  </div>\n",
              "  "
            ]
          },
          "metadata": {},
          "execution_count": 13
        }
      ]
    },
    {
      "cell_type": "code",
      "source": [
        "#Count the direct convey message for each party\n",
        "cpc_count = neg_df_lower[neg_df_lower[\"text\"].str.contains(cpc_pattern).any(level = 0)]\n",
        "lib_count = neg_df_lower[neg_df_lower[\"text\"].str.contains(lib_pattern).any(level = 0)]\n",
        "ppc_count = neg_df_lower[neg_df_lower[\"text\"].str.contains(ppc_pattern).any(level = 0)]\n",
        "ndp_count = neg_df_lower[neg_df_lower[\"text\"].str.contains(ndp_pattern).any(level = 0)]\n",
        "\n",
        "party_count_step1 = {'Conservative': 11,\n",
        "                 'Liberal': 74,\n",
        "                 'PPC': 54,\n",
        "                 'NDP': 6}\n"
      ],
      "metadata": {
        "colab": {
          "base_uri": "https://localhost:8080/"
        },
        "id": "d78IfoE9PTcV",
        "outputId": "0078b4e6-8879-4e90-8d80-5674c9acdfd0"
      },
      "execution_count": null,
      "outputs": [
        {
          "output_type": "stream",
          "name": "stderr",
          "text": [
            "/usr/local/lib/python3.7/dist-packages/ipykernel_launcher.py:2: FutureWarning: Using the level keyword in DataFrame and Series aggregations is deprecated and will be removed in a future version. Use groupby instead. df.any(level=1) should use df.groupby(level=1).any()\n",
            "  \n",
            "/usr/local/lib/python3.7/dist-packages/ipykernel_launcher.py:3: FutureWarning: Using the level keyword in DataFrame and Series aggregations is deprecated and will be removed in a future version. Use groupby instead. df.any(level=1) should use df.groupby(level=1).any()\n",
            "  This is separate from the ipykernel package so we can avoid doing imports until\n",
            "/usr/local/lib/python3.7/dist-packages/ipykernel_launcher.py:4: FutureWarning: Using the level keyword in DataFrame and Series aggregations is deprecated and will be removed in a future version. Use groupby instead. df.any(level=1) should use df.groupby(level=1).any()\n",
            "  after removing the cwd from sys.path.\n",
            "/usr/local/lib/python3.7/dist-packages/ipykernel_launcher.py:5: FutureWarning: Using the level keyword in DataFrame and Series aggregations is deprecated and will be removed in a future version. Use groupby instead. df.any(level=1) should use df.groupby(level=1).any()\n",
            "  \"\"\"\n"
          ]
        }
      ]
    },
    {
      "cell_type": "code",
      "source": [
        "#create a column called 'party' and lable each tweet\n",
        "cpc_count['party'] = 'Conservative'\n",
        "lib_count['party'] = 'Liberal'\n",
        "ppc_count['party'] = 'PPC'\n",
        "ndp_count['party'] = 'NDP'"
      ],
      "metadata": {
        "id": "2SPP1ADnR9BB"
      },
      "execution_count": null,
      "outputs": []
    },
    {
      "cell_type": "code",
      "source": [
        "#split the dataset into positive and negative sentiments\n",
        "positive_can_df = neg_df_lower[neg_df_lower['sentiment'] == 'positive']"
      ],
      "metadata": {
        "id": "FMAvmABikOry"
      },
      "execution_count": 157,
      "outputs": []
    },
    {
      "cell_type": "markdown",
      "source": [
        "This step, ignore the rest of negative tweets as they are hard to define the affiliation of parties. \n",
        "\n",
        "For all positive sentiments tweets, find the tweet that are not in above direct dataframes that is counted in step 1."
      ],
      "metadata": {
        "id": "3QZvnWK2oVNL"
      }
    },
    {
      "cell_type": "code",
      "source": [
        "#concate above 4 dataframes vertically\n",
        "df_all4 = pd.concat([cpc_count, lib_count, ppc_count, ndp_count], axis=0)\n",
        "\n",
        "int_df = pd.merge(positive_can_df, df_all4, how ='inner')\n",
        "\n",
        "result_df = positive_can_df[~positive_can_df.text.isin(int_df.text)]"
      ],
      "metadata": {
        "id": "h8SmWelJTRmv"
      },
      "execution_count": null,
      "outputs": []
    },
    {
      "cell_type": "code",
      "source": [
        "#remove punctuations\n",
        "result_df['text']= result_df['text'].str.replace('[^\\w\\s]','')\n",
        "result_df.head(3)"
      ],
      "metadata": {
        "colab": {
          "base_uri": "https://localhost:8080/",
          "height": 427
        },
        "id": "8bk-5OadhXGh",
        "outputId": "d9e22cdc-e7ef-4596-87ba-66d55d83f533"
      },
      "execution_count": null,
      "outputs": [
        {
          "output_type": "stream",
          "name": "stderr",
          "text": [
            "/usr/local/lib/python3.7/dist-packages/ipykernel_launcher.py:2: FutureWarning: The default value of regex will change from True to False in a future version.\n",
            "  \n",
            "/usr/local/lib/python3.7/dist-packages/ipykernel_launcher.py:2: SettingWithCopyWarning: \n",
            "A value is trying to be set on a copy of a slice from a DataFrame.\n",
            "Try using .loc[row_indexer,col_indexer] = value instead\n",
            "\n",
            "See the caveats in the documentation: https://pandas.pydata.org/pandas-docs/stable/user_guide/indexing.html#returning-a-view-versus-a-copy\n",
            "  \n"
          ]
        },
        {
          "output_type": "execute_result",
          "data": {
            "text/plain": [
              "                                                                                                                                                                                                                                                                              text sentiment negative_reason\n",
              "2      dear canadians this election is a test of how progressive we are whether we stand by science womens and bipoc rights equality public healthcare amp education the environment whether we stand up against hate we have so much to lose dont let us fall back cdnpoli elxn44  positive             nan\n",
              "9   justin trudeau literally had rocks thrown at him yet continued showing amp answered questions during an election campaign  erin otoole hiding from the media the day before an election because he doesnt want to answer to the legitimate concerns that canadians have elxn44  positive             nan\n",
              "12                                               throwbackthursday to federal election debate night in 2019 when i was ready in my tie   it just so happens its election2021 debate night tonight  im ready to jump in if anyone talks about taxing cookies  vote canada cdnpoli    positive             nan"
            ],
            "text/html": [
              "\n",
              "  <div id=\"df-bd45f52a-9063-4fd2-95fe-9669d10d8741\">\n",
              "    <div class=\"colab-df-container\">\n",
              "      <div>\n",
              "<style scoped>\n",
              "    .dataframe tbody tr th:only-of-type {\n",
              "        vertical-align: middle;\n",
              "    }\n",
              "\n",
              "    .dataframe tbody tr th {\n",
              "        vertical-align: top;\n",
              "    }\n",
              "\n",
              "    .dataframe thead th {\n",
              "        text-align: right;\n",
              "    }\n",
              "</style>\n",
              "<table border=\"1\" class=\"dataframe\">\n",
              "  <thead>\n",
              "    <tr style=\"text-align: right;\">\n",
              "      <th></th>\n",
              "      <th>text</th>\n",
              "      <th>sentiment</th>\n",
              "      <th>negative_reason</th>\n",
              "    </tr>\n",
              "  </thead>\n",
              "  <tbody>\n",
              "    <tr>\n",
              "      <th>2</th>\n",
              "      <td>dear canadians this election is a test of how progressive we are whether we stand by science womens and bipoc rights equality public healthcare amp education the environment whether we stand up against hate we have so much to lose dont let us fall back cdnpoli elxn44</td>\n",
              "      <td>positive</td>\n",
              "      <td>nan</td>\n",
              "    </tr>\n",
              "    <tr>\n",
              "      <th>9</th>\n",
              "      <td>justin trudeau literally had rocks thrown at him yet continued showing amp answered questions during an election campaign  erin otoole hiding from the media the day before an election because he doesnt want to answer to the legitimate concerns that canadians have elxn44</td>\n",
              "      <td>positive</td>\n",
              "      <td>nan</td>\n",
              "    </tr>\n",
              "    <tr>\n",
              "      <th>12</th>\n",
              "      <td>throwbackthursday to federal election debate night in 2019 when i was ready in my tie   it just so happens its election2021 debate night tonight  im ready to jump in if anyone talks about taxing cookies  vote canada cdnpoli</td>\n",
              "      <td>positive</td>\n",
              "      <td>nan</td>\n",
              "    </tr>\n",
              "  </tbody>\n",
              "</table>\n",
              "</div>\n",
              "      <button class=\"colab-df-convert\" onclick=\"convertToInteractive('df-bd45f52a-9063-4fd2-95fe-9669d10d8741')\"\n",
              "              title=\"Convert this dataframe to an interactive table.\"\n",
              "              style=\"display:none;\">\n",
              "        \n",
              "  <svg xmlns=\"http://www.w3.org/2000/svg\" height=\"24px\"viewBox=\"0 0 24 24\"\n",
              "       width=\"24px\">\n",
              "    <path d=\"M0 0h24v24H0V0z\" fill=\"none\"/>\n",
              "    <path d=\"M18.56 5.44l.94 2.06.94-2.06 2.06-.94-2.06-.94-.94-2.06-.94 2.06-2.06.94zm-11 1L8.5 8.5l.94-2.06 2.06-.94-2.06-.94L8.5 2.5l-.94 2.06-2.06.94zm10 10l.94 2.06.94-2.06 2.06-.94-2.06-.94-.94-2.06-.94 2.06-2.06.94z\"/><path d=\"M17.41 7.96l-1.37-1.37c-.4-.4-.92-.59-1.43-.59-.52 0-1.04.2-1.43.59L10.3 9.45l-7.72 7.72c-.78.78-.78 2.05 0 2.83L4 21.41c.39.39.9.59 1.41.59.51 0 1.02-.2 1.41-.59l7.78-7.78 2.81-2.81c.8-.78.8-2.07 0-2.86zM5.41 20L4 18.59l7.72-7.72 1.47 1.35L5.41 20z\"/>\n",
              "  </svg>\n",
              "      </button>\n",
              "      \n",
              "  <style>\n",
              "    .colab-df-container {\n",
              "      display:flex;\n",
              "      flex-wrap:wrap;\n",
              "      gap: 12px;\n",
              "    }\n",
              "\n",
              "    .colab-df-convert {\n",
              "      background-color: #E8F0FE;\n",
              "      border: none;\n",
              "      border-radius: 50%;\n",
              "      cursor: pointer;\n",
              "      display: none;\n",
              "      fill: #1967D2;\n",
              "      height: 32px;\n",
              "      padding: 0 0 0 0;\n",
              "      width: 32px;\n",
              "    }\n",
              "\n",
              "    .colab-df-convert:hover {\n",
              "      background-color: #E2EBFA;\n",
              "      box-shadow: 0px 1px 2px rgba(60, 64, 67, 0.3), 0px 1px 3px 1px rgba(60, 64, 67, 0.15);\n",
              "      fill: #174EA6;\n",
              "    }\n",
              "\n",
              "    [theme=dark] .colab-df-convert {\n",
              "      background-color: #3B4455;\n",
              "      fill: #D2E3FC;\n",
              "    }\n",
              "\n",
              "    [theme=dark] .colab-df-convert:hover {\n",
              "      background-color: #434B5C;\n",
              "      box-shadow: 0px 1px 3px 1px rgba(0, 0, 0, 0.15);\n",
              "      filter: drop-shadow(0px 1px 2px rgba(0, 0, 0, 0.3));\n",
              "      fill: #FFFFFF;\n",
              "    }\n",
              "  </style>\n",
              "\n",
              "      <script>\n",
              "        const buttonEl =\n",
              "          document.querySelector('#df-bd45f52a-9063-4fd2-95fe-9669d10d8741 button.colab-df-convert');\n",
              "        buttonEl.style.display =\n",
              "          google.colab.kernel.accessAllowed ? 'block' : 'none';\n",
              "\n",
              "        async function convertToInteractive(key) {\n",
              "          const element = document.querySelector('#df-bd45f52a-9063-4fd2-95fe-9669d10d8741');\n",
              "          const dataTable =\n",
              "            await google.colab.kernel.invokeFunction('convertToInteractive',\n",
              "                                                     [key], {});\n",
              "          if (!dataTable) return;\n",
              "\n",
              "          const docLinkHtml = 'Like what you see? Visit the ' +\n",
              "            '<a target=\"_blank\" href=https://colab.research.google.com/notebooks/data_table.ipynb>data table notebook</a>'\n",
              "            + ' to learn more about interactive tables.';\n",
              "          element.innerHTML = '';\n",
              "          dataTable['output_type'] = 'display_data';\n",
              "          await google.colab.output.renderOutput(dataTable, element);\n",
              "          const docLink = document.createElement('div');\n",
              "          docLink.innerHTML = docLinkHtml;\n",
              "          element.appendChild(docLink);\n",
              "        }\n",
              "      </script>\n",
              "    </div>\n",
              "  </div>\n",
              "  "
            ]
          },
          "metadata": {},
          "execution_count": 19
        }
      ]
    },
    {
      "cell_type": "markdown",
      "source": [
        "For those 507 tweets, identify their political affiliation based on most frequent key words being mentioned."
      ],
      "metadata": {
        "id": "GqXbro--sAPZ"
      }
    },
    {
      "cell_type": "code",
      "source": [
        "# Keywords of each party\n",
        "cpc_keywords = ['cpc', 'conservative', 'erin', 'otoole']\n",
        "lib_keywords = ['liberal', 'justin', 'trudeau']\n",
        "ppc_keywords = ['ppc', 'maxime', 'bernier']\n",
        "ndp_keywords = ['ndp', 'singh', 'jagmeet']"
      ],
      "metadata": {
        "id": "hK6El0OGsiMw"
      },
      "execution_count": null,
      "outputs": []
    },
    {
      "cell_type": "code",
      "source": [
        "party_list = []\n",
        "\n",
        "party_count_step2 = {'Conservative': 0,\n",
        "                 'Liberal': 0,\n",
        "                 'PPC': 0,\n",
        "                 'NDP': 0}\n",
        "\n",
        "for tweet in result_df['text']:\n",
        "  #initiate a empty dictionary\n",
        "  party_count = dict((par,0) for par in party_count_step2)\n",
        "  for token in tweet.split(): \n",
        "    if token in cpc_keywords:\n",
        "        party_count['Conservative'] +=1\n",
        "    elif token in lib_keywords:\n",
        "        party_count['Liberal'] += 1\n",
        "    elif token in ppc_keywords:\n",
        "        party_count['PPC'] += 1\n",
        "    elif token in ndp_keywords:\n",
        "        party_count['NDP'] += 1\n",
        "  #take the max of all mentioned party keywords\n",
        "  party = max(party_count, key = party_count.get)\n",
        "  party_list.append(party)\n",
        "  \n",
        "  #append the result into a big dictionary\n",
        "  for p in party_count_step2:\n",
        "    if p == party:\n",
        "      party_count_step2[p] += 1\n",
        "\n",
        "#label the party of tweets into the dataframe\n",
        "result_df['party'] = party_list"
      ],
      "metadata": {
        "id": "_rgr4SejsiGT"
      },
      "execution_count": 158,
      "outputs": []
    },
    {
      "cell_type": "code",
      "source": [
        "sentiment_party_df = pd.concat([df_all4, result_df], axis=0)\n",
        "sentiment_party_df"
      ],
      "metadata": {
        "colab": {
          "base_uri": "https://localhost:8080/",
          "height": 769
        },
        "id": "pBfW6eVU3U8P",
        "outputId": "7d7689bc-7013-4200-8e3b-593825c463da"
      },
      "execution_count": null,
      "outputs": [
        {
          "output_type": "execute_result",
          "data": {
            "text/plain": [
              "                                                                                                                                                                                                                                                                                      text sentiment         negative_reason         party\n",
              "81   qq: to those who wish to #voteliberalmajority while waiting in line to vote ask yourself how calling an election now is having the backs of canadians?  it isnt. dont ignore this at the ballot box #voteconservative #votendp just dont reward this disregard for canadians #cdnpoli  negative  calling election early  Conservative\n",
              "167                                    i like the carbon tax idea for the conservatives, its ur money and will inspire you to be aware of ur carbon footprint. i love it otoole is calling trudeau out about not even meeting 30%. and keeping ur promises! #otooleforpm #trudeaumustgonow  positive                     nan  Conservative\n",
              "200                          how can you have a leader, representing a #canadian federal party, who is not able to enter #usa or #india.  how was it that he was voted in. in the first place?!#votecpc restore honesty and integrity in our election system #canada #cdnpoli #ndpoverhaul  positive                     nan  Conservative\n",
              "273                                                           @suzannealma @erinotoole is wise and clearly listens to canadians instead of assuming what they are and what they need like @justintrudeau. he also respects us, unlike the @liberal_party.  #otoole #otoole4pm #otooleforpm  positive                     nan  Conservative\n",
              "351                                                                                            @rosemaryhamulka contrast that negative energy that hes been using to divide this great nation, to that of the positive energy surrounding erin otoole and his team.  #votecpc #otooleforpm  positive                     nan  Conservative\n",
              "..                                                                                                                                                                                                                                                                                     ...       ...                     ...           ...\n",
              "904                                                               breaking newsotoole is announcing right now on ctv that he will maintain all the current bans on assault and automatic weapons secondly hes lambasting trudeau for the rise in crime in last 6 years  he looks real good  positive                     nan       Liberal\n",
              "938                                                            this election is about canadian freedom  without freedom you get enslavement  do you want freedom or enslavement  it is that simple  the rest of the dialectic is just noise to distract you from the real issue  freedom    positive                     nan  Conservative\n",
              "940                             your progressive conservative government will unfortunately not win your canadian federal election tomorrow unfortunately your current liberal government representing canada will win this 600 million election i would vote conservative you worked hard  positive                     nan  Conservative\n",
              "943                                                    last one of the night lookin like us ndp need to rally behind the libs itll hurt but not as much as the cons running the sunshinecoast elxn44 lets say noblue and fuck otoole deny them every seat possible anythingbutconservative  positive                     nan  Conservative\n",
              "984                                                                          justintrudeau justin rifles dont hurt people criminals do one way or the other criminals will get their hands in weapons lets work on the underlying issues that lead to these acts voting for otoole in 2021  positive                     nan  Conservative\n",
              "\n",
              "[651 rows x 4 columns]"
            ],
            "text/html": [
              "\n",
              "  <div id=\"df-aa71064d-1d9c-4d7e-925e-864f8fa1fcd2\">\n",
              "    <div class=\"colab-df-container\">\n",
              "      <div>\n",
              "<style scoped>\n",
              "    .dataframe tbody tr th:only-of-type {\n",
              "        vertical-align: middle;\n",
              "    }\n",
              "\n",
              "    .dataframe tbody tr th {\n",
              "        vertical-align: top;\n",
              "    }\n",
              "\n",
              "    .dataframe thead th {\n",
              "        text-align: right;\n",
              "    }\n",
              "</style>\n",
              "<table border=\"1\" class=\"dataframe\">\n",
              "  <thead>\n",
              "    <tr style=\"text-align: right;\">\n",
              "      <th></th>\n",
              "      <th>text</th>\n",
              "      <th>sentiment</th>\n",
              "      <th>negative_reason</th>\n",
              "      <th>party</th>\n",
              "    </tr>\n",
              "  </thead>\n",
              "  <tbody>\n",
              "    <tr>\n",
              "      <th>81</th>\n",
              "      <td>qq: to those who wish to #voteliberalmajority while waiting in line to vote ask yourself how calling an election now is having the backs of canadians?  it isnt. dont ignore this at the ballot box #voteconservative #votendp just dont reward this disregard for canadians #cdnpoli</td>\n",
              "      <td>negative</td>\n",
              "      <td>calling election early</td>\n",
              "      <td>Conservative</td>\n",
              "    </tr>\n",
              "    <tr>\n",
              "      <th>167</th>\n",
              "      <td>i like the carbon tax idea for the conservatives, its ur money and will inspire you to be aware of ur carbon footprint. i love it otoole is calling trudeau out about not even meeting 30%. and keeping ur promises! #otooleforpm #trudeaumustgonow</td>\n",
              "      <td>positive</td>\n",
              "      <td>nan</td>\n",
              "      <td>Conservative</td>\n",
              "    </tr>\n",
              "    <tr>\n",
              "      <th>200</th>\n",
              "      <td>how can you have a leader, representing a #canadian federal party, who is not able to enter #usa or #india.  how was it that he was voted in. in the first place?!#votecpc restore honesty and integrity in our election system #canada #cdnpoli #ndpoverhaul</td>\n",
              "      <td>positive</td>\n",
              "      <td>nan</td>\n",
              "      <td>Conservative</td>\n",
              "    </tr>\n",
              "    <tr>\n",
              "      <th>273</th>\n",
              "      <td>@suzannealma @erinotoole is wise and clearly listens to canadians instead of assuming what they are and what they need like @justintrudeau. he also respects us, unlike the @liberal_party.  #otoole #otoole4pm #otooleforpm</td>\n",
              "      <td>positive</td>\n",
              "      <td>nan</td>\n",
              "      <td>Conservative</td>\n",
              "    </tr>\n",
              "    <tr>\n",
              "      <th>351</th>\n",
              "      <td>@rosemaryhamulka contrast that negative energy that hes been using to divide this great nation, to that of the positive energy surrounding erin otoole and his team.  #votecpc #otooleforpm</td>\n",
              "      <td>positive</td>\n",
              "      <td>nan</td>\n",
              "      <td>Conservative</td>\n",
              "    </tr>\n",
              "    <tr>\n",
              "      <th>...</th>\n",
              "      <td>...</td>\n",
              "      <td>...</td>\n",
              "      <td>...</td>\n",
              "      <td>...</td>\n",
              "    </tr>\n",
              "    <tr>\n",
              "      <th>904</th>\n",
              "      <td>breaking newsotoole is announcing right now on ctv that he will maintain all the current bans on assault and automatic weapons secondly hes lambasting trudeau for the rise in crime in last 6 years  he looks real good</td>\n",
              "      <td>positive</td>\n",
              "      <td>nan</td>\n",
              "      <td>Liberal</td>\n",
              "    </tr>\n",
              "    <tr>\n",
              "      <th>938</th>\n",
              "      <td>this election is about canadian freedom  without freedom you get enslavement  do you want freedom or enslavement  it is that simple  the rest of the dialectic is just noise to distract you from the real issue  freedom</td>\n",
              "      <td>positive</td>\n",
              "      <td>nan</td>\n",
              "      <td>Conservative</td>\n",
              "    </tr>\n",
              "    <tr>\n",
              "      <th>940</th>\n",
              "      <td>your progressive conservative government will unfortunately not win your canadian federal election tomorrow unfortunately your current liberal government representing canada will win this 600 million election i would vote conservative you worked hard</td>\n",
              "      <td>positive</td>\n",
              "      <td>nan</td>\n",
              "      <td>Conservative</td>\n",
              "    </tr>\n",
              "    <tr>\n",
              "      <th>943</th>\n",
              "      <td>last one of the night lookin like us ndp need to rally behind the libs itll hurt but not as much as the cons running the sunshinecoast elxn44 lets say noblue and fuck otoole deny them every seat possible anythingbutconservative</td>\n",
              "      <td>positive</td>\n",
              "      <td>nan</td>\n",
              "      <td>Conservative</td>\n",
              "    </tr>\n",
              "    <tr>\n",
              "      <th>984</th>\n",
              "      <td>justintrudeau justin rifles dont hurt people criminals do one way or the other criminals will get their hands in weapons lets work on the underlying issues that lead to these acts voting for otoole in 2021</td>\n",
              "      <td>positive</td>\n",
              "      <td>nan</td>\n",
              "      <td>Conservative</td>\n",
              "    </tr>\n",
              "  </tbody>\n",
              "</table>\n",
              "<p>651 rows × 4 columns</p>\n",
              "</div>\n",
              "      <button class=\"colab-df-convert\" onclick=\"convertToInteractive('df-aa71064d-1d9c-4d7e-925e-864f8fa1fcd2')\"\n",
              "              title=\"Convert this dataframe to an interactive table.\"\n",
              "              style=\"display:none;\">\n",
              "        \n",
              "  <svg xmlns=\"http://www.w3.org/2000/svg\" height=\"24px\"viewBox=\"0 0 24 24\"\n",
              "       width=\"24px\">\n",
              "    <path d=\"M0 0h24v24H0V0z\" fill=\"none\"/>\n",
              "    <path d=\"M18.56 5.44l.94 2.06.94-2.06 2.06-.94-2.06-.94-.94-2.06-.94 2.06-2.06.94zm-11 1L8.5 8.5l.94-2.06 2.06-.94-2.06-.94L8.5 2.5l-.94 2.06-2.06.94zm10 10l.94 2.06.94-2.06 2.06-.94-2.06-.94-.94-2.06-.94 2.06-2.06.94z\"/><path d=\"M17.41 7.96l-1.37-1.37c-.4-.4-.92-.59-1.43-.59-.52 0-1.04.2-1.43.59L10.3 9.45l-7.72 7.72c-.78.78-.78 2.05 0 2.83L4 21.41c.39.39.9.59 1.41.59.51 0 1.02-.2 1.41-.59l7.78-7.78 2.81-2.81c.8-.78.8-2.07 0-2.86zM5.41 20L4 18.59l7.72-7.72 1.47 1.35L5.41 20z\"/>\n",
              "  </svg>\n",
              "      </button>\n",
              "      \n",
              "  <style>\n",
              "    .colab-df-container {\n",
              "      display:flex;\n",
              "      flex-wrap:wrap;\n",
              "      gap: 12px;\n",
              "    }\n",
              "\n",
              "    .colab-df-convert {\n",
              "      background-color: #E8F0FE;\n",
              "      border: none;\n",
              "      border-radius: 50%;\n",
              "      cursor: pointer;\n",
              "      display: none;\n",
              "      fill: #1967D2;\n",
              "      height: 32px;\n",
              "      padding: 0 0 0 0;\n",
              "      width: 32px;\n",
              "    }\n",
              "\n",
              "    .colab-df-convert:hover {\n",
              "      background-color: #E2EBFA;\n",
              "      box-shadow: 0px 1px 2px rgba(60, 64, 67, 0.3), 0px 1px 3px 1px rgba(60, 64, 67, 0.15);\n",
              "      fill: #174EA6;\n",
              "    }\n",
              "\n",
              "    [theme=dark] .colab-df-convert {\n",
              "      background-color: #3B4455;\n",
              "      fill: #D2E3FC;\n",
              "    }\n",
              "\n",
              "    [theme=dark] .colab-df-convert:hover {\n",
              "      background-color: #434B5C;\n",
              "      box-shadow: 0px 1px 3px 1px rgba(0, 0, 0, 0.15);\n",
              "      filter: drop-shadow(0px 1px 2px rgba(0, 0, 0, 0.3));\n",
              "      fill: #FFFFFF;\n",
              "    }\n",
              "  </style>\n",
              "\n",
              "      <script>\n",
              "        const buttonEl =\n",
              "          document.querySelector('#df-aa71064d-1d9c-4d7e-925e-864f8fa1fcd2 button.colab-df-convert');\n",
              "        buttonEl.style.display =\n",
              "          google.colab.kernel.accessAllowed ? 'block' : 'none';\n",
              "\n",
              "        async function convertToInteractive(key) {\n",
              "          const element = document.querySelector('#df-aa71064d-1d9c-4d7e-925e-864f8fa1fcd2');\n",
              "          const dataTable =\n",
              "            await google.colab.kernel.invokeFunction('convertToInteractive',\n",
              "                                                     [key], {});\n",
              "          if (!dataTable) return;\n",
              "\n",
              "          const docLinkHtml = 'Like what you see? Visit the ' +\n",
              "            '<a target=\"_blank\" href=https://colab.research.google.com/notebooks/data_table.ipynb>data table notebook</a>'\n",
              "            + ' to learn more about interactive tables.';\n",
              "          element.innerHTML = '';\n",
              "          dataTable['output_type'] = 'display_data';\n",
              "          await google.colab.output.renderOutput(dataTable, element);\n",
              "          const docLink = document.createElement('div');\n",
              "          docLink.innerHTML = docLinkHtml;\n",
              "          element.appendChild(docLink);\n",
              "        }\n",
              "      </script>\n",
              "    </div>\n",
              "  </div>\n",
              "  "
            ]
          },
          "metadata": {},
          "execution_count": 22
        }
      ]
    },
    {
      "cell_type": "code",
      "source": [
        "party_count_step2"
      ],
      "metadata": {
        "colab": {
          "base_uri": "https://localhost:8080/"
        },
        "id": "VViuyHYmsh-_",
        "outputId": "e1eab26e-dcda-4fc3-d772-2a4c346d2609"
      },
      "execution_count": 159,
      "outputs": [
        {
          "output_type": "execute_result",
          "data": {
            "text/plain": [
              "{'Conservative': 358, 'Liberal': 115, 'NDP': 17, 'PPC': 17}"
            ]
          },
          "metadata": {},
          "execution_count": 159
        }
      ]
    },
    {
      "cell_type": "code",
      "source": [
        "# concatinate the party count dictionary from step 1\n",
        "Party_Count_All = dict(Counter(party_count_step1)+Counter(party_count_step2))\n",
        "Party_Count_All"
      ],
      "metadata": {
        "colab": {
          "base_uri": "https://localhost:8080/"
        },
        "id": "ntPQHelGnLmO",
        "outputId": "078ca43f-09e4-4bd6-dcfa-774247b61463"
      },
      "execution_count": 160,
      "outputs": [
        {
          "output_type": "execute_result",
          "data": {
            "text/plain": [
              "{'Conservative': 369, 'Liberal': 189, 'NDP': 23, 'PPC': 71}"
            ]
          },
          "metadata": {},
          "execution_count": 160
        }
      ]
    },
    {
      "cell_type": "code",
      "source": [
        "#plot the distribution among four parties\n",
        "\n",
        "plt.figure(figsize=(10,7))\n",
        "sns.set(font_scale=1)\n",
        "sns.barplot(x=list(party_count_step2.keys()),y=list(party_count_step2.values()))\n",
        "plt.title('Count of Tweets that have Affiliation for Parties')\n",
        "plt.xlabel('Parties')\n",
        "plt.ylabel('Count of Tweets')\n",
        "plt.show()"
      ],
      "metadata": {
        "colab": {
          "base_uri": "https://localhost:8080/",
          "height": 464
        },
        "id": "WP1moarbj9MO",
        "outputId": "6744024f-f99b-4ac4-aa09-c617ec7e986f"
      },
      "execution_count": null,
      "outputs": [
        {
          "output_type": "display_data",
          "data": {
            "text/plain": [
              "<Figure size 720x504 with 1 Axes>"
            ],
            "image/png": "[encoded data removed]"
          },
          "metadata": {}
        }
      ]
    },
    {
      "cell_type": "markdown",
      "source": [
        "The plot result tells us most tweets will vote for Conservative, while PPC and NDP have much fewer supporters compare to Conservative and Liberal."
      ],
      "metadata": {
        "id": "7BiBPMnho7WI"
      }
    },
    {
      "cell_type": "code",
      "source": [
        "#define a function to return the most common k words\n",
        "def get_topk(df, k):\n",
        "    tweets = df['text'].values\n",
        "    counter = Counter()\n",
        "    for tweet in tweets:\n",
        "        counter.update([lemmatizer.lemmatize(word.lower()) for word in tokenizer.tokenize(tweet) if word not in stop_words and len(word) > 2])\n",
        "    topk = counter.most_common(k)\n",
        "    \n",
        "    return topk\n",
        "\n",
        "#join list of words into a string for word cloud input\n",
        "def topk_to_string(wordlist):\n",
        "  word_hold = []\n",
        "  for word in wordlist:\n",
        "    word_hold.append(word[0])\n",
        "    topk_word_1 = (' ').join(word_hold)\n",
        "\n",
        "  return topk_word_1"
      ],
      "metadata": {
        "id": "ZyiU34YSx-6W"
      },
      "execution_count": 134,
      "outputs": []
    },
    {
      "cell_type": "code",
      "source": [
        "topk_keywords_1 = get_topk(df, k=50)\n",
        "topk_keywords_1_str = topk_to_string(topk_keywords_1)"
      ],
      "metadata": {
        "id": "lze1-Tkx5eqb"
      },
      "execution_count": 139,
      "outputs": []
    },
    {
      "cell_type": "code",
      "source": [
        "#plot wordcloud for most 50 frequent words\n",
        "wordcloud_1 = WordCloud(background_color=\"white\",width=1500, height=1000,collocations=False).generate(topk_keywords_1_str)\n",
        "plt.imshow(wordcloud_1, interpolation='bilinear')"
      ],
      "metadata": {
        "colab": {
          "base_uri": "https://localhost:8080/",
          "height": 294
        },
        "id": "L7begp-Nj9F5",
        "outputId": "3c4a7646-aa71-46f4-8f1a-62498920180a"
      },
      "execution_count": 162,
      "outputs": [
        {
          "output_type": "execute_result",
          "data": {
            "text/plain": [
              "<matplotlib.image.AxesImage at 0x7fe6edf12690>"
            ]
          },
          "metadata": {},
          "execution_count": 162
        },
        {
          "output_type": "display_data",
          "data": {
            "text/plain": [
              "<Figure size 432x288 with 1 Axes>"
            ],
            "image/png": "[encoded data removed]"
          },
          "metadata": {}
        }
      ]
    },
    {
      "cell_type": "code",
      "source": [
        "topk_keywords_2 = get_topk(neg_df_clean, k=50)\n",
        "topk_keywords_2_str = topk_to_string(topk_keywords_2)\n",
        "\n",
        "#plot wordcloud for most 50 frequent words\n",
        "wordcloud_2 = WordCloud(background_color=\"white\",width=1500, height=1000,collocations=False).generate(topk_keywords_2_str)\n",
        "plt.imshow(wordcloud_2, interpolation='bilinear')"
      ],
      "metadata": {
        "colab": {
          "base_uri": "https://localhost:8080/",
          "height": 289
        },
        "id": "db054YU96D55",
        "outputId": "8ed7895d-1335-4e6c-f876-cae7985e9d65"
      },
      "execution_count": 147,
      "outputs": [
        {
          "output_type": "execute_result",
          "data": {
            "text/plain": [
              "<matplotlib.image.AxesImage at 0x7fe6ec9ae410>"
            ]
          },
          "metadata": {},
          "execution_count": 147
        },
        {
          "output_type": "display_data",
          "data": {
            "text/plain": [
              "<Figure size 432x288 with 1 Axes>"
            ],
            "image/png": "[encoded data removed]"
          },
          "metadata": {}
        }
      ]
    },
    {
      "cell_type": "code",
      "source": [
        "#plot bar chart to show the term frequency of top 50 words\n",
        "y_1 = [count for word, count in topk_keywords_1]\n",
        "x_1 = [word for word, count in topk_keywords_1]\n",
        "\n",
        "plt.figure(figsize=(15,6))\n",
        "sns.set(font_scale=1.3)\n",
        "sns.barplot(x=x_1,y=y_1)\n",
        "plt.title('Term frequencies in Sentiment Analysis dataset', fontsize=20)\n",
        "plt.xlabel('Frequency')\n",
        "plt.ylabel('Word')\n",
        "plt.xticks(rotation=90)\n",
        "plt.show()"
      ],
      "metadata": {
        "colab": {
          "base_uri": "https://localhost:8080/",
          "height": 494
        },
        "id": "at3G3Y5UKA4P",
        "outputId": "d95ba46b-ee1b-46b9-b98a-40d44716b2c4"
      },
      "execution_count": 155,
      "outputs": [
        {
          "output_type": "display_data",
          "data": {
            "text/plain": [
              "<Figure size 1080x432 with 1 Axes>"
            ],
            "image/png": "[encoded data removed]"
          },
          "metadata": {}
        }
      ]
    },
    {
      "cell_type": "code",
      "source": [
        "#plot bar chart to show the term frequency of top 50 words\n",
        "y_2 = [count for word, count in topk_keywords_2]\n",
        "x_2 = [word for word, count in topk_keywords_2]\n",
        "\n",
        "plt.figure(figsize=(15,6))\n",
        "sns.set(font_scale=1.3)\n",
        "sns.barplot(x=x_2,y=y_2)\n",
        "plt.title('Term frequencies in Canadian Election dataset',fontsize=20)\n",
        "plt.xlabel('Frequency')\n",
        "plt.ylabel('Word')\n",
        "plt.xticks(rotation=90)\n",
        "plt.show()"
      ],
      "metadata": {
        "colab": {
          "base_uri": "https://localhost:8080/",
          "height": 570
        },
        "id": "8JTxs3VyKaKD",
        "outputId": "d0f2c92d-5b3c-453f-cd31-4a0dd6075af0"
      },
      "execution_count": 154,
      "outputs": [
        {
          "output_type": "display_data",
          "data": {
            "text/plain": [
              "<Figure size 1080x432 with 1 Axes>"
            ],
            "image/png": "[encoded data removed]"
          },
          "metadata": {}
        }
      ]
    },
    {
      "cell_type": "markdown",
      "source": [
        "# Part 3: Sentiment Classification - Model Development and Tuning"
      ],
      "metadata": {
        "id": "_kXMjdo8Wcba"
      }
    },
    {
      "cell_type": "markdown",
      "source": [
        "## (a) Seven Models"
      ],
      "metadata": {
        "id": "hywFTsUNyFKO"
      }
    },
    {
      "cell_type": "code",
      "source": [
        "from sklearn.model_selection import train_test_split\n",
        "from sklearn.feature_extraction.text import TfidfVectorizer,CountVectorizer\n",
        "from sklearn.linear_model import LogisticRegression\n",
        "from sklearn.neighbors import KNeighborsClassifier\n",
        "from sklearn.naive_bayes import MultinomialNB\n",
        "from sklearn.svm import LinearSVC\n",
        "from sklearn.tree import DecisionTreeClassifier\n",
        "from sklearn.ensemble import RandomForestClassifier\n",
        "from xgboost import XGBClassifier\n",
        "\n",
        "from sklearn.metrics import accuracy_score"
      ],
      "metadata": {
        "id": "71bFMrN2CkUI"
      },
      "execution_count": 163,
      "outputs": []
    },
    {
      "cell_type": "markdown",
      "source": [
        "Prepare dataframe using TF-IDF"
      ],
      "metadata": {
        "id": "sKpQH27EYIRI"
      }
    },
    {
      "cell_type": "code",
      "source": [
        "#Split the generic tweets dataset into 70% training data and 30% testing data\n",
        "sentiment_X = df['text']\n",
        "sentiment_Y = df['label']\n",
        "\n",
        "x_train, x_test, y_train, y_test = train_test_split(sentiment_X, sentiment_Y, test_size = 0.2, random_state=42)\n",
        "tfidfvectorizer = TfidfVectorizer(analyzer='word', max_features=5000) #only extract top 5000 words\n",
        "\n",
        "#count_train = countvectorizer.fit_transform(x_train)\n",
        "tfidf_train = tfidfvectorizer.fit_transform(x_train)\n",
        "tfidf_test = tfidfvectorizer.transform(x_test)"
      ],
      "metadata": {
        "id": "a25Wuxv4YHKE"
      },
      "execution_count": 164,
      "outputs": []
    },
    {
      "cell_type": "markdown",
      "source": [
        "Model Implementation"
      ],
      "metadata": {
        "id": "nlj_Q4TdrXOJ"
      }
    },
    {
      "cell_type": "code",
      "source": [
        "def seven_model(x_train, y_train, x_test, y_test, model):\n",
        "  \n",
        "    model.fit(x_train, y_train)\n",
        "    y_pred = model.predict(x_test)\n",
        "    print(y_pred.dtype)\n",
        "\n",
        "    accuracy = accuracy_score(y_test,y_pred)\n",
        "   \n",
        "    print('Accuracy Score on testing set is {}'.format(accuracy))\n",
        "    "
      ],
      "metadata": {
        "id": "kxsaEjt5b0en"
      },
      "execution_count": 165,
      "outputs": []
    },
    {
      "cell_type": "code",
      "source": [
        "#Logistic Regression\n",
        "lr = LogisticRegression(C=1.0, max_iter = 1000)\n",
        "seven_model(tfidf_train, y_train, tfidf_test, y_test, model = lr)"
      ],
      "metadata": {
        "colab": {
          "base_uri": "https://localhost:8080/"
        },
        "id": "b_LdxlvyWWQa",
        "outputId": "c377dba2-45d3-40d6-dd89-ca8f75ca3a54"
      },
      "execution_count": 166,
      "outputs": [
        {
          "output_type": "stream",
          "name": "stdout",
          "text": [
            "object\n",
            "Accuracy Score on testing set is 0.9681683154825171\n"
          ]
        }
      ]
    },
    {
      "cell_type": "code",
      "source": [
        "#KNN\n",
        "# the larger leaf_size, the closer neighbors the algorithm picks\n",
        "knn = KNeighborsClassifier(n_neighbors =5, leaf_size = 400)\n",
        "seven_model(tfidf_train, y_train, tfidf_test, y_test, model = knn)"
      ],
      "metadata": {
        "id": "sQUDpk8Q-8vn",
        "colab": {
          "base_uri": "https://localhost:8080/"
        },
        "outputId": "83986371-e879-403d-c6b6-b78859fb5ff6"
      },
      "execution_count": 167,
      "outputs": [
        {
          "output_type": "stream",
          "name": "stdout",
          "text": [
            "object\n",
            "Accuracy Score on testing set is 0.8098274875316818\n"
          ]
        }
      ]
    },
    {
      "cell_type": "code",
      "source": [
        "#Naive Bayes\n",
        "mnb = MultinomialNB() \n",
        "#choose multinomialNB because data are typically represented as word vector counts, \n",
        "#although tf-idf vectors are also known to work well in practice\n",
        "seven_model(tfidf_train, y_train, tfidf_test, y_test, model = mnb)"
      ],
      "metadata": {
        "id": "Vgmk6ELo-8sk",
        "colab": {
          "base_uri": "https://localhost:8080/"
        },
        "outputId": "e2ddce2b-097e-4c7b-d69e-429d0d916821"
      },
      "execution_count": null,
      "outputs": [
        {
          "output_type": "stream",
          "name": "stdout",
          "text": [
            "Accuracy Score on testing set is 0.9539862469109273\n"
          ]
        }
      ]
    },
    {
      "cell_type": "code",
      "source": [
        "#SVM\n",
        "svc = LinearSVC(random_state = 42, penalty = 'l2')\n",
        "seven_model(tfidf_train, y_train, tfidf_test, y_test, model = svc)"
      ],
      "metadata": {
        "id": "uC8sqCml8_4g",
        "colab": {
          "base_uri": "https://localhost:8080/"
        },
        "outputId": "566de74a-d84d-4be9-cfcc-31f3f475ff46"
      },
      "execution_count": 168,
      "outputs": [
        {
          "output_type": "stream",
          "name": "stdout",
          "text": [
            "object\n",
            "Accuracy Score on testing set is 0.9687315473432716\n"
          ]
        }
      ]
    },
    {
      "cell_type": "code",
      "source": [
        "#Decision Tree\n",
        "# max_depth was used to reduce model complexity and decrease runtime\n",
        "dt = DecisionTreeClassifier(random_state = 42, max_depth = 300)\n",
        "seven_model(tfidf_train, y_train, tfidf_test, y_test, model = dt)"
      ],
      "metadata": {
        "colab": {
          "base_uri": "https://localhost:8080/"
        },
        "id": "l6QkBEvVJLZD",
        "outputId": "a4f03eea-6a16-436e-d9d6-01031035ced4"
      },
      "execution_count": null,
      "outputs": [
        {
          "output_type": "stream",
          "name": "stdout",
          "text": [
            "Accuracy Score on testing set is 0.9650263242720533\n"
          ]
        }
      ]
    },
    {
      "cell_type": "code",
      "source": [
        "#Random Forest\n",
        "rf = RandomForestClassifier(random_state = 42, n_estimators = 30, max_depth = 300) \n",
        "seven_model(tfidf_train, y_train, tfidf_test, y_test, model = rf)"
      ],
      "metadata": {
        "colab": {
          "base_uri": "https://localhost:8080/"
        },
        "id": "uwA3sZOeB3Bc",
        "outputId": "be235fa8-60d9-4a4b-c649-4a0440f2e468"
      },
      "execution_count": null,
      "outputs": [
        {
          "output_type": "stream",
          "name": "stdout",
          "text": [
            "Accuracy Score on testing set is 0.9691629955947136\n"
          ]
        }
      ]
    },
    {
      "cell_type": "code",
      "source": [
        "#XGBoost\n",
        "xgb = XGBClassifier(eval_metric = 'auc') #When used with binary classification\n",
        "seven_model(tfidf_train, y_train, tfidf_test, y_test, model = xgb)"
      ],
      "metadata": {
        "colab": {
          "base_uri": "https://localhost:8080/"
        },
        "id": "gvTshbCyB2d5",
        "outputId": "d1c7769c-6d27-43ab-af6b-800afa212189"
      },
      "execution_count": null,
      "outputs": [
        {
          "output_type": "stream",
          "name": "stdout",
          "text": [
            "Accuracy Score on testing set is 0.8954281723433974\n"
          ]
        }
      ]
    },
    {
      "cell_type": "markdown",
      "source": [
        "## (b) Deep Learning Model"
      ],
      "metadata": {
        "id": "9iKWYUnjK6kN"
      }
    },
    {
      "cell_type": "code",
      "source": [
        "from sklearn.model_selection import train_test_split\n",
        "from sklearn.feature_extraction.text import CountVectorizer\n",
        "from keras.models import Sequential\n",
        "from keras.layers import Dense\n",
        "from keras import optimizers\n",
        "import tensorflow as tf\n",
        "import numpy as np"
      ],
      "metadata": {
        "id": "tOMiEbsBC1ZP"
      },
      "execution_count": 169,
      "outputs": []
    },
    {
      "cell_type": "code",
      "source": [
        "df.shape"
      ],
      "metadata": {
        "colab": {
          "base_uri": "https://localhost:8080/"
        },
        "id": "0o6e7_jgqFB_",
        "outputId": "73029964-0eb0-488b-df28-5a21d9180f85"
      },
      "execution_count": null,
      "outputs": [
        {
          "output_type": "execute_result",
          "data": {
            "text/plain": [
              "(550391, 3)"
            ]
          },
          "metadata": {},
          "execution_count": 85
        }
      ]
    },
    {
      "cell_type": "code",
      "source": [
        "#convert Y from str to int\n",
        "df['label'] = df['label'].astype(str).astype(int)\n",
        "\n",
        "sentiment_X = df['text']\n",
        "sentiment_Y = df['label']"
      ],
      "metadata": {
        "id": "oPf2425G5ptG"
      },
      "execution_count": 170,
      "outputs": []
    },
    {
      "cell_type": "code",
      "source": [
        "#split the dataset into train, validation and test set\n",
        "x_train, x_test, y_train, y_test = train_test_split(sentiment_X, sentiment_Y, test_size = 0.2, random_state=42)\n",
        "\n",
        "#Perform feature selection on all train and test set\n",
        "countvectorizer = CountVectorizer(max_features=5000)\n",
        "x_train_c = countvectorizer.fit_transform(x_train)\n",
        "x_test = countvectorizer.transform(x_test)\n",
        "\n",
        "#split the training set into training and validation set\n",
        "x_train_deep, x_val, y_train_deep, y_val = train_test_split(x_train_c, y_train, test_size=0.25, random_state=1) "
      ],
      "metadata": {
        "id": "OwWa0qbhK_zR"
      },
      "execution_count": 171,
      "outputs": []
    },
    {
      "cell_type": "code",
      "source": [
        "#define a function to convert the sparse array matrix to sparse tensor before passing into Keras\n",
        "def convert_sparse_matrix_to_sparse_tensor(X):\n",
        "    coo = X.tocoo()\n",
        "    indices = np.mat([coo.row, coo.col]).transpose()\n",
        "    return tf.SparseTensor(indices, coo.data, coo.shape)\n",
        "\n",
        "x_train_tensor = convert_sparse_matrix_to_sparse_tensor(x_train_deep)"
      ],
      "metadata": {
        "id": "XJm6aBpOKsbr"
      },
      "execution_count": 174,
      "outputs": []
    },
    {
      "cell_type": "code",
      "source": [
        "x_test_tensor = convert_sparse_matrix_to_sparse_tensor(x_test)\n",
        "x_yal_tensor = convert_sparse_matrix_to_sparse_tensor(x_val)\n",
        "\n",
        "#convert all Y from series to array before passing into Keras\n",
        "y_train_np = np.asarray(y_train_deep.copy())\n",
        "y_test_np = np.asarray(y_test.copy())\n",
        "y_val_np = np.asarray(y_val.copy())\n",
        "\n",
        "#reorder X set tensors\n",
        "x_train_tensor_reorder = tf.sparse.reorder(x_train_tensor)\n",
        "x_yal_tensor_reorder = tf.sparse.reorder(x_yal_tensor)"
      ],
      "metadata": {
        "id": "6DXjErnS98zx"
      },
      "execution_count": 177,
      "outputs": []
    },
    {
      "cell_type": "code",
      "source": [
        "# define the grid search hyper parameter options \n",
        "optimizers = ['SGD', 'Adadelta', 'Adam']\n",
        "epochs = [10,15,20]\n",
        "\n",
        "for optimizer in optimizers:\n",
        "  for epoch in epochs:\n",
        "\n",
        "    # create model\n",
        "    np.random.seed(9)\n",
        "    model = Sequential()\n",
        "    # Hidden Layer (Layer 1)\n",
        "    model.add(Dense(4, input_shape=(5000,), activation='relu'))\n",
        "    # Output Layer\n",
        "    model.add(Dense(1, activation='sigmoid'))\n",
        "\n",
        "    model.compile(loss='binary_crossentropy', optimizer=optimizer, metrics=['accuracy'])\n",
        "    model.fit(x_train_tensor_reorder, y_train_np, epochs= epoch, verbose=1, batch_size = 64)\n",
        "\n",
        "    #evaluate the model performance on the validation set to tune the parameters\n",
        "    loss, prediction_accuracy = model.evaluate(x_yal_tensor_reorder, y_val_np)\n",
        "\n",
        "    best_accuracy = 0\n",
        "    #store the best accuracy by comparing each pair of parameter values\n",
        "    if prediction_accuracy > best_accuracy:\n",
        "      best_model = model\n",
        "      #update the model parameters\n",
        "      best_params = {'Optimizer':optimizer, 'epoch':epoch}\n",
        "      best_accuracy = prediction_accuracy\n",
        " \n",
        "    print(\"optimizer=\" + str(optimizer))\n",
        "print (best_params)\n",
        "print (\"Best Score: {}%\".format(round(best_accuracy,3)))      \n",
        "\n",
        "print (\"\\nThe optimal model uses optimizer ={}, and epoch = {}, and has a predict accuracy score of {}%\".\n",
        "       format(best_params['optimizer'],best_params['epoch'],round(best_accuracy,3)))"
      ],
      "metadata": {
        "colab": {
          "base_uri": "https://localhost:8080/",
          "height": 1000
        },
        "id": "6wz7XqwDM4qM",
        "outputId": "bf83d016-a074-45d7-a066-3f687ceaf255"
      },
      "execution_count": null,
      "outputs": [
        {
          "metadata": {
            "tags": null
          },
          "name": "stdout",
          "output_type": "stream",
          "text": [
            "Epoch 1/10\n"
          ]
        },
        {
          "metadata": {
            "tags": null
          },
          "name": "stderr",
          "output_type": "stream",
          "text": [
            "/usr/local/lib/python3.7/dist-packages/tensorflow/python/framework/indexed_slices.py:446: UserWarning: Converting sparse IndexedSlices(IndexedSlices(indices=Tensor(\"gradient_tape/sequential_5/dense_10/embedding_lookup_sparse/Reshape_1:0\", shape=(None,), dtype=int32), values=Tensor(\"gradient_tape/sequential_5/dense_10/embedding_lookup_sparse/Reshape:0\", shape=(None, 4), dtype=float32), dense_shape=Tensor(\"gradient_tape/sequential_5/dense_10/embedding_lookup_sparse/Cast:0\", shape=(2,), dtype=int32))) to a dense Tensor of unknown shape. This may consume a large amount of memory.\n",
            "  \"shape. This may consume a large amount of memory.\" % value)\n"
          ]
        },
        {
          "metadata": {
            "tags": null
          },
          "name": "stdout",
          "output_type": "stream",
          "text": [
            "5160/5160 [==============================] - 17s 3ms/step - loss: 0.4513 - accuracy: 0.7789\n",
            "Epoch 2/10\n",
            "5160/5160 [==============================] - 11s 2ms/step - loss: 0.2575 - accuracy: 0.9290\n",
            "Epoch 3/10\n",
            "5160/5160 [==============================] - 11s 2ms/step - loss: 0.1887 - accuracy: 0.9437\n",
            "Epoch 4/10\n",
            "5160/5160 [==============================] - 11s 2ms/step - loss: 0.1570 - accuracy: 0.9508\n",
            "Epoch 5/10\n",
            "5160/5160 [==============================] - 11s 2ms/step - loss: 0.1390 - accuracy: 0.9554\n",
            "Epoch 6/10\n",
            "5160/5160 [==============================] - 11s 2ms/step - loss: 0.1274 - accuracy: 0.9583\n",
            "Epoch 7/10\n",
            "5160/5160 [==============================] - 11s 2ms/step - loss: 0.1192 - accuracy: 0.9606\n",
            "Epoch 8/10\n",
            "5160/5160 [==============================] - 12s 2ms/step - loss: 0.1131 - accuracy: 0.9623\n",
            "Epoch 9/10\n",
            "5160/5160 [==============================] - 12s 2ms/step - loss: 0.1083 - accuracy: 0.9636\n",
            "Epoch 10/10\n",
            "5160/5160 [==============================] - 11s 2ms/step - loss: 0.1045 - accuracy: 0.9646\n",
            "3440/3440 [==============================] - 5s 1ms/step - loss: 0.1057 - accuracy: 0.9630\n",
            "optimizer=SGD\n",
            "Epoch 1/15\n"
          ]
        },
        {
          "metadata": {
            "tags": null
          },
          "name": "stderr",
          "output_type": "stream",
          "text": [
            "/usr/local/lib/python3.7/dist-packages/tensorflow/python/framework/indexed_slices.py:446: UserWarning: Converting sparse IndexedSlices(IndexedSlices(indices=Tensor(\"gradient_tape/sequential_6/dense_12/embedding_lookup_sparse/Reshape_1:0\", shape=(None,), dtype=int32), values=Tensor(\"gradient_tape/sequential_6/dense_12/embedding_lookup_sparse/Reshape:0\", shape=(None, 4), dtype=float32), dense_shape=Tensor(\"gradient_tape/sequential_6/dense_12/embedding_lookup_sparse/Cast:0\", shape=(2,), dtype=int32))) to a dense Tensor of unknown shape. This may consume a large amount of memory.\n",
            "  \"shape. This may consume a large amount of memory.\" % value)\n"
          ]
        },
        {
          "metadata": {
            "tags": null
          },
          "name": "stdout",
          "output_type": "stream",
          "text": [
            "5160/5160 [==============================] - 12s 2ms/step - loss: 0.5318 - accuracy: 0.7238\n",
            "Epoch 2/15\n",
            "5160/5160 [==============================] - 12s 2ms/step - loss: 0.2753 - accuracy: 0.9164\n",
            "Epoch 3/15\n",
            "5160/5160 [==============================] - 12s 2ms/step - loss: 0.1871 - accuracy: 0.9405\n",
            "Epoch 4/15\n",
            "5160/5160 [==============================] - 12s 2ms/step - loss: 0.1533 - accuracy: 0.9494\n",
            "Epoch 5/15\n",
            "5160/5160 [==============================] - 12s 2ms/step - loss: 0.1354 - accuracy: 0.9543\n",
            "Epoch 6/15\n",
            "5160/5160 [==============================] - 12s 2ms/step - loss: 0.1242 - accuracy: 0.9577\n",
            "Epoch 7/15\n",
            "5160/5160 [==============================] - 11s 2ms/step - loss: 0.1164 - accuracy: 0.9601\n",
            "Epoch 8/15\n",
            "5160/5160 [==============================] - 11s 2ms/step - loss: 0.1107 - accuracy: 0.9620\n",
            "Epoch 9/15\n",
            "5160/5160 [==============================] - 12s 2ms/step - loss: 0.1062 - accuracy: 0.9635\n",
            "Epoch 10/15\n",
            "5160/5160 [==============================] - 11s 2ms/step - loss: 0.1027 - accuracy: 0.9645\n",
            "Epoch 11/15\n",
            "5160/5160 [==============================] - 11s 2ms/step - loss: 0.0998 - accuracy: 0.9654\n",
            "Epoch 12/15\n",
            "5160/5160 [==============================] - 12s 2ms/step - loss: 0.0974 - accuracy: 0.9662\n",
            "Epoch 13/15\n",
            "5160/5160 [==============================] - 12s 2ms/step - loss: 0.0954 - accuracy: 0.9668\n",
            "Epoch 14/15\n",
            "5160/5160 [==============================] - 11s 2ms/step - loss: 0.0937 - accuracy: 0.9673\n",
            "Epoch 15/15\n",
            "5160/5160 [==============================] - 12s 2ms/step - loss: 0.0922 - accuracy: 0.9678\n",
            "3440/3440 [==============================] - 5s 1ms/step - loss: 0.0958 - accuracy: 0.9658\n",
            "optimizer=SGD\n",
            "Epoch 1/20\n"
          ]
        },
        {
          "metadata": {
            "tags": null
          },
          "name": "stderr",
          "output_type": "stream",
          "text": [
            "/usr/local/lib/python3.7/dist-packages/tensorflow/python/framework/indexed_slices.py:446: UserWarning: Converting sparse IndexedSlices(IndexedSlices(indices=Tensor(\"gradient_tape/sequential_7/dense_14/embedding_lookup_sparse/Reshape_1:0\", shape=(None,), dtype=int32), values=Tensor(\"gradient_tape/sequential_7/dense_14/embedding_lookup_sparse/Reshape:0\", shape=(None, 4), dtype=float32), dense_shape=Tensor(\"gradient_tape/sequential_7/dense_14/embedding_lookup_sparse/Cast:0\", shape=(2,), dtype=int32))) to a dense Tensor of unknown shape. This may consume a large amount of memory.\n",
            "  \"shape. This may consume a large amount of memory.\" % value)\n"
          ]
        },
        {
          "metadata": {
            "tags": null
          },
          "name": "stdout",
          "output_type": "stream",
          "text": [
            "5160/5160 [==============================] - 12s 2ms/step - loss: 0.4497 - accuracy: 0.7906\n",
            "Epoch 2/20\n",
            "5160/5160 [==============================] - 12s 2ms/step - loss: 0.2373 - accuracy: 0.9281\n",
            "Epoch 3/20\n",
            "5160/5160 [==============================] - 12s 2ms/step - loss: 0.1737 - accuracy: 0.9438\n",
            "Epoch 4/20\n",
            "5160/5160 [==============================] - 12s 2ms/step - loss: 0.1464 - accuracy: 0.9511\n",
            "Epoch 5/20\n",
            "5160/5160 [==============================] - 12s 2ms/step - loss: 0.1312 - accuracy: 0.9558\n",
            "Epoch 6/20\n",
            "5160/5160 [==============================] - 12s 2ms/step - loss: 0.1213 - accuracy: 0.9588\n",
            "Epoch 7/20\n",
            "5160/5160 [==============================] - 11s 2ms/step - loss: 0.1143 - accuracy: 0.9610\n",
            "Epoch 8/20\n",
            "5160/5160 [==============================] - 11s 2ms/step - loss: 0.1090 - accuracy: 0.9626\n",
            "Epoch 9/20\n",
            "5160/5160 [==============================] - 12s 2ms/step - loss: 0.1049 - accuracy: 0.9640\n",
            "Epoch 10/20\n",
            "5160/5160 [==============================] - 11s 2ms/step - loss: 0.1016 - accuracy: 0.9650\n",
            "Epoch 11/20\n",
            "5160/5160 [==============================] - 12s 2ms/step - loss: 0.0989 - accuracy: 0.9656\n",
            "Epoch 12/20\n",
            "5160/5160 [==============================] - 11s 2ms/step - loss: 0.0966 - accuracy: 0.9665\n",
            "Epoch 13/20\n",
            "5160/5160 [==============================] - 12s 2ms/step - loss: 0.0947 - accuracy: 0.9668\n",
            "Epoch 14/20\n",
            "5160/5160 [==============================] - 12s 2ms/step - loss: 0.0931 - accuracy: 0.9676\n",
            "Epoch 15/20\n",
            "5160/5160 [==============================] - 11s 2ms/step - loss: 0.0917 - accuracy: 0.9679\n",
            "Epoch 16/20\n",
            "5160/5160 [==============================] - 11s 2ms/step - loss: 0.0904 - accuracy: 0.9683\n",
            "Epoch 17/20\n",
            "5160/5160 [==============================] - 11s 2ms/step - loss: 0.0893 - accuracy: 0.9687\n",
            "Epoch 18/20\n",
            "5160/5160 [==============================] - 11s 2ms/step - loss: 0.0884 - accuracy: 0.9690\n",
            "Epoch 19/20\n",
            "5160/5160 [==============================] - 11s 2ms/step - loss: 0.0875 - accuracy: 0.9692\n",
            "Epoch 20/20\n",
            "5160/5160 [==============================] - 11s 2ms/step - loss: 0.0867 - accuracy: 0.9695\n",
            "3440/3440 [==============================] - 5s 1ms/step - loss: 0.0927 - accuracy: 0.9666\n",
            "optimizer=SGD\n",
            "Epoch 1/10\n"
          ]
        },
        {
          "metadata": {
            "tags": null
          },
          "name": "stderr",
          "output_type": "stream",
          "text": [
            "/usr/local/lib/python3.7/dist-packages/tensorflow/python/framework/indexed_slices.py:446: UserWarning: Converting sparse IndexedSlices(IndexedSlices(indices=Tensor(\"gradient_tape/sequential_8/dense_16/embedding_lookup_sparse/Reshape_1:0\", shape=(None,), dtype=int32), values=Tensor(\"gradient_tape/sequential_8/dense_16/embedding_lookup_sparse/Reshape:0\", shape=(None, 4), dtype=float32), dense_shape=Tensor(\"gradient_tape/sequential_8/dense_16/embedding_lookup_sparse/Cast:0\", shape=(2,), dtype=int32))) to a dense Tensor of unknown shape. This may consume a large amount of memory.\n",
            "  \"shape. This may consume a large amount of memory.\" % value)\n"
          ]
        },
        {
          "metadata": {
            "tags": null
          },
          "name": "stdout",
          "output_type": "stream",
          "text": [
            "5160/5160 [==============================] - 13s 2ms/step - loss: 0.6947 - accuracy: 0.4864\n",
            "Epoch 2/10\n",
            "5160/5160 [==============================] - 13s 2ms/step - loss: 0.6883 - accuracy: 0.6127\n",
            "Epoch 3/10\n",
            "5160/5160 [==============================] - 12s 2ms/step - loss: 0.6828 - accuracy: 0.6626\n",
            "Epoch 4/10\n",
            "5160/5160 [==============================] - 13s 2ms/step - loss: 0.6774 - accuracy: 0.6741\n",
            "Epoch 5/10\n",
            "5160/5160 [==============================] - 12s 2ms/step - loss: 0.6720 - accuracy: 0.6758\n",
            "Epoch 6/10\n",
            "5160/5160 [==============================] - 13s 2ms/step - loss: 0.6666 - accuracy: 0.6755\n",
            "Epoch 7/10\n",
            "5160/5160 [==============================] - 12s 2ms/step - loss: 0.6610 - accuracy: 0.6753\n",
            "Epoch 8/10\n",
            "5160/5160 [==============================] - 13s 2ms/step - loss: 0.6556 - accuracy: 0.6751\n",
            "Epoch 9/10\n",
            "5160/5160 [==============================] - 13s 2ms/step - loss: 0.6501 - accuracy: 0.6751\n",
            "Epoch 10/10\n",
            "5160/5160 [==============================] - 13s 2ms/step - loss: 0.6445 - accuracy: 0.6751\n",
            "3440/3440 [==============================] - 5s 2ms/step - loss: 0.6420 - accuracy: 0.6741\n",
            "optimizer=Adadelta\n",
            "Epoch 1/15\n"
          ]
        },
        {
          "metadata": {
            "tags": null
          },
          "name": "stderr",
          "output_type": "stream",
          "text": [
            "/usr/local/lib/python3.7/dist-packages/tensorflow/python/framework/indexed_slices.py:446: UserWarning: Converting sparse IndexedSlices(IndexedSlices(indices=Tensor(\"gradient_tape/sequential_9/dense_18/embedding_lookup_sparse/Reshape_1:0\", shape=(None,), dtype=int32), values=Tensor(\"gradient_tape/sequential_9/dense_18/embedding_lookup_sparse/Reshape:0\", shape=(None, 4), dtype=float32), dense_shape=Tensor(\"gradient_tape/sequential_9/dense_18/embedding_lookup_sparse/Cast:0\", shape=(2,), dtype=int32))) to a dense Tensor of unknown shape. This may consume a large amount of memory.\n",
            "  \"shape. This may consume a large amount of memory.\" % value)\n"
          ]
        },
        {
          "metadata": {
            "tags": null
          },
          "name": "stdout",
          "output_type": "stream",
          "text": [
            "5160/5160 [==============================] - 13s 2ms/step - loss: 0.6919 - accuracy: 0.5363\n",
            "Epoch 2/15\n",
            "5160/5160 [==============================] - 13s 2ms/step - loss: 0.6849 - accuracy: 0.6534\n",
            "Epoch 3/15\n",
            "5160/5160 [==============================] - 14s 2ms/step - loss: 0.6779 - accuracy: 0.6752\n",
            "Epoch 4/15\n",
            "5160/5160 [==============================] - 14s 3ms/step - loss: 0.6706 - accuracy: 0.6761\n",
            "Epoch 5/15\n",
            "5160/5160 [==============================] - 14s 3ms/step - loss: 0.6631 - accuracy: 0.6756\n",
            "Epoch 6/15\n",
            "5160/5160 [==============================] - 14s 3ms/step - loss: 0.6556 - accuracy: 0.6753\n",
            "Epoch 7/15\n",
            "5160/5160 [==============================] - 14s 2ms/step - loss: 0.6482 - accuracy: 0.6751\n",
            "Epoch 8/15\n",
            "5160/5160 [==============================] - 14s 3ms/step - loss: 0.6410 - accuracy: 0.6751\n",
            "Epoch 9/15\n",
            "5160/5160 [==============================] - 14s 3ms/step - loss: 0.6340 - accuracy: 0.6751\n",
            "Epoch 10/15\n",
            "5160/5160 [==============================] - 14s 3ms/step - loss: 0.6271 - accuracy: 0.6751\n",
            "Epoch 11/15\n",
            "5160/5160 [==============================] - 14s 2ms/step - loss: 0.6203 - accuracy: 0.6751\n",
            "Epoch 12/15\n",
            "5160/5160 [==============================] - 14s 3ms/step - loss: 0.6137 - accuracy: 0.6751\n",
            "Epoch 13/15\n",
            "5160/5160 [==============================] - 14s 2ms/step - loss: 0.6072 - accuracy: 0.6751\n",
            "Epoch 14/15\n",
            "5160/5160 [==============================] - 14s 2ms/step - loss: 0.6009 - accuracy: 0.6751\n",
            "Epoch 15/15\n",
            "5160/5160 [==============================] - 13s 2ms/step - loss: 0.5946 - accuracy: 0.6751\n",
            "3440/3440 [==============================] - 5s 2ms/step - loss: 0.5922 - accuracy: 0.6741\n",
            "optimizer=Adadelta\n",
            "Epoch 1/20\n"
          ]
        },
        {
          "metadata": {
            "tags": null
          },
          "name": "stderr",
          "output_type": "stream",
          "text": [
            "/usr/local/lib/python3.7/dist-packages/tensorflow/python/framework/indexed_slices.py:446: UserWarning: Converting sparse IndexedSlices(IndexedSlices(indices=Tensor(\"gradient_tape/sequential_10/dense_20/embedding_lookup_sparse/Reshape_1:0\", shape=(None,), dtype=int32), values=Tensor(\"gradient_tape/sequential_10/dense_20/embedding_lookup_sparse/Reshape:0\", shape=(None, 4), dtype=float32), dense_shape=Tensor(\"gradient_tape/sequential_10/dense_20/embedding_lookup_sparse/Cast:0\", shape=(2,), dtype=int32))) to a dense Tensor of unknown shape. This may consume a large amount of memory.\n",
            "  \"shape. This may consume a large amount of memory.\" % value)\n"
          ]
        },
        {
          "metadata": {
            "tags": null
          },
          "name": "stdout",
          "output_type": "stream",
          "text": [
            "5160/5160 [==============================] - 13s 2ms/step - loss: 0.6870 - accuracy: 0.6079\n",
            "Epoch 2/20\n",
            "5160/5160 [==============================] - 12s 2ms/step - loss: 0.6775 - accuracy: 0.6593\n",
            "Epoch 3/20\n",
            "5160/5160 [==============================] - 12s 2ms/step - loss: 0.6668 - accuracy: 0.6759\n",
            "Epoch 4/20\n",
            "5160/5160 [==============================] - 12s 2ms/step - loss: 0.6553 - accuracy: 0.6778\n",
            "Epoch 5/20\n",
            "5160/5160 [==============================] - 12s 2ms/step - loss: 0.6437 - accuracy: 0.6770\n",
            "Epoch 6/20\n",
            "5160/5160 [==============================] - 12s 2ms/step - loss: 0.6325 - accuracy: 0.6763\n",
            "Epoch 7/20\n",
            "5160/5160 [==============================] - 12s 2ms/step - loss: 0.6220 - accuracy: 0.6759\n",
            "Epoch 8/20\n",
            "5160/5160 [==============================] - 12s 2ms/step - loss: 0.6119 - accuracy: 0.6757\n",
            "Epoch 9/20\n",
            "5160/5160 [==============================] - 12s 2ms/step - loss: 0.6024 - accuracy: 0.6756\n",
            "Epoch 10/20\n",
            "5160/5160 [==============================] - 12s 2ms/step - loss: 0.5934 - accuracy: 0.6756\n",
            "Epoch 11/20\n",
            "5160/5160 [==============================] - 13s 2ms/step - loss: 0.5849 - accuracy: 0.6757\n",
            "Epoch 12/20\n",
            "5160/5160 [==============================] - 12s 2ms/step - loss: 0.5767 - accuracy: 0.6758\n",
            "Epoch 13/20\n",
            "5160/5160 [==============================] - 13s 2ms/step - loss: 0.5690 - accuracy: 0.6759\n",
            "Epoch 14/20\n",
            "5160/5160 [==============================] - 12s 2ms/step - loss: 0.5616 - accuracy: 0.6762\n",
            "Epoch 15/20\n",
            "5160/5160 [==============================] - 13s 2ms/step - loss: 0.5544 - accuracy: 0.6765\n",
            "Epoch 16/20\n",
            "5160/5160 [==============================] - 12s 2ms/step - loss: 0.5474 - accuracy: 0.6770\n",
            "Epoch 17/20\n",
            "5160/5160 [==============================] - 12s 2ms/step - loss: 0.5406 - accuracy: 0.6777\n",
            "Epoch 18/20\n",
            "5160/5160 [==============================] - 12s 2ms/step - loss: 0.5340 - accuracy: 0.6787\n",
            "Epoch 19/20\n",
            "5160/5160 [==============================] - 12s 2ms/step - loss: 0.5275 - accuracy: 0.6799\n",
            "Epoch 20/20\n",
            "5160/5160 [==============================] - 12s 2ms/step - loss: 0.5211 - accuracy: 0.6819\n",
            "3440/3440 [==============================] - 5s 2ms/step - loss: 0.5189 - accuracy: 0.6819\n",
            "optimizer=Adadelta\n",
            "Epoch 1/10\n"
          ]
        },
        {
          "metadata": {
            "tags": null
          },
          "name": "stderr",
          "output_type": "stream",
          "text": [
            "/usr/local/lib/python3.7/dist-packages/tensorflow/python/framework/indexed_slices.py:446: UserWarning: Converting sparse IndexedSlices(IndexedSlices(indices=Tensor(\"gradient_tape/sequential_11/dense_22/embedding_lookup_sparse/Reshape_1:0\", shape=(None,), dtype=int32), values=Tensor(\"gradient_tape/sequential_11/dense_22/embedding_lookup_sparse/Reshape:0\", shape=(None, 4), dtype=float32), dense_shape=Tensor(\"gradient_tape/sequential_11/dense_22/embedding_lookup_sparse/Cast:0\", shape=(2,), dtype=int32))) to a dense Tensor of unknown shape. This may consume a large amount of memory.\n",
            "  \"shape. This may consume a large amount of memory.\" % value)\n"
          ]
        },
        {
          "metadata": {
            "tags": null
          },
          "name": "stdout",
          "output_type": "stream",
          "text": [
            "5160/5160 [==============================] - 13s 2ms/step - loss: 0.1421 - accuracy: 0.9518\n",
            "Epoch 2/10\n",
            "5160/5160 [==============================] - 13s 2ms/step - loss: 0.0877 - accuracy: 0.9680\n",
            "Epoch 3/10\n",
            "5160/5160 [==============================] - 13s 2ms/step - loss: 0.0851 - accuracy: 0.9691\n",
            "Epoch 4/10\n",
            "5160/5160 [==============================] - 13s 2ms/step - loss: 0.0834 - accuracy: 0.9697\n",
            "Epoch 5/10\n",
            "5160/5160 [==============================] - 13s 2ms/step - loss: 0.0814 - accuracy: 0.9700\n",
            "Epoch 6/10\n",
            "5160/5160 [==============================] - 13s 2ms/step - loss: 0.0789 - accuracy: 0.9708\n",
            "Epoch 7/10\n",
            "5160/5160 [==============================] - 13s 2ms/step - loss: 0.0767 - accuracy: 0.9715\n",
            "Epoch 8/10\n",
            "5160/5160 [==============================] - 13s 2ms/step - loss: 0.0746 - accuracy: 0.9722\n",
            "Epoch 9/10\n",
            "5160/5160 [==============================] - 13s 2ms/step - loss: 0.0727 - accuracy: 0.9728\n",
            "Epoch 10/10\n",
            "5160/5160 [==============================] - 13s 2ms/step - loss: 0.0709 - accuracy: 0.9734\n",
            "3440/3440 [==============================] - 5s 2ms/step - loss: 0.0884 - accuracy: 0.9684\n",
            "optimizer=Adam\n",
            "Epoch 1/15\n"
          ]
        },
        {
          "metadata": {
            "tags": null
          },
          "name": "stderr",
          "output_type": "stream",
          "text": [
            "/usr/local/lib/python3.7/dist-packages/tensorflow/python/framework/indexed_slices.py:446: UserWarning: Converting sparse IndexedSlices(IndexedSlices(indices=Tensor(\"gradient_tape/sequential_12/dense_24/embedding_lookup_sparse/Reshape_1:0\", shape=(None,), dtype=int32), values=Tensor(\"gradient_tape/sequential_12/dense_24/embedding_lookup_sparse/Reshape:0\", shape=(None, 4), dtype=float32), dense_shape=Tensor(\"gradient_tape/sequential_12/dense_24/embedding_lookup_sparse/Cast:0\", shape=(2,), dtype=int32))) to a dense Tensor of unknown shape. This may consume a large amount of memory.\n",
            "  \"shape. This may consume a large amount of memory.\" % value)\n"
          ]
        },
        {
          "output_type": "stream",
          "name": "stdout",
          "text": [
            "5160/5160 [==============================] - 13s 2ms/step - loss: 0.1454 - accuracy: 0.9548\n",
            "Epoch 2/15\n",
            "5160/5160 [==============================] - 13s 2ms/step - loss: 0.0880 - accuracy: 0.9683\n",
            "Epoch 3/15\n",
            "5160/5160 [==============================] - 13s 2ms/step - loss: 0.0854 - accuracy: 0.9692\n",
            "Epoch 4/15\n",
            "5160/5160 [==============================] - 13s 2ms/step - loss: 0.0843 - accuracy: 0.9695\n",
            "Epoch 5/15\n",
            "5160/5160 [==============================] - 13s 2ms/step - loss: 0.0832 - accuracy: 0.9698\n",
            "Epoch 6/15\n",
            "5160/5160 [==============================] - 13s 2ms/step - loss: 0.0817 - accuracy: 0.9702\n",
            "Epoch 7/15\n",
            "5160/5160 [==============================] - 13s 2ms/step - loss: 0.0801 - accuracy: 0.9706\n",
            "Epoch 8/15\n",
            "5160/5160 [==============================] - 15s 3ms/step - loss: 0.0785 - accuracy: 0.9713\n",
            "Epoch 9/15\n",
            "5160/5160 [==============================] - 14s 2ms/step - loss: 0.0769 - accuracy: 0.9716\n",
            "Epoch 10/15\n",
            "5160/5160 [==============================] - 13s 2ms/step - loss: 0.0755 - accuracy: 0.9723\n",
            "Epoch 11/15\n",
            "5160/5160 [==============================] - 14s 2ms/step - loss: 0.0742 - accuracy: 0.9726\n",
            "Epoch 12/15\n",
            "5160/5160 [==============================] - 13s 2ms/step - loss: 0.0729 - accuracy: 0.9730\n",
            "Epoch 13/15\n",
            "5160/5160 [==============================] - 14s 2ms/step - loss: 0.0716 - accuracy: 0.9734\n",
            "Epoch 14/15\n",
            "5160/5160 [==============================] - 14s 2ms/step - loss: 0.0705 - accuracy: 0.9737\n",
            "Epoch 15/15\n",
            "5160/5160 [==============================] - 13s 2ms/step - loss: 0.0693 - accuracy: 0.9744\n",
            "3440/3440 [==============================] - 6s 2ms/step - loss: 0.0896 - accuracy: 0.9681\n",
            "optimizer=Adam\n",
            "Epoch 1/20\n"
          ]
        },
        {
          "output_type": "stream",
          "name": "stderr",
          "text": [
            "/usr/local/lib/python3.7/dist-packages/tensorflow/python/framework/indexed_slices.py:446: UserWarning: Converting sparse IndexedSlices(IndexedSlices(indices=Tensor(\"gradient_tape/sequential_13/dense_26/embedding_lookup_sparse/Reshape_1:0\", shape=(None,), dtype=int32), values=Tensor(\"gradient_tape/sequential_13/dense_26/embedding_lookup_sparse/Reshape:0\", shape=(None, 4), dtype=float32), dense_shape=Tensor(\"gradient_tape/sequential_13/dense_26/embedding_lookup_sparse/Cast:0\", shape=(2,), dtype=int32))) to a dense Tensor of unknown shape. This may consume a large amount of memory.\n",
            "  \"shape. This may consume a large amount of memory.\" % value)\n"
          ]
        },
        {
          "output_type": "stream",
          "name": "stdout",
          "text": [
            "5160/5160 [==============================] - 15s 3ms/step - loss: 0.1471 - accuracy: 0.9481\n",
            "Epoch 2/20\n",
            "5160/5160 [==============================] - 14s 2ms/step - loss: 0.0879 - accuracy: 0.9681\n",
            "Epoch 3/20\n",
            "5160/5160 [==============================] - 14s 3ms/step - loss: 0.0854 - accuracy: 0.9690\n",
            "Epoch 4/20\n",
            "5160/5160 [==============================] - 14s 2ms/step - loss: 0.0841 - accuracy: 0.9694\n",
            "Epoch 5/20\n",
            "5160/5160 [==============================] - 14s 3ms/step - loss: 0.0829 - accuracy: 0.9698\n",
            "Epoch 6/20\n",
            "5160/5160 [==============================] - 14s 2ms/step - loss: 0.0814 - accuracy: 0.9701\n",
            "Epoch 7/20\n",
            "5160/5160 [==============================] - 14s 3ms/step - loss: 0.0794 - accuracy: 0.9708\n",
            "Epoch 8/20\n",
            "5160/5160 [==============================] - 14s 3ms/step - loss: 0.0775 - accuracy: 0.9714\n",
            "Epoch 9/20\n",
            "5160/5160 [==============================] - 14s 2ms/step - loss: 0.0757 - accuracy: 0.9721\n",
            "Epoch 10/20\n",
            "5160/5160 [==============================] - 14s 2ms/step - loss: 0.0741 - accuracy: 0.9726\n",
            "Epoch 11/20\n",
            "5160/5160 [==============================] - 14s 2ms/step - loss: 0.0727 - accuracy: 0.9730\n",
            "Epoch 12/20\n",
            "5160/5160 [==============================] - 14s 2ms/step - loss: 0.0715 - accuracy: 0.9736\n",
            "Epoch 13/20\n",
            "5160/5160 [==============================] - 14s 2ms/step - loss: 0.0704 - accuracy: 0.9739\n",
            "Epoch 14/20\n",
            "5160/5160 [==============================] - 14s 2ms/step - loss: 0.0694 - accuracy: 0.9741\n",
            "Epoch 15/20\n",
            "5160/5160 [==============================] - 14s 3ms/step - loss: 0.0685 - accuracy: 0.9746\n",
            "Epoch 16/20\n",
            "5160/5160 [==============================] - 14s 2ms/step - loss: 0.0676 - accuracy: 0.9747\n",
            "Epoch 17/20\n",
            "5160/5160 [==============================] - 14s 2ms/step - loss: 0.0667 - accuracy: 0.9753\n",
            "Epoch 18/20\n",
            "5160/5160 [==============================] - 14s 3ms/step - loss: 0.0659 - accuracy: 0.9756\n",
            "Epoch 19/20\n",
            "5160/5160 [==============================] - 14s 2ms/step - loss: 0.0651 - accuracy: 0.9760\n",
            "Epoch 20/20\n",
            "5160/5160 [==============================] - 13s 2ms/step - loss: 0.0644 - accuracy: 0.9762\n",
            "3440/3440 [==============================] - 6s 2ms/step - loss: 0.0913 - accuracy: 0.9685\n",
            "optimizer=Adam\n",
            "{'Optimizer': 'Adam', 'epoch': 20}\n",
            "Best Score: 0.969%\n"
          ]
        },
        {
          "output_type": "error",
          "ename": "KeyError",
          "evalue": "ignored",
          "traceback": [
            "\u001b[0;31m---------------------------------------------------------------------------\u001b[0m",
            "\u001b[0;31mKeyError\u001b[0m                                  Traceback (most recent call last)",
            "\u001b[0;32m<ipython-input-27-fd103d53502a>\u001b[0m in \u001b[0;36m<module>\u001b[0;34m()\u001b[0m\n\u001b[1;32m     33\u001b[0m \u001b[0;34m\u001b[0m\u001b[0m\n\u001b[1;32m     34\u001b[0m print (\"\\nThe optimal model uses optimizer ={}, and epoch = {}, and has a predict accuracy score of {}%\".\n\u001b[0;32m---> 35\u001b[0;31m        format(best_params['optimizer'],best_params['epoch'],round(best_accuracy,3)))\n\u001b[0m",
            "\u001b[0;31mKeyError\u001b[0m: 'optimizer'"
          ]
        }
      ]
    },
    {
      "cell_type": "markdown",
      "source": [
        "Implement best model:"
      ],
      "metadata": {
        "id": "ROfk7kSlgzHV"
      }
    },
    {
      "cell_type": "code",
      "source": [
        "# create model with the best parameters\n",
        "np.random.seed(9)\n",
        "model = Sequential()\n",
        "model.add(Dense(4, input_shape=(5000,), activation='relu'))\n",
        "model.add(Dense(1, activation='sigmoid'))\n",
        "\n",
        "model.compile(loss='binary_crossentropy', optimizer='Adam', metrics=['accuracy'])\n",
        "model.fit(x_train_tensor_reorder, y_train_np, epochs=20, verbose=1, batch_size = 64)\n",
        "\n",
        "loss, prediction_accuracy = model.evaluate(x_test_tensor, y_test_np)\n",
        "print(\"loss = \", loss)\n",
        "print(\"prediction accuracy = \", prediction_accuracy)"
      ],
      "metadata": {
        "colab": {
          "base_uri": "https://localhost:8080/"
        },
        "id": "z15bdr2kIGJe",
        "outputId": "50c820f5-0f5b-41c5-cd66-b788e25898a8"
      },
      "execution_count": 178,
      "outputs": [
        {
          "output_type": "stream",
          "name": "stdout",
          "text": [
            "Epoch 1/20\n"
          ]
        },
        {
          "output_type": "stream",
          "name": "stderr",
          "text": [
            "/usr/local/lib/python3.7/dist-packages/tensorflow/python/framework/indexed_slices.py:446: UserWarning: Converting sparse IndexedSlices(IndexedSlices(indices=Tensor(\"gradient_tape/sequential_1/dense_2/embedding_lookup_sparse/Reshape_1:0\", shape=(None,), dtype=int32), values=Tensor(\"gradient_tape/sequential_1/dense_2/embedding_lookup_sparse/Reshape:0\", shape=(None, 4), dtype=float32), dense_shape=Tensor(\"gradient_tape/sequential_1/dense_2/embedding_lookup_sparse/Cast:0\", shape=(2,), dtype=int32))) to a dense Tensor of unknown shape. This may consume a large amount of memory.\n",
            "  \"shape. This may consume a large amount of memory.\" % value)\n"
          ]
        },
        {
          "output_type": "stream",
          "name": "stdout",
          "text": [
            "5160/5160 [==============================] - 13s 2ms/step - loss: 0.1516 - accuracy: 0.9490\n",
            "Epoch 2/20\n",
            "5160/5160 [==============================] - 12s 2ms/step - loss: 0.0875 - accuracy: 0.9684\n",
            "Epoch 3/20\n",
            "5160/5160 [==============================] - 12s 2ms/step - loss: 0.0846 - accuracy: 0.9692\n",
            "Epoch 4/20\n",
            "5160/5160 [==============================] - 12s 2ms/step - loss: 0.0832 - accuracy: 0.9699\n",
            "Epoch 5/20\n",
            "5160/5160 [==============================] - 12s 2ms/step - loss: 0.0822 - accuracy: 0.9703\n",
            "Epoch 6/20\n",
            "5160/5160 [==============================] - 12s 2ms/step - loss: 0.0804 - accuracy: 0.9705\n",
            "Epoch 7/20\n",
            "5160/5160 [==============================] - 12s 2ms/step - loss: 0.0784 - accuracy: 0.9711\n",
            "Epoch 8/20\n",
            "5160/5160 [==============================] - 12s 2ms/step - loss: 0.0763 - accuracy: 0.9718\n",
            "Epoch 9/20\n",
            "5160/5160 [==============================] - 13s 2ms/step - loss: 0.0746 - accuracy: 0.9723\n",
            "Epoch 10/20\n",
            "5160/5160 [==============================] - 12s 2ms/step - loss: 0.0729 - accuracy: 0.9729\n",
            "Epoch 11/20\n",
            "5160/5160 [==============================] - 12s 2ms/step - loss: 0.0715 - accuracy: 0.9733\n",
            "Epoch 12/20\n",
            "5160/5160 [==============================] - 12s 2ms/step - loss: 0.0702 - accuracy: 0.9737\n",
            "Epoch 13/20\n",
            "5160/5160 [==============================] - 12s 2ms/step - loss: 0.0691 - accuracy: 0.9745\n",
            "Epoch 14/20\n",
            "5160/5160 [==============================] - 12s 2ms/step - loss: 0.0681 - accuracy: 0.9746\n",
            "Epoch 15/20\n",
            "5160/5160 [==============================] - 12s 2ms/step - loss: 0.0671 - accuracy: 0.9752\n",
            "Epoch 16/20\n",
            "5160/5160 [==============================] - 12s 2ms/step - loss: 0.0661 - accuracy: 0.9756\n",
            "Epoch 17/20\n",
            "5160/5160 [==============================] - 12s 2ms/step - loss: 0.0653 - accuracy: 0.9759\n",
            "Epoch 18/20\n",
            "5160/5160 [==============================] - 13s 2ms/step - loss: 0.0646 - accuracy: 0.9763\n",
            "Epoch 19/20\n",
            "5160/5160 [==============================] - 12s 2ms/step - loss: 0.0639 - accuracy: 0.9766\n",
            "Epoch 20/20\n",
            "5160/5160 [==============================] - 12s 2ms/step - loss: 0.0633 - accuracy: 0.9767\n",
            "3440/3440 [==============================] - 5s 2ms/step - loss: 0.0911 - accuracy: 0.9684\n",
            "loss =  0.09106112271547318\n",
            "prediction accuracy =  0.9684045314788818\n"
          ]
        }
      ]
    },
    {
      "cell_type": "markdown",
      "source": [
        "## (c) Evaluate the model on the Canadian Election data"
      ],
      "metadata": {
        "id": "2vpV_r5aiNqO"
      }
    },
    {
      "cell_type": "markdown",
      "source": [
        "Encoding the Target Column"
      ],
      "metadata": {
        "id": "sBod2-yniZ_R"
      }
    },
    {
      "cell_type": "code",
      "source": [
        "from sklearn.preprocessing import OrdinalEncoder\n",
        "\n",
        "# create the list of unique values of education with the desired order and pass them into the OrdinalEncoder categories\n",
        "target = ['positive', 'negative']\n",
        "OE = OrdinalEncoder(categories = [target])\n",
        "neg_df_clean['sentiment'] = OE.fit_transform(neg_df_clean['sentiment'].values.reshape(-1,1))"
      ],
      "metadata": {
        "id": "ZY1s3zyGiZBi"
      },
      "execution_count": 179,
      "outputs": []
    },
    {
      "cell_type": "code",
      "source": [
        "neg_df_clean.head()"
      ],
      "metadata": {
        "colab": {
          "base_uri": "https://localhost:8080/",
          "height": 333
        },
        "id": "tDy20hJ8i99i",
        "outputId": "973348f5-39b9-4e0e-8a58-db67045f6921"
      },
      "execution_count": null,
      "outputs": [
        {
          "output_type": "execute_result",
          "data": {
            "text/plain": [
              "                                                                                                                                                                                                                     text  sentiment         negative_reason\n",
              "0                 canadian election power grab pm trudeau yes take away opposition leader chosen obstruction 20 nonconfidence motion disinformation middle worldwide pandemic yes one wanted vote opposition antic forced        1.0  calling election early\n",
              "1  hope trudeau loses canadian election tomorrow called snap one thinking hed romp seems people dont like black face hypocrite super wokist amp covid restriction groupie let hope poll right might make government think        1.0                  covid \n",
              "2                   dear canadian election test progressive whether stand science woman bipoc right equality public healthcare amp education environment whether stand hate much lose dont let u fall back cdnpoli elxn44        0.0                     nan\n",
              "3                 canadian friend never forget trudeau 2 year mandate called completely unnecessary election right vaccine mandate rolled moment extreme political volatility gambled country could le accountable elxn44        1.0  calling election early\n",
              "4                sorry thejagmeetsingh voted ndp life election fighting freedom canadian voted last saturday maxinebernier peoplespca ppc voteppc2021 voteforhumanrights voteforfreedom maximebernier purplereign freedom        0.0                     nan"
            ],
            "text/html": [
              "\n",
              "  <div id=\"df-0162a9b1-b172-4e2e-8836-2130edc72435\">\n",
              "    <div class=\"colab-df-container\">\n",
              "      <div>\n",
              "<style scoped>\n",
              "    .dataframe tbody tr th:only-of-type {\n",
              "        vertical-align: middle;\n",
              "    }\n",
              "\n",
              "    .dataframe tbody tr th {\n",
              "        vertical-align: top;\n",
              "    }\n",
              "\n",
              "    .dataframe thead th {\n",
              "        text-align: right;\n",
              "    }\n",
              "</style>\n",
              "<table border=\"1\" class=\"dataframe\">\n",
              "  <thead>\n",
              "    <tr style=\"text-align: right;\">\n",
              "      <th></th>\n",
              "      <th>text</th>\n",
              "      <th>sentiment</th>\n",
              "      <th>negative_reason</th>\n",
              "    </tr>\n",
              "  </thead>\n",
              "  <tbody>\n",
              "    <tr>\n",
              "      <th>0</th>\n",
              "      <td>canadian election power grab pm trudeau yes take away opposition leader chosen obstruction 20 nonconfidence motion disinformation middle worldwide pandemic yes one wanted vote opposition antic forced</td>\n",
              "      <td>1.0</td>\n",
              "      <td>calling election early</td>\n",
              "    </tr>\n",
              "    <tr>\n",
              "      <th>1</th>\n",
              "      <td>hope trudeau loses canadian election tomorrow called snap one thinking hed romp seems people dont like black face hypocrite super wokist amp covid restriction groupie let hope poll right might make government think</td>\n",
              "      <td>1.0</td>\n",
              "      <td>covid</td>\n",
              "    </tr>\n",
              "    <tr>\n",
              "      <th>2</th>\n",
              "      <td>dear canadian election test progressive whether stand science woman bipoc right equality public healthcare amp education environment whether stand hate much lose dont let u fall back cdnpoli elxn44</td>\n",
              "      <td>0.0</td>\n",
              "      <td>nan</td>\n",
              "    </tr>\n",
              "    <tr>\n",
              "      <th>3</th>\n",
              "      <td>canadian friend never forget trudeau 2 year mandate called completely unnecessary election right vaccine mandate rolled moment extreme political volatility gambled country could le accountable elxn44</td>\n",
              "      <td>1.0</td>\n",
              "      <td>calling election early</td>\n",
              "    </tr>\n",
              "    <tr>\n",
              "      <th>4</th>\n",
              "      <td>sorry thejagmeetsingh voted ndp life election fighting freedom canadian voted last saturday maxinebernier peoplespca ppc voteppc2021 voteforhumanrights voteforfreedom maximebernier purplereign freedom</td>\n",
              "      <td>0.0</td>\n",
              "      <td>nan</td>\n",
              "    </tr>\n",
              "  </tbody>\n",
              "</table>\n",
              "</div>\n",
              "      <button class=\"colab-df-convert\" onclick=\"convertToInteractive('df-0162a9b1-b172-4e2e-8836-2130edc72435')\"\n",
              "              title=\"Convert this dataframe to an interactive table.\"\n",
              "              style=\"display:none;\">\n",
              "        \n",
              "  <svg xmlns=\"http://www.w3.org/2000/svg\" height=\"24px\"viewBox=\"0 0 24 24\"\n",
              "       width=\"24px\">\n",
              "    <path d=\"M0 0h24v24H0V0z\" fill=\"none\"/>\n",
              "    <path d=\"M18.56 5.44l.94 2.06.94-2.06 2.06-.94-2.06-.94-.94-2.06-.94 2.06-2.06.94zm-11 1L8.5 8.5l.94-2.06 2.06-.94-2.06-.94L8.5 2.5l-.94 2.06-2.06.94zm10 10l.94 2.06.94-2.06 2.06-.94-2.06-.94-.94-2.06-.94 2.06-2.06.94z\"/><path d=\"M17.41 7.96l-1.37-1.37c-.4-.4-.92-.59-1.43-.59-.52 0-1.04.2-1.43.59L10.3 9.45l-7.72 7.72c-.78.78-.78 2.05 0 2.83L4 21.41c.39.39.9.59 1.41.59.51 0 1.02-.2 1.41-.59l7.78-7.78 2.81-2.81c.8-.78.8-2.07 0-2.86zM5.41 20L4 18.59l7.72-7.72 1.47 1.35L5.41 20z\"/>\n",
              "  </svg>\n",
              "      </button>\n",
              "      \n",
              "  <style>\n",
              "    .colab-df-container {\n",
              "      display:flex;\n",
              "      flex-wrap:wrap;\n",
              "      gap: 12px;\n",
              "    }\n",
              "\n",
              "    .colab-df-convert {\n",
              "      background-color: #E8F0FE;\n",
              "      border: none;\n",
              "      border-radius: 50%;\n",
              "      cursor: pointer;\n",
              "      display: none;\n",
              "      fill: #1967D2;\n",
              "      height: 32px;\n",
              "      padding: 0 0 0 0;\n",
              "      width: 32px;\n",
              "    }\n",
              "\n",
              "    .colab-df-convert:hover {\n",
              "      background-color: #E2EBFA;\n",
              "      box-shadow: 0px 1px 2px rgba(60, 64, 67, 0.3), 0px 1px 3px 1px rgba(60, 64, 67, 0.15);\n",
              "      fill: #174EA6;\n",
              "    }\n",
              "\n",
              "    [theme=dark] .colab-df-convert {\n",
              "      background-color: #3B4455;\n",
              "      fill: #D2E3FC;\n",
              "    }\n",
              "\n",
              "    [theme=dark] .colab-df-convert:hover {\n",
              "      background-color: #434B5C;\n",
              "      box-shadow: 0px 1px 3px 1px rgba(0, 0, 0, 0.15);\n",
              "      filter: drop-shadow(0px 1px 2px rgba(0, 0, 0, 0.3));\n",
              "      fill: #FFFFFF;\n",
              "    }\n",
              "  </style>\n",
              "\n",
              "      <script>\n",
              "        const buttonEl =\n",
              "          document.querySelector('#df-0162a9b1-b172-4e2e-8836-2130edc72435 button.colab-df-convert');\n",
              "        buttonEl.style.display =\n",
              "          google.colab.kernel.accessAllowed ? 'block' : 'none';\n",
              "\n",
              "        async function convertToInteractive(key) {\n",
              "          const element = document.querySelector('#df-0162a9b1-b172-4e2e-8836-2130edc72435');\n",
              "          const dataTable =\n",
              "            await google.colab.kernel.invokeFunction('convertToInteractive',\n",
              "                                                     [key], {});\n",
              "          if (!dataTable) return;\n",
              "\n",
              "          const docLinkHtml = 'Like what you see? Visit the ' +\n",
              "            '<a target=\"_blank\" href=https://colab.research.google.com/notebooks/data_table.ipynb>data table notebook</a>'\n",
              "            + ' to learn more about interactive tables.';\n",
              "          element.innerHTML = '';\n",
              "          dataTable['output_type'] = 'display_data';\n",
              "          await google.colab.output.renderOutput(dataTable, element);\n",
              "          const docLink = document.createElement('div');\n",
              "          docLink.innerHTML = docLinkHtml;\n",
              "          element.appendChild(docLink);\n",
              "        }\n",
              "      </script>\n",
              "    </div>\n",
              "  </div>\n",
              "  "
            ]
          },
          "metadata": {},
          "execution_count": 23
        }
      ]
    },
    {
      "cell_type": "code",
      "source": [
        "Canadian_X = neg_df_clean['text']\n",
        "Canadian_Y = neg_df_clean['sentiment']"
      ],
      "metadata": {
        "id": "e4rM-p6kwGY-"
      },
      "execution_count": 180,
      "outputs": []
    },
    {
      "cell_type": "markdown",
      "source": [
        "Evaluate the Deep Learning model on the Canadian Dataset"
      ],
      "metadata": {
        "id": "M8MRDk3tgQCR"
      }
    },
    {
      "cell_type": "code",
      "source": [
        "#construct features for second dataset\n",
        "countvectorizer = CountVectorizer(max_features=5000) #still use 5000 features\n",
        "x_train_c = countvectorizer.fit(x_train)\n",
        "x_c = countvectorizer.transform(Canadian_X) #transform the Canadian dataset into 5000 features\n",
        "\n",
        "x_c_tensor = convert_sparse_matrix_to_sparse_tensor(x_c)\n",
        "x_c_tensor_reorder = tf.sparse.reorder(x_c_tensor)\n",
        "\n",
        "y_c = np.asarray(Canadian_Y.copy())"
      ],
      "metadata": {
        "id": "_riUln7-jB0Q"
      },
      "execution_count": 182,
      "outputs": []
    },
    {
      "cell_type": "code",
      "source": [
        "#Evaluate the deep learning model on the Canadian Dataset\n",
        "loss, prediction_accuracy = model.evaluate(x_c_tensor_reorder, y_c)\n",
        "print(\"loss = \", loss)\n",
        "print(\"prediction accuracy = \", prediction_accuracy)"
      ],
      "metadata": {
        "id": "6mL_pG0XjBvK",
        "colab": {
          "base_uri": "https://localhost:8080/"
        },
        "outputId": "58ec9234-c54b-49ee-9639-d5810f599e0b"
      },
      "execution_count": 183,
      "outputs": [
        {
          "output_type": "stream",
          "name": "stdout",
          "text": [
            "32/32 [==============================] - 0s 2ms/step - loss: 6.7463 - accuracy: 0.3214\n",
            "loss =  6.7462921142578125\n",
            "prediction accuracy =  0.32135728001594543\n"
          ]
        }
      ]
    },
    {
      "cell_type": "markdown",
      "source": [
        "Evaluate the SVM model on Canadian dataset"
      ],
      "metadata": {
        "id": "iwOqxszZgJl_"
      }
    },
    {
      "cell_type": "code",
      "source": [
        "#construct the features for SVM model\n",
        "tfidfvectorizer = TfidfVectorizer(analyzer='word', max_features=5000) #only extract top 5000 words\n",
        "\n",
        "tfidf_train = tfidfvectorizer.fit_transform(x_train)\n",
        "tfidf_Canadian = tfidfvectorizer.transform(Canadian_X)\n",
        "\n",
        "#Evaluate SVM model on the Canadian Dataset\n",
        "svc = LinearSVC(random_state = 42, penalty = 'l2')\n",
        "svc.fit(tfidf_train, y_train)\n",
        "y_pred = svc.predict(tfidf_Canadian)"
      ],
      "metadata": {
        "id": "vla6jT1EvsDs"
      },
      "execution_count": 187,
      "outputs": []
    },
    {
      "cell_type": "code",
      "source": [
        "accuracy = accuracy_score(Canadian_Y,y_pred)\n",
        "   \n",
        "print('Accuracy Score for SVC on Canadian dataset is {}'.format(accuracy))"
      ],
      "metadata": {
        "colab": {
          "base_uri": "https://localhost:8080/"
        },
        "id": "SAKpWa1R1chy",
        "outputId": "fc6440af-dc69-451e-c728-7c87370c0365"
      },
      "execution_count": 185,
      "outputs": [
        {
          "output_type": "stream",
          "name": "stdout",
          "text": [
            "Accuracy Score for SVC on Canadian dataset is 0.3073852295409182\n"
          ]
        }
      ]
    },
    {
      "cell_type": "markdown",
      "source": [
        "The model performance on the Canadian dataset is not satisfying. Both deep learning and SVC classifier give the accuracy score around 30%."
      ],
      "metadata": {
        "id": "5QqBd-INgfzY"
      }
    },
    {
      "cell_type": "markdown",
      "source": [
        "## (d) Propose two other evaluation metrics you could use to evaluate the models\n",
        "\n",
        "\n"
      ],
      "metadata": {
        "id": "rGUiRGxwlKHc"
      }
    },
    {
      "cell_type": "markdown",
      "source": [
        "1. AUC. Area under curve. It is the measure of the ability of a classifier to distinguish between classes and is used as a summary of the ROC curve.The higher the AUC, the better the performance of the model at distinguishing between the positive and negative classes.\n",
        "2. F1 Score. It balances out the Precision and Recall metrics across positive/negative lables, especially in an imbalanced dataset, only looking at accuracy score is not enough."
      ],
      "metadata": {
        "id": "HGFRK14Lo2QS"
      }
    },
    {
      "cell_type": "markdown",
      "source": [
        "## (e) Sentiment for 4 parties"
      ],
      "metadata": {
        "id": "yJBQMADFP6D9"
      }
    },
    {
      "cell_type": "code",
      "source": [
        "sentiment_party_df.sample(5)"
      ],
      "metadata": {
        "colab": {
          "base_uri": "https://localhost:8080/",
          "height": 316
        },
        "id": "nR5q8UbRQCt2",
        "outputId": "d9bb1c98-66f8-493f-9378-d5e7c49773b5"
      },
      "execution_count": null,
      "outputs": [
        {
          "output_type": "execute_result",
          "data": {
            "text/plain": [
              "                                                                                                                                                                                                                            text sentiment negative_reason         party\n",
              "530                                                                                       #voteppcforfiscalresponsibility  trudeau and otoole will continue to remove your rights, control your life and take away your freedom.  negative          others           PPC\n",
              "325  ekos polling for the federal election in canada is remarkable if true   50 of canadians aged 1834 would vote for the cpc or ppc both rightwing parties this is higher than the combined total amongst any other age group    positive             nan  Conservative\n",
              "196  jonathanwnv erinotoole liberal_party hello my name is young hoon song a canadian citizen a canceller of south korean citizenship in 2018 i support justin trudeau i support the liberal good luck for this election to you   positive             nan       Liberal\n",
              "431            barack obama endorsed canadian prime minister justin trudeau on thursday in the canadian election calling him an effective leader in a rare endorsement of a canadian candidate by a former american president     positive             nan       Liberal\n",
              "871                   @asifintoronto @mustangmadd @erinotoole forgets he begged for an election a few months back. @cpc_hq thinks canadians are stupid; we aren't and we won't vote them in. #nevervoteconservative #voteliberal  negative          others       Liberal"
            ],
            "text/html": [
              "\n",
              "  <div id=\"df-b11cc56b-6f31-4352-9e3a-2eb30ddc376a\">\n",
              "    <div class=\"colab-df-container\">\n",
              "      <div>\n",
              "<style scoped>\n",
              "    .dataframe tbody tr th:only-of-type {\n",
              "        vertical-align: middle;\n",
              "    }\n",
              "\n",
              "    .dataframe tbody tr th {\n",
              "        vertical-align: top;\n",
              "    }\n",
              "\n",
              "    .dataframe thead th {\n",
              "        text-align: right;\n",
              "    }\n",
              "</style>\n",
              "<table border=\"1\" class=\"dataframe\">\n",
              "  <thead>\n",
              "    <tr style=\"text-align: right;\">\n",
              "      <th></th>\n",
              "      <th>text</th>\n",
              "      <th>sentiment</th>\n",
              "      <th>negative_reason</th>\n",
              "      <th>party</th>\n",
              "    </tr>\n",
              "  </thead>\n",
              "  <tbody>\n",
              "    <tr>\n",
              "      <th>530</th>\n",
              "      <td>#voteppcforfiscalresponsibility  trudeau and otoole will continue to remove your rights, control your life and take away your freedom.</td>\n",
              "      <td>negative</td>\n",
              "      <td>others</td>\n",
              "      <td>PPC</td>\n",
              "    </tr>\n",
              "    <tr>\n",
              "      <th>325</th>\n",
              "      <td>ekos polling for the federal election in canada is remarkable if true   50 of canadians aged 1834 would vote for the cpc or ppc both rightwing parties this is higher than the combined total amongst any other age group</td>\n",
              "      <td>positive</td>\n",
              "      <td>nan</td>\n",
              "      <td>Conservative</td>\n",
              "    </tr>\n",
              "    <tr>\n",
              "      <th>196</th>\n",
              "      <td>jonathanwnv erinotoole liberal_party hello my name is young hoon song a canadian citizen a canceller of south korean citizenship in 2018 i support justin trudeau i support the liberal good luck for this election to you</td>\n",
              "      <td>positive</td>\n",
              "      <td>nan</td>\n",
              "      <td>Liberal</td>\n",
              "    </tr>\n",
              "    <tr>\n",
              "      <th>431</th>\n",
              "      <td>barack obama endorsed canadian prime minister justin trudeau on thursday in the canadian election calling him an effective leader in a rare endorsement of a canadian candidate by a former american president</td>\n",
              "      <td>positive</td>\n",
              "      <td>nan</td>\n",
              "      <td>Liberal</td>\n",
              "    </tr>\n",
              "    <tr>\n",
              "      <th>871</th>\n",
              "      <td>@asifintoronto @mustangmadd @erinotoole forgets he begged for an election a few months back. @cpc_hq thinks canadians are stupid; we aren't and we won't vote them in. #nevervoteconservative #voteliberal</td>\n",
              "      <td>negative</td>\n",
              "      <td>others</td>\n",
              "      <td>Liberal</td>\n",
              "    </tr>\n",
              "  </tbody>\n",
              "</table>\n",
              "</div>\n",
              "      <button class=\"colab-df-convert\" onclick=\"convertToInteractive('df-b11cc56b-6f31-4352-9e3a-2eb30ddc376a')\"\n",
              "              title=\"Convert this dataframe to an interactive table.\"\n",
              "              style=\"display:none;\">\n",
              "        \n",
              "  <svg xmlns=\"http://www.w3.org/2000/svg\" height=\"24px\"viewBox=\"0 0 24 24\"\n",
              "       width=\"24px\">\n",
              "    <path d=\"M0 0h24v24H0V0z\" fill=\"none\"/>\n",
              "    <path d=\"M18.56 5.44l.94 2.06.94-2.06 2.06-.94-2.06-.94-.94-2.06-.94 2.06-2.06.94zm-11 1L8.5 8.5l.94-2.06 2.06-.94-2.06-.94L8.5 2.5l-.94 2.06-2.06.94zm10 10l.94 2.06.94-2.06 2.06-.94-2.06-.94-.94-2.06-.94 2.06-2.06.94z\"/><path d=\"M17.41 7.96l-1.37-1.37c-.4-.4-.92-.59-1.43-.59-.52 0-1.04.2-1.43.59L10.3 9.45l-7.72 7.72c-.78.78-.78 2.05 0 2.83L4 21.41c.39.39.9.59 1.41.59.51 0 1.02-.2 1.41-.59l7.78-7.78 2.81-2.81c.8-.78.8-2.07 0-2.86zM5.41 20L4 18.59l7.72-7.72 1.47 1.35L5.41 20z\"/>\n",
              "  </svg>\n",
              "      </button>\n",
              "      \n",
              "  <style>\n",
              "    .colab-df-container {\n",
              "      display:flex;\n",
              "      flex-wrap:wrap;\n",
              "      gap: 12px;\n",
              "    }\n",
              "\n",
              "    .colab-df-convert {\n",
              "      background-color: #E8F0FE;\n",
              "      border: none;\n",
              "      border-radius: 50%;\n",
              "      cursor: pointer;\n",
              "      display: none;\n",
              "      fill: #1967D2;\n",
              "      height: 32px;\n",
              "      padding: 0 0 0 0;\n",
              "      width: 32px;\n",
              "    }\n",
              "\n",
              "    .colab-df-convert:hover {\n",
              "      background-color: #E2EBFA;\n",
              "      box-shadow: 0px 1px 2px rgba(60, 64, 67, 0.3), 0px 1px 3px 1px rgba(60, 64, 67, 0.15);\n",
              "      fill: #174EA6;\n",
              "    }\n",
              "\n",
              "    [theme=dark] .colab-df-convert {\n",
              "      background-color: #3B4455;\n",
              "      fill: #D2E3FC;\n",
              "    }\n",
              "\n",
              "    [theme=dark] .colab-df-convert:hover {\n",
              "      background-color: #434B5C;\n",
              "      box-shadow: 0px 1px 3px 1px rgba(0, 0, 0, 0.15);\n",
              "      filter: drop-shadow(0px 1px 2px rgba(0, 0, 0, 0.3));\n",
              "      fill: #FFFFFF;\n",
              "    }\n",
              "  </style>\n",
              "\n",
              "      <script>\n",
              "        const buttonEl =\n",
              "          document.querySelector('#df-b11cc56b-6f31-4352-9e3a-2eb30ddc376a button.colab-df-convert');\n",
              "        buttonEl.style.display =\n",
              "          google.colab.kernel.accessAllowed ? 'block' : 'none';\n",
              "\n",
              "        async function convertToInteractive(key) {\n",
              "          const element = document.querySelector('#df-b11cc56b-6f31-4352-9e3a-2eb30ddc376a');\n",
              "          const dataTable =\n",
              "            await google.colab.kernel.invokeFunction('convertToInteractive',\n",
              "                                                     [key], {});\n",
              "          if (!dataTable) return;\n",
              "\n",
              "          const docLinkHtml = 'Like what you see? Visit the ' +\n",
              "            '<a target=\"_blank\" href=https://colab.research.google.com/notebooks/data_table.ipynb>data table notebook</a>'\n",
              "            + ' to learn more about interactive tables.';\n",
              "          element.innerHTML = '';\n",
              "          dataTable['output_type'] = 'display_data';\n",
              "          await google.colab.output.renderOutput(dataTable, element);\n",
              "          const docLink = document.createElement('div');\n",
              "          docLink.innerHTML = docLinkHtml;\n",
              "          element.appendChild(docLink);\n",
              "        }\n",
              "      </script>\n",
              "    </div>\n",
              "  </div>\n",
              "  "
            ]
          },
          "metadata": {},
          "execution_count": 128
        }
      ]
    },
    {
      "cell_type": "code",
      "source": [
        "#Ecode Sentiment Column\n",
        "from sklearn import preprocessing\n",
        "lableecoder = preprocessing.LabelEncoder()"
      ],
      "metadata": {
        "id": "koYrLHr2AvLD"
      },
      "execution_count": null,
      "outputs": []
    },
    {
      "cell_type": "markdown",
      "source": [
        "Prepare Conservative party datafram for plotting Predictive values and True values"
      ],
      "metadata": {
        "id": "Dzj9BXSC1rLA"
      }
    },
    {
      "cell_type": "code",
      "source": [
        "#fetch the tweets that has affiliation with Conservative party\n",
        "pt_conservative = sentiment_party_df[sentiment_party_df['party'] == 'Conservative']\n",
        "\n",
        "con_parties_X = pt_conservative['text']\n",
        "con_parties_Y = pt_conservative['sentiment']\n",
        "\n",
        "con_parties_Y = lableecoder.fit_transform(con_parties_Y)\n",
        "\n",
        "tfidf_con_X = tfidfvectorizer.transform(con_parties_X)\n",
        "\n",
        "#predict conservative party using SVC model\n",
        "y_party_pred = svc.predict(tfidf_con_X)\n",
        "\n",
        "#construct plotting dataframe\n",
        "con = pd.DataFrame()\n",
        "con['True Target Value'] = con_parties_Y\n",
        "con['Prediction Value'] = y_party_pred\n",
        "\n",
        "true_value = con['True Target Value'].value_counts()\n",
        "pred_value = con['Prediction Value'].value_counts()\n",
        "count_value_con = pd.concat([true_value.reset_index(drop = True),pred_value.reset_index(drop = True)],axis=1)\n",
        "count_value_con.index = ['Positive','Negative']\n",
        "count_value_con"
      ],
      "metadata": {
        "id": "pJnL5MPh_csj",
        "colab": {
          "base_uri": "https://localhost:8080/",
          "height": 111
        },
        "outputId": "7ca5d66d-6d44-48e2-98c2-9da7125ac872"
      },
      "execution_count": null,
      "outputs": [
        {
          "output_type": "execute_result",
          "data": {
            "text/plain": [
              "          True Target Value  Prediction Value\n",
              "Positive                365               224\n",
              "Negative                  4               145"
            ],
            "text/html": [
              "\n",
              "  <div id=\"df-50ed32cd-2c08-448a-b71e-3745af9797bf\">\n",
              "    <div class=\"colab-df-container\">\n",
              "      <div>\n",
              "<style scoped>\n",
              "    .dataframe tbody tr th:only-of-type {\n",
              "        vertical-align: middle;\n",
              "    }\n",
              "\n",
              "    .dataframe tbody tr th {\n",
              "        vertical-align: top;\n",
              "    }\n",
              "\n",
              "    .dataframe thead th {\n",
              "        text-align: right;\n",
              "    }\n",
              "</style>\n",
              "<table border=\"1\" class=\"dataframe\">\n",
              "  <thead>\n",
              "    <tr style=\"text-align: right;\">\n",
              "      <th></th>\n",
              "      <th>True Target Value</th>\n",
              "      <th>Prediction Value</th>\n",
              "    </tr>\n",
              "  </thead>\n",
              "  <tbody>\n",
              "    <tr>\n",
              "      <th>Positive</th>\n",
              "      <td>365</td>\n",
              "      <td>224</td>\n",
              "    </tr>\n",
              "    <tr>\n",
              "      <th>Negative</th>\n",
              "      <td>4</td>\n",
              "      <td>145</td>\n",
              "    </tr>\n",
              "  </tbody>\n",
              "</table>\n",
              "</div>\n",
              "      <button class=\"colab-df-convert\" onclick=\"convertToInteractive('df-50ed32cd-2c08-448a-b71e-3745af9797bf')\"\n",
              "              title=\"Convert this dataframe to an interactive table.\"\n",
              "              style=\"display:none;\">\n",
              "        \n",
              "  <svg xmlns=\"http://www.w3.org/2000/svg\" height=\"24px\"viewBox=\"0 0 24 24\"\n",
              "       width=\"24px\">\n",
              "    <path d=\"M0 0h24v24H0V0z\" fill=\"none\"/>\n",
              "    <path d=\"M18.56 5.44l.94 2.06.94-2.06 2.06-.94-2.06-.94-.94-2.06-.94 2.06-2.06.94zm-11 1L8.5 8.5l.94-2.06 2.06-.94-2.06-.94L8.5 2.5l-.94 2.06-2.06.94zm10 10l.94 2.06.94-2.06 2.06-.94-2.06-.94-.94-2.06-.94 2.06-2.06.94z\"/><path d=\"M17.41 7.96l-1.37-1.37c-.4-.4-.92-.59-1.43-.59-.52 0-1.04.2-1.43.59L10.3 9.45l-7.72 7.72c-.78.78-.78 2.05 0 2.83L4 21.41c.39.39.9.59 1.41.59.51 0 1.02-.2 1.41-.59l7.78-7.78 2.81-2.81c.8-.78.8-2.07 0-2.86zM5.41 20L4 18.59l7.72-7.72 1.47 1.35L5.41 20z\"/>\n",
              "  </svg>\n",
              "      </button>\n",
              "      \n",
              "  <style>\n",
              "    .colab-df-container {\n",
              "      display:flex;\n",
              "      flex-wrap:wrap;\n",
              "      gap: 12px;\n",
              "    }\n",
              "\n",
              "    .colab-df-convert {\n",
              "      background-color: #E8F0FE;\n",
              "      border: none;\n",
              "      border-radius: 50%;\n",
              "      cursor: pointer;\n",
              "      display: none;\n",
              "      fill: #1967D2;\n",
              "      height: 32px;\n",
              "      padding: 0 0 0 0;\n",
              "      width: 32px;\n",
              "    }\n",
              "\n",
              "    .colab-df-convert:hover {\n",
              "      background-color: #E2EBFA;\n",
              "      box-shadow: 0px 1px 2px rgba(60, 64, 67, 0.3), 0px 1px 3px 1px rgba(60, 64, 67, 0.15);\n",
              "      fill: #174EA6;\n",
              "    }\n",
              "\n",
              "    [theme=dark] .colab-df-convert {\n",
              "      background-color: #3B4455;\n",
              "      fill: #D2E3FC;\n",
              "    }\n",
              "\n",
              "    [theme=dark] .colab-df-convert:hover {\n",
              "      background-color: #434B5C;\n",
              "      box-shadow: 0px 1px 3px 1px rgba(0, 0, 0, 0.15);\n",
              "      filter: drop-shadow(0px 1px 2px rgba(0, 0, 0, 0.3));\n",
              "      fill: #FFFFFF;\n",
              "    }\n",
              "  </style>\n",
              "\n",
              "      <script>\n",
              "        const buttonEl =\n",
              "          document.querySelector('#df-50ed32cd-2c08-448a-b71e-3745af9797bf button.colab-df-convert');\n",
              "        buttonEl.style.display =\n",
              "          google.colab.kernel.accessAllowed ? 'block' : 'none';\n",
              "\n",
              "        async function convertToInteractive(key) {\n",
              "          const element = document.querySelector('#df-50ed32cd-2c08-448a-b71e-3745af9797bf');\n",
              "          const dataTable =\n",
              "            await google.colab.kernel.invokeFunction('convertToInteractive',\n",
              "                                                     [key], {});\n",
              "          if (!dataTable) return;\n",
              "\n",
              "          const docLinkHtml = 'Like what you see? Visit the ' +\n",
              "            '<a target=\"_blank\" href=https://colab.research.google.com/notebooks/data_table.ipynb>data table notebook</a>'\n",
              "            + ' to learn more about interactive tables.';\n",
              "          element.innerHTML = '';\n",
              "          dataTable['output_type'] = 'display_data';\n",
              "          await google.colab.output.renderOutput(dataTable, element);\n",
              "          const docLink = document.createElement('div');\n",
              "          docLink.innerHTML = docLinkHtml;\n",
              "          element.appendChild(docLink);\n",
              "        }\n",
              "      </script>\n",
              "    </div>\n",
              "  </div>\n",
              "  "
            ]
          },
          "metadata": {},
          "execution_count": 125
        }
      ]
    },
    {
      "cell_type": "markdown",
      "source": [
        "Prepare liberal party datafram for plotting Predictive values and True values"
      ],
      "metadata": {
        "id": "9uRLL_0L1hYl"
      }
    },
    {
      "cell_type": "code",
      "source": [
        "pt_lib = sentiment_party_df[sentiment_party_df['party'] == 'Liberal']\n",
        "\n",
        "lib_parties_X = pt_lib['text']\n",
        "lib_parties_Y = pt_lib['sentiment']\n",
        "\n",
        "lib_parties_Y = lableecoder.fit_transform(lib_parties_Y)\n",
        "\n",
        "tfidf_lib_X = tfidfvectorizer.transform(lib_parties_X)\n",
        "\n",
        "#predict liberal party using SVC model\n",
        "y_party_pred_lib = svc.predict(tfidf_lib_X)\n",
        "\n",
        "#construct plotting dataframe\n",
        "lib_df = pd.DataFrame()\n",
        "lib_df['True Target Value'] = lib_parties_Y\n",
        "lib_df['Prediction Value'] = y_party_pred_lib\n",
        "\n",
        "true_value_lib = lib_df['True Target Value'].value_counts()\n",
        "pred_value_lib = lib_df['Prediction Value'].value_counts()\n",
        "count_value_lib = pd.concat([true_value_lib.reset_index(drop = True),pred_value_lib.reset_index(drop = True)],axis=1)\n",
        "count_value_lib.index = ['Positive','Negative']"
      ],
      "metadata": {
        "id": "txnd8WPHzOLa"
      },
      "execution_count": null,
      "outputs": []
    },
    {
      "cell_type": "markdown",
      "source": [
        "Prepare PPC party datafram for plotting Predictive values and True values"
      ],
      "metadata": {
        "id": "0F1CQvrK2S-2"
      }
    },
    {
      "cell_type": "code",
      "source": [
        "pt_ppc = sentiment_party_df[sentiment_party_df['party'] == 'PPC']\n",
        "\n",
        "ppc_parties_X = pt_ppc['text']\n",
        "ppc_parties_Y = pt_ppc['sentiment']\n",
        "\n",
        "ppc_parties_Y = lableecoder.fit_transform(ppc_parties_Y)\n",
        "\n",
        "tfidf_ppc_X = tfidfvectorizer.transform(ppc_parties_X)\n",
        "\n",
        "#predict ppc party using SVC model\n",
        "y_party_pred_ppc = svc.predict(tfidf_ppc_X)\n",
        "\n",
        "#construct plotting dataframe\n",
        "ppc_df = pd.DataFrame()\n",
        "ppc_df['True Target Value'] = ppc_parties_Y\n",
        "ppc_df['Prediction Value'] = y_party_pred_ppc\n",
        "\n",
        "true_value_ppc = ppc_df['True Target Value'].value_counts()\n",
        "pred_value_ppc = ppc_df['Prediction Value'].value_counts()\n",
        "count_value_ppc = pd.concat([true_value_ppc.reset_index(drop = True),pred_value_ppc.reset_index(drop = True)],axis=1)\n",
        "count_value_ppc.index = ['Positive','Negative']"
      ],
      "metadata": {
        "id": "i8KQSrTH2Gdy"
      },
      "execution_count": null,
      "outputs": []
    },
    {
      "cell_type": "markdown",
      "source": [
        "Prepare NDP party datafram for plotting Predictive values and True values"
      ],
      "metadata": {
        "id": "kak2klUW4Aep"
      }
    },
    {
      "cell_type": "code",
      "source": [
        "pt_ndp = sentiment_party_df[sentiment_party_df['party'] == 'NDP']\n",
        "\n",
        "ndp_parties_X = pt_ndp['text']\n",
        "ndp_parties_Y = pt_ndp['sentiment']\n",
        "\n",
        "ndp_parties_Y = lableecoder.fit_transform(ndp_parties_Y)\n",
        "\n",
        "tfidf_ndp_X = tfidfvectorizer.transform(ndp_parties_X)\n",
        "\n",
        "#predict ndp party using SVC model\n",
        "y_party_pred_ndp = svc.predict(tfidf_ndp_X)\n",
        "\n",
        "#construct plotting dataframe\n",
        "ndp_df = pd.DataFrame()\n",
        "ndp_df['True Target Value'] = ndp_parties_Y\n",
        "ndp_df['Prediction Value'] = y_party_pred_ndp\n",
        "\n",
        "true_value_ndp = ndp_df['True Target Value'].value_counts()\n",
        "pred_value_ndp = ndp_df['Prediction Value'].value_counts()\n",
        "count_value_ndp = pd.concat([true_value_ndp.reset_index(drop = True),pred_value_ndp.reset_index(drop = True)],axis=1)\n",
        "count_value_ndp.index = ['Positive','Negative']"
      ],
      "metadata": {
        "id": "8bt6aWA13-0D"
      },
      "execution_count": null,
      "outputs": []
    },
    {
      "cell_type": "code",
      "source": [
        "#Plot 4 bar charts that comparing distribution of predicted values and true values in sentiments\n",
        "import matplotlib.pyplot as plt \n",
        "import seaborn as sns\n",
        "\n",
        "plt.figure(figsize=(10,6))\n",
        "count_value_con.plot(kind = 'bar')\n",
        "plt.title('Conservative')\n",
        "plt.xticks(rotation=0)\n",
        "plt.show()\n",
        "\n",
        "plt.figure(figsize=(10,6))\n",
        "count_value_lib.plot(kind = 'bar')\n",
        "plt.xticks(rotation=0)\n",
        "plt.title('Liberal')\n",
        "plt.show()\n",
        "\n",
        "plt.figure(figsize=(10,6))\n",
        "count_value_ppc.plot(kind = 'bar')\n",
        "plt.xticks(rotation=0)\n",
        "plt.title('PPC')\n",
        "plt.show()\n",
        "\n",
        "plt.figure(figsize=(10,6))\n",
        "count_value_ndp.plot(kind = 'bar')\n",
        "plt.xticks(rotation=0)\n",
        "plt.title('NDP')\n",
        "plt.show()"
      ],
      "metadata": {
        "colab": {
          "base_uri": "https://localhost:8080/",
          "height": 1000
        },
        "id": "WECLN8J2jSZd",
        "outputId": "75e3c56a-50a2-4c14-e8b1-a58d332fd0ef"
      },
      "execution_count": null,
      "outputs": [
        {
          "output_type": "display_data",
          "data": {
            "text/plain": [
              "<Figure size 720x432 with 0 Axes>"
            ]
          },
          "metadata": {}
        },
        {
          "output_type": "display_data",
          "data": {
            "text/plain": [
              "<Figure size 432x288 with 1 Axes>"
            ],
            "image/png": "[encoded data removed]"
          },
          "metadata": {
            "needs_background": "light"
          }
        },
        {
          "output_type": "display_data",
          "data": {
            "text/plain": [
              "<Figure size 720x432 with 0 Axes>"
            ]
          },
          "metadata": {}
        },
        {
          "output_type": "display_data",
          "data": {
            "text/plain": [
              "<Figure size 432x288 with 1 Axes>"
            ],
            "image/png": "[encoded data removed]"
          },
          "metadata": {
            "needs_background": "light"
          }
        },
        {
          "output_type": "display_data",
          "data": {
            "text/plain": [
              "<Figure size 720x432 with 0 Axes>"
            ]
          },
          "metadata": {}
        },
        {
          "output_type": "display_data",
          "data": {
            "text/plain": [
              "<Figure size 432x288 with 1 Axes>"
            ],
            "image/png": "[encoded data removed]"
          },
          "metadata": {
            "needs_background": "light"
          }
        },
        {
          "output_type": "display_data",
          "data": {
            "text/plain": [
              "<Figure size 720x432 with 0 Axes>"
            ]
          },
          "metadata": {}
        },
        {
          "output_type": "display_data",
          "data": {
            "text/plain": [
              "<Figure size 432x288 with 1 Axes>"
            ],
            "image/png": "[encoded data removed]"
          },
          "metadata": {
            "needs_background": "light"
          }
        }
      ]
    },
    {
      "cell_type": "markdown",
      "source": [
        "Findings: \n",
        "- The model tend to predict more values in Negative sentiments than ground truths across all four parties. NLP technique definetely help on classifying the positive and negative sentiment tweets during election campaigns but the prediction accuracy need to be improved. \n",
        "- For each party, more positive tweets than negative tweets can be observed in the dataset. So that means people tend to support that party when they mention those key words and choose to add the hashtags in their tweets.\n",
        "- One way to imporve the model: Add negation in the feature and pay extra attention to those words. And take the degree of sentiments of each word into account when building the model because not all the words in positive or negative sentiment have the same level of seveity."
      ],
      "metadata": {
        "id": "iHYSQFsJnDgZ"
      }
    },
    {
      "cell_type": "markdown",
      "source": [
        "#Part 4: Predict Negative Reason"
      ],
      "metadata": {
        "id": "XT9Ekeci8mDU"
      }
    },
    {
      "cell_type": "code",
      "source": [
        "from sklearn.model_selection import GridSearchCV\n",
        "from sklearn.metrics import f1_score, classification_report"
      ],
      "metadata": {
        "id": "Iw8QlGIRDIk_"
      },
      "execution_count": null,
      "outputs": []
    },
    {
      "cell_type": "code",
      "source": [
        "#fetch the rows that have negative sentiments\n",
        "neg_clean = neg_df_clean[neg_df_clean['sentiment'] == 1.0]\n",
        "neg_clean"
      ],
      "metadata": {
        "id": "g2TgRPeBop9u",
        "colab": {
          "base_uri": "https://localhost:8080/",
          "height": 565
        },
        "outputId": "ec8d7976-73e6-4d75-feaf-3ccc211cfeaa"
      },
      "execution_count": 189,
      "outputs": [
        {
          "output_type": "execute_result",
          "data": {
            "text/plain": [
              "                                                                                                                                                                                                                        text  sentiment         negative_reason\n",
              "0                    canadian election power grab pm trudeau yes take away opposition leader chosen obstruction 20 nonconfidence motion disinformation middle worldwide pandemic yes one wanted vote opposition antic forced        1.0  calling election early\n",
              "1     hope trudeau loses canadian election tomorrow called snap one thinking hed romp seems people dont like black face hypocrite super wokist amp covid restriction groupie let hope poll right might make government think        1.0                  covid \n",
              "3                    canadian friend never forget trudeau 2 year mandate called completely unnecessary election right vaccine mandate rolled moment extreme political volatility gambled country could le accountable elxn44        1.0  calling election early\n",
              "5                                             vaccine amp gun key election otoole serious plan get canadian vaccinated cant even get candidate vaccinated amp playing game gun deliver fun lobby many canadian climate issue        1.0                  covid \n",
              "6                     im sorry moderator respond leadership candidate cant debate farce frankly disservice canadian awful 2019 format hope next election see new moderation format theyve two go thats enough elxn44 cdnpoli        1.0                  others\n",
              "...                                                                                                                                                                                                                      ...        ...                     ...\n",
              "997                                            absolutely horrible canada forthcoming election doubt referendum freedom yes covid serious death rate 03 per 100000 police state brutality totally unacceptable unjustifiable        1.0                  others\n",
              "998                                                              davidakin trudeau imposes gun control policy utterly fail address cause nearly 90 gun violence reduces sentence gun crimesand otoole bad guy elxn44 cdnpoli        1.0             gun control\n",
              "999                                                                  canada election stolen thug uneducated goon demanding death covid small business owner pissed government supporting divine right exploited labour force        1.0                  others\n",
              "1000                                                        otoole amends platform gun control question remain change mean cbc news dont fooled otoole reclassify assault weapon theyre street killing others people he liar        1.0               tell lies\n",
              "1001                                                                                 justintrudeau stop lie stop manipulation stop suffering created stop belligerence stop hate lost election quick trying destroy canadian        1.0               tell lies\n",
              "\n",
              "[387 rows x 3 columns]"
            ],
            "text/html": [
              "\n",
              "  <div id=\"df-73d9180e-069a-45c5-bd0b-ba57eb9ee90f\">\n",
              "    <div class=\"colab-df-container\">\n",
              "      <div>\n",
              "<style scoped>\n",
              "    .dataframe tbody tr th:only-of-type {\n",
              "        vertical-align: middle;\n",
              "    }\n",
              "\n",
              "    .dataframe tbody tr th {\n",
              "        vertical-align: top;\n",
              "    }\n",
              "\n",
              "    .dataframe thead th {\n",
              "        text-align: right;\n",
              "    }\n",
              "</style>\n",
              "<table border=\"1\" class=\"dataframe\">\n",
              "  <thead>\n",
              "    <tr style=\"text-align: right;\">\n",
              "      <th></th>\n",
              "      <th>text</th>\n",
              "      <th>sentiment</th>\n",
              "      <th>negative_reason</th>\n",
              "    </tr>\n",
              "  </thead>\n",
              "  <tbody>\n",
              "    <tr>\n",
              "      <th>0</th>\n",
              "      <td>canadian election power grab pm trudeau yes take away opposition leader chosen obstruction 20 nonconfidence motion disinformation middle worldwide pandemic yes one wanted vote opposition antic forced</td>\n",
              "      <td>1.0</td>\n",
              "      <td>calling election early</td>\n",
              "    </tr>\n",
              "    <tr>\n",
              "      <th>1</th>\n",
              "      <td>hope trudeau loses canadian election tomorrow called snap one thinking hed romp seems people dont like black face hypocrite super wokist amp covid restriction groupie let hope poll right might make government think</td>\n",
              "      <td>1.0</td>\n",
              "      <td>covid</td>\n",
              "    </tr>\n",
              "    <tr>\n",
              "      <th>3</th>\n",
              "      <td>canadian friend never forget trudeau 2 year mandate called completely unnecessary election right vaccine mandate rolled moment extreme political volatility gambled country could le accountable elxn44</td>\n",
              "      <td>1.0</td>\n",
              "      <td>calling election early</td>\n",
              "    </tr>\n",
              "    <tr>\n",
              "      <th>5</th>\n",
              "      <td>vaccine amp gun key election otoole serious plan get canadian vaccinated cant even get candidate vaccinated amp playing game gun deliver fun lobby many canadian climate issue</td>\n",
              "      <td>1.0</td>\n",
              "      <td>covid</td>\n",
              "    </tr>\n",
              "    <tr>\n",
              "      <th>6</th>\n",
              "      <td>im sorry moderator respond leadership candidate cant debate farce frankly disservice canadian awful 2019 format hope next election see new moderation format theyve two go thats enough elxn44 cdnpoli</td>\n",
              "      <td>1.0</td>\n",
              "      <td>others</td>\n",
              "    </tr>\n",
              "    <tr>\n",
              "      <th>...</th>\n",
              "      <td>...</td>\n",
              "      <td>...</td>\n",
              "      <td>...</td>\n",
              "    </tr>\n",
              "    <tr>\n",
              "      <th>997</th>\n",
              "      <td>absolutely horrible canada forthcoming election doubt referendum freedom yes covid serious death rate 03 per 100000 police state brutality totally unacceptable unjustifiable</td>\n",
              "      <td>1.0</td>\n",
              "      <td>others</td>\n",
              "    </tr>\n",
              "    <tr>\n",
              "      <th>998</th>\n",
              "      <td>davidakin trudeau imposes gun control policy utterly fail address cause nearly 90 gun violence reduces sentence gun crimesand otoole bad guy elxn44 cdnpoli</td>\n",
              "      <td>1.0</td>\n",
              "      <td>gun control</td>\n",
              "    </tr>\n",
              "    <tr>\n",
              "      <th>999</th>\n",
              "      <td>canada election stolen thug uneducated goon demanding death covid small business owner pissed government supporting divine right exploited labour force</td>\n",
              "      <td>1.0</td>\n",
              "      <td>others</td>\n",
              "    </tr>\n",
              "    <tr>\n",
              "      <th>1000</th>\n",
              "      <td>otoole amends platform gun control question remain change mean cbc news dont fooled otoole reclassify assault weapon theyre street killing others people he liar</td>\n",
              "      <td>1.0</td>\n",
              "      <td>tell lies</td>\n",
              "    </tr>\n",
              "    <tr>\n",
              "      <th>1001</th>\n",
              "      <td>justintrudeau stop lie stop manipulation stop suffering created stop belligerence stop hate lost election quick trying destroy canadian</td>\n",
              "      <td>1.0</td>\n",
              "      <td>tell lies</td>\n",
              "    </tr>\n",
              "  </tbody>\n",
              "</table>\n",
              "<p>387 rows × 3 columns</p>\n",
              "</div>\n",
              "      <button class=\"colab-df-convert\" onclick=\"convertToInteractive('df-73d9180e-069a-45c5-bd0b-ba57eb9ee90f')\"\n",
              "              title=\"Convert this dataframe to an interactive table.\"\n",
              "              style=\"display:none;\">\n",
              "        \n",
              "  <svg xmlns=\"http://www.w3.org/2000/svg\" height=\"24px\"viewBox=\"0 0 24 24\"\n",
              "       width=\"24px\">\n",
              "    <path d=\"M0 0h24v24H0V0z\" fill=\"none\"/>\n",
              "    <path d=\"M18.56 5.44l.94 2.06.94-2.06 2.06-.94-2.06-.94-.94-2.06-.94 2.06-2.06.94zm-11 1L8.5 8.5l.94-2.06 2.06-.94-2.06-.94L8.5 2.5l-.94 2.06-2.06.94zm10 10l.94 2.06.94-2.06 2.06-.94-2.06-.94-.94-2.06-.94 2.06-2.06.94z\"/><path d=\"M17.41 7.96l-1.37-1.37c-.4-.4-.92-.59-1.43-.59-.52 0-1.04.2-1.43.59L10.3 9.45l-7.72 7.72c-.78.78-.78 2.05 0 2.83L4 21.41c.39.39.9.59 1.41.59.51 0 1.02-.2 1.41-.59l7.78-7.78 2.81-2.81c.8-.78.8-2.07 0-2.86zM5.41 20L4 18.59l7.72-7.72 1.47 1.35L5.41 20z\"/>\n",
              "  </svg>\n",
              "      </button>\n",
              "      \n",
              "  <style>\n",
              "    .colab-df-container {\n",
              "      display:flex;\n",
              "      flex-wrap:wrap;\n",
              "      gap: 12px;\n",
              "    }\n",
              "\n",
              "    .colab-df-convert {\n",
              "      background-color: #E8F0FE;\n",
              "      border: none;\n",
              "      border-radius: 50%;\n",
              "      cursor: pointer;\n",
              "      display: none;\n",
              "      fill: #1967D2;\n",
              "      height: 32px;\n",
              "      padding: 0 0 0 0;\n",
              "      width: 32px;\n",
              "    }\n",
              "\n",
              "    .colab-df-convert:hover {\n",
              "      background-color: #E2EBFA;\n",
              "      box-shadow: 0px 1px 2px rgba(60, 64, 67, 0.3), 0px 1px 3px 1px rgba(60, 64, 67, 0.15);\n",
              "      fill: #174EA6;\n",
              "    }\n",
              "\n",
              "    [theme=dark] .colab-df-convert {\n",
              "      background-color: #3B4455;\n",
              "      fill: #D2E3FC;\n",
              "    }\n",
              "\n",
              "    [theme=dark] .colab-df-convert:hover {\n",
              "      background-color: #434B5C;\n",
              "      box-shadow: 0px 1px 3px 1px rgba(0, 0, 0, 0.15);\n",
              "      filter: drop-shadow(0px 1px 2px rgba(0, 0, 0, 0.3));\n",
              "      fill: #FFFFFF;\n",
              "    }\n",
              "  </style>\n",
              "\n",
              "      <script>\n",
              "        const buttonEl =\n",
              "          document.querySelector('#df-73d9180e-069a-45c5-bd0b-ba57eb9ee90f button.colab-df-convert');\n",
              "        buttonEl.style.display =\n",
              "          google.colab.kernel.accessAllowed ? 'block' : 'none';\n",
              "\n",
              "        async function convertToInteractive(key) {\n",
              "          const element = document.querySelector('#df-73d9180e-069a-45c5-bd0b-ba57eb9ee90f');\n",
              "          const dataTable =\n",
              "            await google.colab.kernel.invokeFunction('convertToInteractive',\n",
              "                                                     [key], {});\n",
              "          if (!dataTable) return;\n",
              "\n",
              "          const docLinkHtml = 'Like what you see? Visit the ' +\n",
              "            '<a target=\"_blank\" href=https://colab.research.google.com/notebooks/data_table.ipynb>data table notebook</a>'\n",
              "            + ' to learn more about interactive tables.';\n",
              "          element.innerHTML = '';\n",
              "          dataTable['output_type'] = 'display_data';\n",
              "          await google.colab.output.renderOutput(dataTable, element);\n",
              "          const docLink = document.createElement('div');\n",
              "          docLink.innerHTML = docLinkHtml;\n",
              "          element.appendChild(docLink);\n",
              "        }\n",
              "      </script>\n",
              "    </div>\n",
              "  </div>\n",
              "  "
            ]
          },
          "metadata": {},
          "execution_count": 189
        }
      ]
    },
    {
      "cell_type": "code",
      "source": [
        "neg_X = neg_clean['text']\n",
        "neg_y = neg_clean['negative_reason'] \n",
        "\n",
        "# split to training and testing set\n",
        "neg_X_train, neg_X_test, neg_y_train, neg_y_test = train_test_split(neg_X, neg_y, test_size = 0.3, random_state = 42) "
      ],
      "metadata": {
        "id": "iNsCEBaqoptW"
      },
      "execution_count": 190,
      "outputs": []
    },
    {
      "cell_type": "code",
      "source": [
        "#prepare features using TF-IDF\n",
        "tfidfvectorizer_4 = TfidfVectorizer(analyzer='word', max_features=5000) \n",
        "\n",
        "neg_train = tfidfvectorizer_4.fit_transform(neg_X_train)\n",
        "neg_test = tfidfvectorizer_4.transform(neg_X_test)"
      ],
      "metadata": {
        "id": "v7m55kSRBZQp"
      },
      "execution_count": null,
      "outputs": []
    },
    {
      "cell_type": "code",
      "source": [
        "#perform gridsearch on multinomial Logistic Regression to tune hyperparameters\n",
        "lr_model = LogisticRegression(random_state = 42, max_iter = 1000, multi_class = 'multinomial', solver = 'saga') \n",
        "para_grid = { \n",
        "    'C': [0.01, 1, 10, 50],\n",
        "    'penalty': ['l1', 'l2']}\n",
        "grid_search = GridSearchCV(lr_model, para_grid, scoring = 'f1_micro', cv = 2) # model tunning\n",
        "grid_search.fit(neg_train, neg_y_train)\n",
        "\n",
        "print('Best hyperparameters set found is:')\n",
        "print(grid_search.best_params_)\n",
        "y_pred_neg = grid_search.predict(neg_test)\n",
        "print('F1 score on testing set is {}'.format(f1_score(neg_y_test, y_pred_neg, average = 'micro')))\n",
        "print()\n",
        "# generate the classification report for a holistic view\n",
        "print(classification_report(neg_y_test, y_pred_neg))"
      ],
      "metadata": {
        "colab": {
          "base_uri": "https://localhost:8080/"
        },
        "id": "mbg6GhGlBy4U",
        "outputId": "1edfb047-1a09-49b3-d451-775c61ac406c"
      },
      "execution_count": null,
      "outputs": [
        {
          "output_type": "stream",
          "name": "stderr",
          "text": [
            "/usr/local/lib/python3.7/dist-packages/sklearn/linear_model/_sag.py:354: ConvergenceWarning: The max_iter was reached which means the coef_ did not converge\n",
            "  ConvergenceWarning,\n",
            "/usr/local/lib/python3.7/dist-packages/sklearn/linear_model/_sag.py:354: ConvergenceWarning: The max_iter was reached which means the coef_ did not converge\n",
            "  ConvergenceWarning,\n",
            "/usr/local/lib/python3.7/dist-packages/sklearn/linear_model/_sag.py:354: ConvergenceWarning: The max_iter was reached which means the coef_ did not converge\n",
            "  ConvergenceWarning,\n",
            "/usr/local/lib/python3.7/dist-packages/sklearn/linear_model/_sag.py:354: ConvergenceWarning: The max_iter was reached which means the coef_ did not converge\n",
            "  ConvergenceWarning,\n"
          ]
        },
        {
          "output_type": "stream",
          "name": "stdout",
          "text": [
            "Best hyperparameters set found is:\n",
            "{'C': 10, 'penalty': 'l2'}\n",
            "F1 score on testing set is 0.4700854700854701\n",
            "\n",
            "                                     precision    recall  f1-score   support\n",
            "\n",
            "             calling election early       0.55      0.60      0.57        20\n",
            "                    climate problem       1.00      0.17      0.29         6\n",
            "                             covid        0.00      0.00      0.00        10\n",
            "                            economy       1.00      0.10      0.18        10\n",
            "                        gun control       0.75      0.75      0.75         4\n",
            "           healthcare and marijuana       0.00      0.00      0.00         3\n",
            "                             others       0.45      0.88      0.60        42\n",
            "                            scandal       0.00      0.00      0.00         3\n",
            "                          tell lies       0.14      0.06      0.08        17\n",
            "women reproductive right and racism       0.00      0.00      0.00         2\n",
            "\n",
            "                           accuracy                           0.47       117\n",
            "                          macro avg       0.39      0.26      0.25       117\n",
            "                       weighted avg       0.44      0.47      0.38       117\n",
            "\n",
            "\n"
          ]
        },
        {
          "output_type": "stream",
          "name": "stderr",
          "text": [
            "/usr/local/lib/python3.7/dist-packages/sklearn/metrics/_classification.py:1318: UndefinedMetricWarning: Precision and F-score are ill-defined and being set to 0.0 in labels with no predicted samples. Use `zero_division` parameter to control this behavior.\n",
            "  _warn_prf(average, modifier, msg_start, len(result))\n",
            "/usr/local/lib/python3.7/dist-packages/sklearn/metrics/_classification.py:1318: UndefinedMetricWarning: Precision and F-score are ill-defined and being set to 0.0 in labels with no predicted samples. Use `zero_division` parameter to control this behavior.\n",
            "  _warn_prf(average, modifier, msg_start, len(result))\n",
            "/usr/local/lib/python3.7/dist-packages/sklearn/metrics/_classification.py:1318: UndefinedMetricWarning: Precision and F-score are ill-defined and being set to 0.0 in labels with no predicted samples. Use `zero_division` parameter to control this behavior.\n",
            "  _warn_prf(average, modifier, msg_start, len(result))\n"
          ]
        }
      ]
    },
    {
      "cell_type": "markdown",
      "source": [
        "From the report, we can see that the negative reason category of 'women reproductive right and racism', 'healthcare and marijuana', 'Scandal\", \"covid\" have 0 precision and recall. \n",
        "\n",
        "Let's print those tweets for a further look."
      ],
      "metadata": {
        "id": "9wK0iaXHjQyf"
      }
    },
    {
      "cell_type": "code",
      "source": [
        "women = neg_df_clean[neg_df_clean['negative_reason'] == 'women reproductive right and racism']\n",
        "women"
      ],
      "metadata": {
        "colab": {
          "base_uri": "https://localhost:8080/",
          "height": 173
        },
        "id": "rDKjZIUtE4Mu",
        "outputId": "b8d1c4c8-2c21-403c-d163-24f8afd0c01f"
      },
      "execution_count": null,
      "outputs": [
        {
          "output_type": "execute_result",
          "data": {
            "text/plain": [
              "                                                                                                                                                text  sentiment                      negative_reason\n",
              "247                              hell using man voice translate justin trudeau sound like white man slap face strong black woman like justin trudeau        1.0  women reproductive right and racism\n",
              "263                                                             flexdacat please send picture otoole dressed racist blackface please like hero lmfao        1.0  women reproductive right and racism\n",
              "907                       suzannealma inky_mark erinotoole otoole display contempt canadian blackfaced former pm racist policy voteppc end apartheid        1.0  women reproductive right and racism\n",
              "996  hey cbcnews get white ass cover story canadian racism hate crime colored people wtf cbcnews important election fascist murder seems like happen        1.0  women reproductive right and racism"
            ],
            "text/html": [
              "\n",
              "  <div id=\"df-b7cda7a2-c2d8-427e-96cf-0b766c126cb5\">\n",
              "    <div class=\"colab-df-container\">\n",
              "      <div>\n",
              "<style scoped>\n",
              "    .dataframe tbody tr th:only-of-type {\n",
              "        vertical-align: middle;\n",
              "    }\n",
              "\n",
              "    .dataframe tbody tr th {\n",
              "        vertical-align: top;\n",
              "    }\n",
              "\n",
              "    .dataframe thead th {\n",
              "        text-align: right;\n",
              "    }\n",
              "</style>\n",
              "<table border=\"1\" class=\"dataframe\">\n",
              "  <thead>\n",
              "    <tr style=\"text-align: right;\">\n",
              "      <th></th>\n",
              "      <th>text</th>\n",
              "      <th>sentiment</th>\n",
              "      <th>negative_reason</th>\n",
              "    </tr>\n",
              "  </thead>\n",
              "  <tbody>\n",
              "    <tr>\n",
              "      <th>247</th>\n",
              "      <td>hell using man voice translate justin trudeau sound like white man slap face strong black woman like justin trudeau</td>\n",
              "      <td>1.0</td>\n",
              "      <td>women reproductive right and racism</td>\n",
              "    </tr>\n",
              "    <tr>\n",
              "      <th>263</th>\n",
              "      <td>flexdacat please send picture otoole dressed racist blackface please like hero lmfao</td>\n",
              "      <td>1.0</td>\n",
              "      <td>women reproductive right and racism</td>\n",
              "    </tr>\n",
              "    <tr>\n",
              "      <th>907</th>\n",
              "      <td>suzannealma inky_mark erinotoole otoole display contempt canadian blackfaced former pm racist policy voteppc end apartheid</td>\n",
              "      <td>1.0</td>\n",
              "      <td>women reproductive right and racism</td>\n",
              "    </tr>\n",
              "    <tr>\n",
              "      <th>996</th>\n",
              "      <td>hey cbcnews get white ass cover story canadian racism hate crime colored people wtf cbcnews important election fascist murder seems like happen</td>\n",
              "      <td>1.0</td>\n",
              "      <td>women reproductive right and racism</td>\n",
              "    </tr>\n",
              "  </tbody>\n",
              "</table>\n",
              "</div>\n",
              "      <button class=\"colab-df-convert\" onclick=\"convertToInteractive('df-b7cda7a2-c2d8-427e-96cf-0b766c126cb5')\"\n",
              "              title=\"Convert this dataframe to an interactive table.\"\n",
              "              style=\"display:none;\">\n",
              "        \n",
              "  <svg xmlns=\"http://www.w3.org/2000/svg\" height=\"24px\"viewBox=\"0 0 24 24\"\n",
              "       width=\"24px\">\n",
              "    <path d=\"M0 0h24v24H0V0z\" fill=\"none\"/>\n",
              "    <path d=\"M18.56 5.44l.94 2.06.94-2.06 2.06-.94-2.06-.94-.94-2.06-.94 2.06-2.06.94zm-11 1L8.5 8.5l.94-2.06 2.06-.94-2.06-.94L8.5 2.5l-.94 2.06-2.06.94zm10 10l.94 2.06.94-2.06 2.06-.94-2.06-.94-.94-2.06-.94 2.06-2.06.94z\"/><path d=\"M17.41 7.96l-1.37-1.37c-.4-.4-.92-.59-1.43-.59-.52 0-1.04.2-1.43.59L10.3 9.45l-7.72 7.72c-.78.78-.78 2.05 0 2.83L4 21.41c.39.39.9.59 1.41.59.51 0 1.02-.2 1.41-.59l7.78-7.78 2.81-2.81c.8-.78.8-2.07 0-2.86zM5.41 20L4 18.59l7.72-7.72 1.47 1.35L5.41 20z\"/>\n",
              "  </svg>\n",
              "      </button>\n",
              "      \n",
              "  <style>\n",
              "    .colab-df-container {\n",
              "      display:flex;\n",
              "      flex-wrap:wrap;\n",
              "      gap: 12px;\n",
              "    }\n",
              "\n",
              "    .colab-df-convert {\n",
              "      background-color: #E8F0FE;\n",
              "      border: none;\n",
              "      border-radius: 50%;\n",
              "      cursor: pointer;\n",
              "      display: none;\n",
              "      fill: #1967D2;\n",
              "      height: 32px;\n",
              "      padding: 0 0 0 0;\n",
              "      width: 32px;\n",
              "    }\n",
              "\n",
              "    .colab-df-convert:hover {\n",
              "      background-color: #E2EBFA;\n",
              "      box-shadow: 0px 1px 2px rgba(60, 64, 67, 0.3), 0px 1px 3px 1px rgba(60, 64, 67, 0.15);\n",
              "      fill: #174EA6;\n",
              "    }\n",
              "\n",
              "    [theme=dark] .colab-df-convert {\n",
              "      background-color: #3B4455;\n",
              "      fill: #D2E3FC;\n",
              "    }\n",
              "\n",
              "    [theme=dark] .colab-df-convert:hover {\n",
              "      background-color: #434B5C;\n",
              "      box-shadow: 0px 1px 3px 1px rgba(0, 0, 0, 0.15);\n",
              "      filter: drop-shadow(0px 1px 2px rgba(0, 0, 0, 0.3));\n",
              "      fill: #FFFFFF;\n",
              "    }\n",
              "  </style>\n",
              "\n",
              "      <script>\n",
              "        const buttonEl =\n",
              "          document.querySelector('#df-b7cda7a2-c2d8-427e-96cf-0b766c126cb5 button.colab-df-convert');\n",
              "        buttonEl.style.display =\n",
              "          google.colab.kernel.accessAllowed ? 'block' : 'none';\n",
              "\n",
              "        async function convertToInteractive(key) {\n",
              "          const element = document.querySelector('#df-b7cda7a2-c2d8-427e-96cf-0b766c126cb5');\n",
              "          const dataTable =\n",
              "            await google.colab.kernel.invokeFunction('convertToInteractive',\n",
              "                                                     [key], {});\n",
              "          if (!dataTable) return;\n",
              "\n",
              "          const docLinkHtml = 'Like what you see? Visit the ' +\n",
              "            '<a target=\"_blank\" href=https://colab.research.google.com/notebooks/data_table.ipynb>data table notebook</a>'\n",
              "            + ' to learn more about interactive tables.';\n",
              "          element.innerHTML = '';\n",
              "          dataTable['output_type'] = 'display_data';\n",
              "          await google.colab.output.renderOutput(dataTable, element);\n",
              "          const docLink = document.createElement('div');\n",
              "          docLink.innerHTML = docLinkHtml;\n",
              "          element.appendChild(docLink);\n",
              "        }\n",
              "      </script>\n",
              "    </div>\n",
              "  </div>\n",
              "  "
            ]
          },
          "metadata": {},
          "execution_count": 143
        }
      ]
    },
    {
      "cell_type": "code",
      "source": [
        "scandal = neg_df_clean[neg_df_clean['negative_reason'] == 'scandal']\n",
        "scandal"
      ],
      "metadata": {
        "colab": {
          "base_uri": "https://localhost:8080/",
          "height": 595
        },
        "id": "AQtunUpoGbr8",
        "outputId": "1e06677b-d697-4be5-8b2c-170bd2cdec82"
      },
      "execution_count": 193,
      "outputs": [
        {
          "output_type": "execute_result",
          "data": {
            "text/plain": [
              "                                                                                                                                                                                                                text  sentiment negative_reason\n",
              "10                                      every time close eye brain start thinking otoole kenney apparently sort arrangement aid cpcs election prospect actually cost canadian life devastating sense well everything        1.0         scandal\n",
              "16              misspoke earlier scandal ethic commissioner cleared pmjt wrongdoing way otoole amp singh targeted woman mental illness amp speaks topic help others order score political point say enough character        1.0         scandal\n",
              "45                                  arbiewise canadiansence erinotoole cpc_hq yes100his election call gaining seat bury truth many scandal using covid political tool achieve personal goalnot goal benefit canadian        1.0         scandal\n",
              "113  conservative accusing liberal leader justin trudeau calling election cover detail happened canada level 4 laboratory canadian government scientist reportedly collaborated highranking chinese military officer        1.0         scandal\n",
              "382                                                                          canadian really got caught russiatrump election meddling look kind meddling ok american always meddle election ok cuz obama cool elxn44        1.0         scandal\n",
              "573                                                                             u politician endorsing canadian party leader upcoming election seems new miss past election seems weird vote mp party leader usstyle        1.0         scandal\n",
              "625                                                                        history 18september year2019 election interest photo canadian pm justin trudeau wearing brownface 2001 emerges canadian election campiagn        1.0         scandal\n",
              "750                                                       good lord would lucky enough two bunch selfish ppl may take election canadian multicultural honest believe constitution sad see canada digging dirt like u        1.0         scandal\n",
              "808                                                         trudeau since 2019 fire candidate sexual assault woman nothing hoping canadian would never find ill election avoids answer like always say respect woman        1.0         scandal\n",
              "825                                                                                                                                                                trudeau tarnished longer anew worn longer welcome        1.0         scandal\n",
              "865                                                                                           erin otoole asked secret deal gun lobby doesnt answer kinda like pierre poilievre oil lobby leslyn lewis prolife lobby        1.0         scandal\n",
              "909                                                                                                                              chasingharmony1 justwatchme14 erinotoole otoole dangerous fool need call attack dog        1.0         scandal\n",
              "951                                                                              amazing many question otoole gun sexual harassment fiasco kitchener disappeared wake canadian msm liberal partytrudeaucrimeminister        1.0         scandal\n",
              "977                                                                                 ottawacitizen trudeau said reason election couldnt govern resign trudeau never held account scandal canadian give pas apathy sad        1.0         scandal"
            ],
            "text/html": [
              "\n",
              "  <div id=\"df-67217a33-3e2f-4851-bd26-e3f218234c0d\">\n",
              "    <div class=\"colab-df-container\">\n",
              "      <div>\n",
              "<style scoped>\n",
              "    .dataframe tbody tr th:only-of-type {\n",
              "        vertical-align: middle;\n",
              "    }\n",
              "\n",
              "    .dataframe tbody tr th {\n",
              "        vertical-align: top;\n",
              "    }\n",
              "\n",
              "    .dataframe thead th {\n",
              "        text-align: right;\n",
              "    }\n",
              "</style>\n",
              "<table border=\"1\" class=\"dataframe\">\n",
              "  <thead>\n",
              "    <tr style=\"text-align: right;\">\n",
              "      <th></th>\n",
              "      <th>text</th>\n",
              "      <th>sentiment</th>\n",
              "      <th>negative_reason</th>\n",
              "    </tr>\n",
              "  </thead>\n",
              "  <tbody>\n",
              "    <tr>\n",
              "      <th>10</th>\n",
              "      <td>every time close eye brain start thinking otoole kenney apparently sort arrangement aid cpcs election prospect actually cost canadian life devastating sense well everything</td>\n",
              "      <td>1.0</td>\n",
              "      <td>scandal</td>\n",
              "    </tr>\n",
              "    <tr>\n",
              "      <th>16</th>\n",
              "      <td>misspoke earlier scandal ethic commissioner cleared pmjt wrongdoing way otoole amp singh targeted woman mental illness amp speaks topic help others order score political point say enough character</td>\n",
              "      <td>1.0</td>\n",
              "      <td>scandal</td>\n",
              "    </tr>\n",
              "    <tr>\n",
              "      <th>45</th>\n",
              "      <td>arbiewise canadiansence erinotoole cpc_hq yes100his election call gaining seat bury truth many scandal using covid political tool achieve personal goalnot goal benefit canadian</td>\n",
              "      <td>1.0</td>\n",
              "      <td>scandal</td>\n",
              "    </tr>\n",
              "    <tr>\n",
              "      <th>113</th>\n",
              "      <td>conservative accusing liberal leader justin trudeau calling election cover detail happened canada level 4 laboratory canadian government scientist reportedly collaborated highranking chinese military officer</td>\n",
              "      <td>1.0</td>\n",
              "      <td>scandal</td>\n",
              "    </tr>\n",
              "    <tr>\n",
              "      <th>382</th>\n",
              "      <td>canadian really got caught russiatrump election meddling look kind meddling ok american always meddle election ok cuz obama cool elxn44</td>\n",
              "      <td>1.0</td>\n",
              "      <td>scandal</td>\n",
              "    </tr>\n",
              "    <tr>\n",
              "      <th>573</th>\n",
              "      <td>u politician endorsing canadian party leader upcoming election seems new miss past election seems weird vote mp party leader usstyle</td>\n",
              "      <td>1.0</td>\n",
              "      <td>scandal</td>\n",
              "    </tr>\n",
              "    <tr>\n",
              "      <th>625</th>\n",
              "      <td>history 18september year2019 election interest photo canadian pm justin trudeau wearing brownface 2001 emerges canadian election campiagn</td>\n",
              "      <td>1.0</td>\n",
              "      <td>scandal</td>\n",
              "    </tr>\n",
              "    <tr>\n",
              "      <th>750</th>\n",
              "      <td>good lord would lucky enough two bunch selfish ppl may take election canadian multicultural honest believe constitution sad see canada digging dirt like u</td>\n",
              "      <td>1.0</td>\n",
              "      <td>scandal</td>\n",
              "    </tr>\n",
              "    <tr>\n",
              "      <th>808</th>\n",
              "      <td>trudeau since 2019 fire candidate sexual assault woman nothing hoping canadian would never find ill election avoids answer like always say respect woman</td>\n",
              "      <td>1.0</td>\n",
              "      <td>scandal</td>\n",
              "    </tr>\n",
              "    <tr>\n",
              "      <th>825</th>\n",
              "      <td>trudeau tarnished longer anew worn longer welcome</td>\n",
              "      <td>1.0</td>\n",
              "      <td>scandal</td>\n",
              "    </tr>\n",
              "    <tr>\n",
              "      <th>865</th>\n",
              "      <td>erin otoole asked secret deal gun lobby doesnt answer kinda like pierre poilievre oil lobby leslyn lewis prolife lobby</td>\n",
              "      <td>1.0</td>\n",
              "      <td>scandal</td>\n",
              "    </tr>\n",
              "    <tr>\n",
              "      <th>909</th>\n",
              "      <td>chasingharmony1 justwatchme14 erinotoole otoole dangerous fool need call attack dog</td>\n",
              "      <td>1.0</td>\n",
              "      <td>scandal</td>\n",
              "    </tr>\n",
              "    <tr>\n",
              "      <th>951</th>\n",
              "      <td>amazing many question otoole gun sexual harassment fiasco kitchener disappeared wake canadian msm liberal partytrudeaucrimeminister</td>\n",
              "      <td>1.0</td>\n",
              "      <td>scandal</td>\n",
              "    </tr>\n",
              "    <tr>\n",
              "      <th>977</th>\n",
              "      <td>ottawacitizen trudeau said reason election couldnt govern resign trudeau never held account scandal canadian give pas apathy sad</td>\n",
              "      <td>1.0</td>\n",
              "      <td>scandal</td>\n",
              "    </tr>\n",
              "  </tbody>\n",
              "</table>\n",
              "</div>\n",
              "      <button class=\"colab-df-convert\" onclick=\"convertToInteractive('df-67217a33-3e2f-4851-bd26-e3f218234c0d')\"\n",
              "              title=\"Convert this dataframe to an interactive table.\"\n",
              "              style=\"display:none;\">\n",
              "        \n",
              "  <svg xmlns=\"http://www.w3.org/2000/svg\" height=\"24px\"viewBox=\"0 0 24 24\"\n",
              "       width=\"24px\">\n",
              "    <path d=\"M0 0h24v24H0V0z\" fill=\"none\"/>\n",
              "    <path d=\"M18.56 5.44l.94 2.06.94-2.06 2.06-.94-2.06-.94-.94-2.06-.94 2.06-2.06.94zm-11 1L8.5 8.5l.94-2.06 2.06-.94-2.06-.94L8.5 2.5l-.94 2.06-2.06.94zm10 10l.94 2.06.94-2.06 2.06-.94-2.06-.94-.94-2.06-.94 2.06-2.06.94z\"/><path d=\"M17.41 7.96l-1.37-1.37c-.4-.4-.92-.59-1.43-.59-.52 0-1.04.2-1.43.59L10.3 9.45l-7.72 7.72c-.78.78-.78 2.05 0 2.83L4 21.41c.39.39.9.59 1.41.59.51 0 1.02-.2 1.41-.59l7.78-7.78 2.81-2.81c.8-.78.8-2.07 0-2.86zM5.41 20L4 18.59l7.72-7.72 1.47 1.35L5.41 20z\"/>\n",
              "  </svg>\n",
              "      </button>\n",
              "      \n",
              "  <style>\n",
              "    .colab-df-container {\n",
              "      display:flex;\n",
              "      flex-wrap:wrap;\n",
              "      gap: 12px;\n",
              "    }\n",
              "\n",
              "    .colab-df-convert {\n",
              "      background-color: #E8F0FE;\n",
              "      border: none;\n",
              "      border-radius: 50%;\n",
              "      cursor: pointer;\n",
              "      display: none;\n",
              "      fill: #1967D2;\n",
              "      height: 32px;\n",
              "      padding: 0 0 0 0;\n",
              "      width: 32px;\n",
              "    }\n",
              "\n",
              "    .colab-df-convert:hover {\n",
              "      background-color: #E2EBFA;\n",
              "      box-shadow: 0px 1px 2px rgba(60, 64, 67, 0.3), 0px 1px 3px 1px rgba(60, 64, 67, 0.15);\n",
              "      fill: #174EA6;\n",
              "    }\n",
              "\n",
              "    [theme=dark] .colab-df-convert {\n",
              "      background-color: #3B4455;\n",
              "      fill: #D2E3FC;\n",
              "    }\n",
              "\n",
              "    [theme=dark] .colab-df-convert:hover {\n",
              "      background-color: #434B5C;\n",
              "      box-shadow: 0px 1px 3px 1px rgba(0, 0, 0, 0.15);\n",
              "      filter: drop-shadow(0px 1px 2px rgba(0, 0, 0, 0.3));\n",
              "      fill: #FFFFFF;\n",
              "    }\n",
              "  </style>\n",
              "\n",
              "      <script>\n",
              "        const buttonEl =\n",
              "          document.querySelector('#df-67217a33-3e2f-4851-bd26-e3f218234c0d button.colab-df-convert');\n",
              "        buttonEl.style.display =\n",
              "          google.colab.kernel.accessAllowed ? 'block' : 'none';\n",
              "\n",
              "        async function convertToInteractive(key) {\n",
              "          const element = document.querySelector('#df-67217a33-3e2f-4851-bd26-e3f218234c0d');\n",
              "          const dataTable =\n",
              "            await google.colab.kernel.invokeFunction('convertToInteractive',\n",
              "                                                     [key], {});\n",
              "          if (!dataTable) return;\n",
              "\n",
              "          const docLinkHtml = 'Like what you see? Visit the ' +\n",
              "            '<a target=\"_blank\" href=https://colab.research.google.com/notebooks/data_table.ipynb>data table notebook</a>'\n",
              "            + ' to learn more about interactive tables.';\n",
              "          element.innerHTML = '';\n",
              "          dataTable['output_type'] = 'display_data';\n",
              "          await google.colab.output.renderOutput(dataTable, element);\n",
              "          const docLink = document.createElement('div');\n",
              "          docLink.innerHTML = docLinkHtml;\n",
              "          element.appendChild(docLink);\n",
              "        }\n",
              "      </script>\n",
              "    </div>\n",
              "  </div>\n",
              "  "
            ]
          },
          "metadata": {},
          "execution_count": 193
        }
      ]
    },
    {
      "cell_type": "code",
      "source": [
        "healthcare = neg_df_clean[neg_df_clean['negative_reason'] == 'healthcare and marijuana']\n",
        "healthcare \n"
      ],
      "metadata": {
        "colab": {
          "base_uri": "https://localhost:8080/",
          "height": 429
        },
        "id": "wNlT9mw5G2oW",
        "outputId": "7909b79c-b520-445b-a556-c1a12cec502f"
      },
      "execution_count": null,
      "outputs": [
        {
          "output_type": "execute_result",
          "data": {
            "text/plain": [
              "                                                                                                                                                                                                                     text  sentiment           negative_reason\n",
              "56                           going monday election know conservative win province totally left manage pandemic kennedy amp ford ontario disapprove cerb regardless win countless abled canadian today disabled tomorrow 9        1.0  healthcare and marijuana\n",
              "93   redmcgraw1 kamorant lumeena koanside actually people still paying full price child care still promise wont fully realized 202526 mean election 45 liberal screaming u vote ndp lose child care already getting old u        1.0  healthcare and marijuana\n",
              "282                                     3 trudeaus response good noted mr otoole didnt seem know canada health care act work federal govt responsible ensuring act followed province summary quoting elxn44 leader debate        1.0  healthcare and marijuana\n",
              "315                                                                                                                                          jodim2019 truth like trudeau promising clean drinking water yet first nation        1.0  healthcare and marijuana\n",
              "316                                                                                   canada debate indigenous community clean drinking water singh trudeau spent billion help bank didnt give clean drinking water truth        1.0  healthcare and marijuana\n",
              "430                                                                                                                     chantalhbert erinotoole think canadian looking childcare aa main election point better get bubble        1.0  healthcare and marijuana\n",
              "923                                                                                          justintrudeau minute threatened canadian withholding healthcare vaccinated minute lost election shame youwe leave one behind        1.0  healthcare and marijuana"
            ],
            "text/html": [
              "\n",
              "  <div id=\"df-7a2e2bf0-6d4d-4b2e-85fb-046642ff3e12\">\n",
              "    <div class=\"colab-df-container\">\n",
              "      <div>\n",
              "<style scoped>\n",
              "    .dataframe tbody tr th:only-of-type {\n",
              "        vertical-align: middle;\n",
              "    }\n",
              "\n",
              "    .dataframe tbody tr th {\n",
              "        vertical-align: top;\n",
              "    }\n",
              "\n",
              "    .dataframe thead th {\n",
              "        text-align: right;\n",
              "    }\n",
              "</style>\n",
              "<table border=\"1\" class=\"dataframe\">\n",
              "  <thead>\n",
              "    <tr style=\"text-align: right;\">\n",
              "      <th></th>\n",
              "      <th>text</th>\n",
              "      <th>sentiment</th>\n",
              "      <th>negative_reason</th>\n",
              "    </tr>\n",
              "  </thead>\n",
              "  <tbody>\n",
              "    <tr>\n",
              "      <th>56</th>\n",
              "      <td>going monday election know conservative win province totally left manage pandemic kennedy amp ford ontario disapprove cerb regardless win countless abled canadian today disabled tomorrow 9</td>\n",
              "      <td>1.0</td>\n",
              "      <td>healthcare and marijuana</td>\n",
              "    </tr>\n",
              "    <tr>\n",
              "      <th>93</th>\n",
              "      <td>redmcgraw1 kamorant lumeena koanside actually people still paying full price child care still promise wont fully realized 202526 mean election 45 liberal screaming u vote ndp lose child care already getting old u</td>\n",
              "      <td>1.0</td>\n",
              "      <td>healthcare and marijuana</td>\n",
              "    </tr>\n",
              "    <tr>\n",
              "      <th>282</th>\n",
              "      <td>3 trudeaus response good noted mr otoole didnt seem know canada health care act work federal govt responsible ensuring act followed province summary quoting elxn44 leader debate</td>\n",
              "      <td>1.0</td>\n",
              "      <td>healthcare and marijuana</td>\n",
              "    </tr>\n",
              "    <tr>\n",
              "      <th>315</th>\n",
              "      <td>jodim2019 truth like trudeau promising clean drinking water yet first nation</td>\n",
              "      <td>1.0</td>\n",
              "      <td>healthcare and marijuana</td>\n",
              "    </tr>\n",
              "    <tr>\n",
              "      <th>316</th>\n",
              "      <td>canada debate indigenous community clean drinking water singh trudeau spent billion help bank didnt give clean drinking water truth</td>\n",
              "      <td>1.0</td>\n",
              "      <td>healthcare and marijuana</td>\n",
              "    </tr>\n",
              "    <tr>\n",
              "      <th>430</th>\n",
              "      <td>chantalhbert erinotoole think canadian looking childcare aa main election point better get bubble</td>\n",
              "      <td>1.0</td>\n",
              "      <td>healthcare and marijuana</td>\n",
              "    </tr>\n",
              "    <tr>\n",
              "      <th>923</th>\n",
              "      <td>justintrudeau minute threatened canadian withholding healthcare vaccinated minute lost election shame youwe leave one behind</td>\n",
              "      <td>1.0</td>\n",
              "      <td>healthcare and marijuana</td>\n",
              "    </tr>\n",
              "  </tbody>\n",
              "</table>\n",
              "</div>\n",
              "      <button class=\"colab-df-convert\" onclick=\"convertToInteractive('df-7a2e2bf0-6d4d-4b2e-85fb-046642ff3e12')\"\n",
              "              title=\"Convert this dataframe to an interactive table.\"\n",
              "              style=\"display:none;\">\n",
              "        \n",
              "  <svg xmlns=\"http://www.w3.org/2000/svg\" height=\"24px\"viewBox=\"0 0 24 24\"\n",
              "       width=\"24px\">\n",
              "    <path d=\"M0 0h24v24H0V0z\" fill=\"none\"/>\n",
              "    <path d=\"M18.56 5.44l.94 2.06.94-2.06 2.06-.94-2.06-.94-.94-2.06-.94 2.06-2.06.94zm-11 1L8.5 8.5l.94-2.06 2.06-.94-2.06-.94L8.5 2.5l-.94 2.06-2.06.94zm10 10l.94 2.06.94-2.06 2.06-.94-2.06-.94-.94-2.06-.94 2.06-2.06.94z\"/><path d=\"M17.41 7.96l-1.37-1.37c-.4-.4-.92-.59-1.43-.59-.52 0-1.04.2-1.43.59L10.3 9.45l-7.72 7.72c-.78.78-.78 2.05 0 2.83L4 21.41c.39.39.9.59 1.41.59.51 0 1.02-.2 1.41-.59l7.78-7.78 2.81-2.81c.8-.78.8-2.07 0-2.86zM5.41 20L4 18.59l7.72-7.72 1.47 1.35L5.41 20z\"/>\n",
              "  </svg>\n",
              "      </button>\n",
              "      \n",
              "  <style>\n",
              "    .colab-df-container {\n",
              "      display:flex;\n",
              "      flex-wrap:wrap;\n",
              "      gap: 12px;\n",
              "    }\n",
              "\n",
              "    .colab-df-convert {\n",
              "      background-color: #E8F0FE;\n",
              "      border: none;\n",
              "      border-radius: 50%;\n",
              "      cursor: pointer;\n",
              "      display: none;\n",
              "      fill: #1967D2;\n",
              "      height: 32px;\n",
              "      padding: 0 0 0 0;\n",
              "      width: 32px;\n",
              "    }\n",
              "\n",
              "    .colab-df-convert:hover {\n",
              "      background-color: #E2EBFA;\n",
              "      box-shadow: 0px 1px 2px rgba(60, 64, 67, 0.3), 0px 1px 3px 1px rgba(60, 64, 67, 0.15);\n",
              "      fill: #174EA6;\n",
              "    }\n",
              "\n",
              "    [theme=dark] .colab-df-convert {\n",
              "      background-color: #3B4455;\n",
              "      fill: #D2E3FC;\n",
              "    }\n",
              "\n",
              "    [theme=dark] .colab-df-convert:hover {\n",
              "      background-color: #434B5C;\n",
              "      box-shadow: 0px 1px 3px 1px rgba(0, 0, 0, 0.15);\n",
              "      filter: drop-shadow(0px 1px 2px rgba(0, 0, 0, 0.3));\n",
              "      fill: #FFFFFF;\n",
              "    }\n",
              "  </style>\n",
              "\n",
              "      <script>\n",
              "        const buttonEl =\n",
              "          document.querySelector('#df-7a2e2bf0-6d4d-4b2e-85fb-046642ff3e12 button.colab-df-convert');\n",
              "        buttonEl.style.display =\n",
              "          google.colab.kernel.accessAllowed ? 'block' : 'none';\n",
              "\n",
              "        async function convertToInteractive(key) {\n",
              "          const element = document.querySelector('#df-7a2e2bf0-6d4d-4b2e-85fb-046642ff3e12');\n",
              "          const dataTable =\n",
              "            await google.colab.kernel.invokeFunction('convertToInteractive',\n",
              "                                                     [key], {});\n",
              "          if (!dataTable) return;\n",
              "\n",
              "          const docLinkHtml = 'Like what you see? Visit the ' +\n",
              "            '<a target=\"_blank\" href=https://colab.research.google.com/notebooks/data_table.ipynb>data table notebook</a>'\n",
              "            + ' to learn more about interactive tables.';\n",
              "          element.innerHTML = '';\n",
              "          dataTable['output_type'] = 'display_data';\n",
              "          await google.colab.output.renderOutput(dataTable, element);\n",
              "          const docLink = document.createElement('div');\n",
              "          docLink.innerHTML = docLinkHtml;\n",
              "          element.appendChild(docLink);\n",
              "        }\n",
              "      </script>\n",
              "    </div>\n",
              "  </div>\n",
              "  "
            ]
          },
          "metadata": {},
          "execution_count": 147
        }
      ]
    },
    {
      "cell_type": "markdown",
      "source": [
        "(a) I use Multinomial Logistic Regression model to predict the negative reason is the. The performance on the test set is not very good with F1 score of 47%.  Some reasons of the model failed to predict the correct negative reason class could be that \n",
        "1. There are too many features. \n",
        "2. Not large enough training set. Especially for the class of 'women reproductive right and racism', 'healthcare and marijuana', result in 0% precision and recall on those classes. \n",
        "3. Some classes contain mix of word information in terms of features making the model hard to catch the pattern and predict the result.\n",
        "\n",
        "(b) Therefore, I suggest collecting more data for analyzing negative reasons in all classes, and do the feature selection that represent each class the best to train the model."
      ],
      "metadata": {
        "id": "M20znFPqHxiF"
      }
    }
  ]
}