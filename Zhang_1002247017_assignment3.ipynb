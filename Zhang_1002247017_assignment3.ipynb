{
  "cells": [
    {
      "cell_type": "code",
      "execution_count": null,
      "id": "d0e92fd7",
      "metadata": {
        "colab": {
          "base_uri": "https://localhost:8080/"
        },
        "id": "d0e92fd7",
        "outputId": "dcaed9c8-504f-49c3-eceb-399810a0af9c"
      },
      "outputs": [
        {
          "output_type": "stream",
          "name": "stdout",
          "text": [
            "Requirement already satisfied: cvxpy in /usr/local/lib/python3.7/dist-packages (1.0.31)\n",
            "Requirement already satisfied: osqp>=0.4.1 in /usr/local/lib/python3.7/dist-packages (from cvxpy) (0.6.2.post0)\n",
            "Requirement already satisfied: numpy>=1.15 in /usr/local/lib/python3.7/dist-packages (from cvxpy) (1.21.5)\n",
            "Requirement already satisfied: multiprocess in /usr/local/lib/python3.7/dist-packages (from cvxpy) (0.70.12.2)\n",
            "Requirement already satisfied: scipy>=1.1.0 in /usr/local/lib/python3.7/dist-packages (from cvxpy) (1.4.1)\n",
            "Requirement already satisfied: ecos>=2 in /usr/local/lib/python3.7/dist-packages (from cvxpy) (2.0.10)\n",
            "Requirement already satisfied: scs>=1.1.3 in /usr/local/lib/python3.7/dist-packages (from cvxpy) (3.2.0)\n",
            "Requirement already satisfied: qdldl in /usr/local/lib/python3.7/dist-packages (from osqp>=0.4.1->cvxpy) (0.1.5.post0)\n",
            "Requirement already satisfied: dill>=0.3.4 in /usr/local/lib/python3.7/dist-packages (from multiprocess->cvxpy) (0.3.4)\n"
          ]
        }
      ],
      "source": [
        "!pip install cvxpy\n",
        "import cvxpy as cp\n",
        "import numpy as np\n",
        "import pandas as pd\n",
        "import matplotlib.pyplot as plt"
      ]
    },
    {
      "cell_type": "code",
      "execution_count": null,
      "id": "eb90b9e2",
      "metadata": {
        "id": "eb90b9e2"
      },
      "outputs": [],
      "source": [
        "#Load file and into dateframe\n",
        "monthlyClosing_inSample = 'monthly_closings_2018_to_2020.csv'\n",
        "monthlyClosing_outSample = 'monthly_closings_2021.csv'\n",
        "\n",
        "df1 = pd.read_csv(monthlyClosing_inSample)\n",
        "df2 = pd.read_csv(monthlyClosing_outSample)\n",
        "\n",
        "#Remove date\n",
        "price = df1.iloc[:,1:]\n",
        "\n",
        "#Calculate monthly return as percent change of monthly closing values, reset indices \n",
        "ret = price.pct_change().iloc[1:,:]\n",
        "ret.reset_index(inplace = True, drop = True)"
      ]
    },
    {
      "cell_type": "code",
      "execution_count": null,
      "id": "6deefda1",
      "metadata": {
        "colab": {
          "base_uri": "https://localhost:8080/",
          "height": 233
        },
        "id": "6deefda1",
        "outputId": "6e7dd4a5-05da-4005-a36c-56e532b53fbb"
      },
      "outputs": [
        {
          "output_type": "execute_result",
          "data": {
            "text/plain": [
              "         Date    AMD        OXY        XLF        BABA          F        BAC  \\\n",
              "0  2018-01-01  13.74  64.900764  27.397306  204.289993   9.464570  29.212917   \n",
              "1  2018-02-01  12.11  56.789257  26.595846  186.139999   9.257274  29.304205   \n",
              "2  2018-03-01  10.05  56.235203  25.398247  183.539993   9.667352  27.377983   \n",
              "3  2018-04-01  10.88  67.682632  25.379751  178.539993   9.806952  27.416567   \n",
              "4  2018-05-01  13.73  73.762344  25.130117  198.009995  10.212634  26.610199   \n",
              "\n",
              "         CCL        AMC        DAL  ...         UNH         MMM        AAL  \\\n",
              "0  65.913818  10.430466  53.549736  ...  222.232788  218.483643  52.943863   \n",
              "1  61.587685  12.223202  50.842533  ...  212.265274  205.409531  52.875637   \n",
              "2  60.756409  11.449066  51.999256  ...  200.852341  192.592194  50.741047   \n",
              "3  58.421768  14.404930  49.542076  ...  222.610748  170.544785  41.922886   \n",
              "4  57.699131  12.217362  51.278229  ...  227.422699  173.036407  42.518581   \n",
              "\n",
              "   MULN         QQQ       AAPL        XLE        FXI         JPM           V  \n",
              "0  7.32  164.870193  39.982342  60.957558  48.101372  102.605919  120.929955  \n",
              "1  5.83  162.738815  42.535130  54.352787  43.124111  102.988831  119.674240  \n",
              "2  6.96  155.848129  40.229286  54.898434  43.142376   98.057846  116.645149  \n",
              "3  7.93  156.890533  39.625057  60.538544  42.859261   96.996758  123.724594  \n",
              "4  6.71  165.790802  44.806568  62.351170  42.649212   95.902344  127.469086  \n",
              "\n",
              "[5 rows x 26 columns]"
            ],
            "text/html": [
              "\n",
              "  <div id=\"df-4155f058-b7f4-4de0-bd8d-6ff2b950ec5e\">\n",
              "    <div class=\"colab-df-container\">\n",
              "      <div>\n",
              "<style scoped>\n",
              "    .dataframe tbody tr th:only-of-type {\n",
              "        vertical-align: middle;\n",
              "    }\n",
              "\n",
              "    .dataframe tbody tr th {\n",
              "        vertical-align: top;\n",
              "    }\n",
              "\n",
              "    .dataframe thead th {\n",
              "        text-align: right;\n",
              "    }\n",
              "</style>\n",
              "<table border=\"1\" class=\"dataframe\">\n",
              "  <thead>\n",
              "    <tr style=\"text-align: right;\">\n",
              "      <th></th>\n",
              "      <th>Date</th>\n",
              "      <th>AMD</th>\n",
              "      <th>OXY</th>\n",
              "      <th>XLF</th>\n",
              "      <th>BABA</th>\n",
              "      <th>F</th>\n",
              "      <th>BAC</th>\n",
              "      <th>CCL</th>\n",
              "      <th>AMC</th>\n",
              "      <th>DAL</th>\n",
              "      <th>...</th>\n",
              "      <th>UNH</th>\n",
              "      <th>MMM</th>\n",
              "      <th>AAL</th>\n",
              "      <th>MULN</th>\n",
              "      <th>QQQ</th>\n",
              "      <th>AAPL</th>\n",
              "      <th>XLE</th>\n",
              "      <th>FXI</th>\n",
              "      <th>JPM</th>\n",
              "      <th>V</th>\n",
              "    </tr>\n",
              "  </thead>\n",
              "  <tbody>\n",
              "    <tr>\n",
              "      <th>0</th>\n",
              "      <td>2018-01-01</td>\n",
              "      <td>13.74</td>\n",
              "      <td>64.900764</td>\n",
              "      <td>27.397306</td>\n",
              "      <td>204.289993</td>\n",
              "      <td>9.464570</td>\n",
              "      <td>29.212917</td>\n",
              "      <td>65.913818</td>\n",
              "      <td>10.430466</td>\n",
              "      <td>53.549736</td>\n",
              "      <td>...</td>\n",
              "      <td>222.232788</td>\n",
              "      <td>218.483643</td>\n",
              "      <td>52.943863</td>\n",
              "      <td>7.32</td>\n",
              "      <td>164.870193</td>\n",
              "      <td>39.982342</td>\n",
              "      <td>60.957558</td>\n",
              "      <td>48.101372</td>\n",
              "      <td>102.605919</td>\n",
              "      <td>120.929955</td>\n",
              "    </tr>\n",
              "    <tr>\n",
              "      <th>1</th>\n",
              "      <td>2018-02-01</td>\n",
              "      <td>12.11</td>\n",
              "      <td>56.789257</td>\n",
              "      <td>26.595846</td>\n",
              "      <td>186.139999</td>\n",
              "      <td>9.257274</td>\n",
              "      <td>29.304205</td>\n",
              "      <td>61.587685</td>\n",
              "      <td>12.223202</td>\n",
              "      <td>50.842533</td>\n",
              "      <td>...</td>\n",
              "      <td>212.265274</td>\n",
              "      <td>205.409531</td>\n",
              "      <td>52.875637</td>\n",
              "      <td>5.83</td>\n",
              "      <td>162.738815</td>\n",
              "      <td>42.535130</td>\n",
              "      <td>54.352787</td>\n",
              "      <td>43.124111</td>\n",
              "      <td>102.988831</td>\n",
              "      <td>119.674240</td>\n",
              "    </tr>\n",
              "    <tr>\n",
              "      <th>2</th>\n",
              "      <td>2018-03-01</td>\n",
              "      <td>10.05</td>\n",
              "      <td>56.235203</td>\n",
              "      <td>25.398247</td>\n",
              "      <td>183.539993</td>\n",
              "      <td>9.667352</td>\n",
              "      <td>27.377983</td>\n",
              "      <td>60.756409</td>\n",
              "      <td>11.449066</td>\n",
              "      <td>51.999256</td>\n",
              "      <td>...</td>\n",
              "      <td>200.852341</td>\n",
              "      <td>192.592194</td>\n",
              "      <td>50.741047</td>\n",
              "      <td>6.96</td>\n",
              "      <td>155.848129</td>\n",
              "      <td>40.229286</td>\n",
              "      <td>54.898434</td>\n",
              "      <td>43.142376</td>\n",
              "      <td>98.057846</td>\n",
              "      <td>116.645149</td>\n",
              "    </tr>\n",
              "    <tr>\n",
              "      <th>3</th>\n",
              "      <td>2018-04-01</td>\n",
              "      <td>10.88</td>\n",
              "      <td>67.682632</td>\n",
              "      <td>25.379751</td>\n",
              "      <td>178.539993</td>\n",
              "      <td>9.806952</td>\n",
              "      <td>27.416567</td>\n",
              "      <td>58.421768</td>\n",
              "      <td>14.404930</td>\n",
              "      <td>49.542076</td>\n",
              "      <td>...</td>\n",
              "      <td>222.610748</td>\n",
              "      <td>170.544785</td>\n",
              "      <td>41.922886</td>\n",
              "      <td>7.93</td>\n",
              "      <td>156.890533</td>\n",
              "      <td>39.625057</td>\n",
              "      <td>60.538544</td>\n",
              "      <td>42.859261</td>\n",
              "      <td>96.996758</td>\n",
              "      <td>123.724594</td>\n",
              "    </tr>\n",
              "    <tr>\n",
              "      <th>4</th>\n",
              "      <td>2018-05-01</td>\n",
              "      <td>13.73</td>\n",
              "      <td>73.762344</td>\n",
              "      <td>25.130117</td>\n",
              "      <td>198.009995</td>\n",
              "      <td>10.212634</td>\n",
              "      <td>26.610199</td>\n",
              "      <td>57.699131</td>\n",
              "      <td>12.217362</td>\n",
              "      <td>51.278229</td>\n",
              "      <td>...</td>\n",
              "      <td>227.422699</td>\n",
              "      <td>173.036407</td>\n",
              "      <td>42.518581</td>\n",
              "      <td>6.71</td>\n",
              "      <td>165.790802</td>\n",
              "      <td>44.806568</td>\n",
              "      <td>62.351170</td>\n",
              "      <td>42.649212</td>\n",
              "      <td>95.902344</td>\n",
              "      <td>127.469086</td>\n",
              "    </tr>\n",
              "  </tbody>\n",
              "</table>\n",
              "<p>5 rows × 26 columns</p>\n",
              "</div>\n",
              "      <button class=\"colab-df-convert\" onclick=\"convertToInteractive('df-4155f058-b7f4-4de0-bd8d-6ff2b950ec5e')\"\n",
              "              title=\"Convert this dataframe to an interactive table.\"\n",
              "              style=\"display:none;\">\n",
              "        \n",
              "  <svg xmlns=\"http://www.w3.org/2000/svg\" height=\"24px\"viewBox=\"0 0 24 24\"\n",
              "       width=\"24px\">\n",
              "    <path d=\"M0 0h24v24H0V0z\" fill=\"none\"/>\n",
              "    <path d=\"M18.56 5.44l.94 2.06.94-2.06 2.06-.94-2.06-.94-.94-2.06-.94 2.06-2.06.94zm-11 1L8.5 8.5l.94-2.06 2.06-.94-2.06-.94L8.5 2.5l-.94 2.06-2.06.94zm10 10l.94 2.06.94-2.06 2.06-.94-2.06-.94-.94-2.06-.94 2.06-2.06.94z\"/><path d=\"M17.41 7.96l-1.37-1.37c-.4-.4-.92-.59-1.43-.59-.52 0-1.04.2-1.43.59L10.3 9.45l-7.72 7.72c-.78.78-.78 2.05 0 2.83L4 21.41c.39.39.9.59 1.41.59.51 0 1.02-.2 1.41-.59l7.78-7.78 2.81-2.81c.8-.78.8-2.07 0-2.86zM5.41 20L4 18.59l7.72-7.72 1.47 1.35L5.41 20z\"/>\n",
              "  </svg>\n",
              "      </button>\n",
              "      \n",
              "  <style>\n",
              "    .colab-df-container {\n",
              "      display:flex;\n",
              "      flex-wrap:wrap;\n",
              "      gap: 12px;\n",
              "    }\n",
              "\n",
              "    .colab-df-convert {\n",
              "      background-color: #E8F0FE;\n",
              "      border: none;\n",
              "      border-radius: 50%;\n",
              "      cursor: pointer;\n",
              "      display: none;\n",
              "      fill: #1967D2;\n",
              "      height: 32px;\n",
              "      padding: 0 0 0 0;\n",
              "      width: 32px;\n",
              "    }\n",
              "\n",
              "    .colab-df-convert:hover {\n",
              "      background-color: #E2EBFA;\n",
              "      box-shadow: 0px 1px 2px rgba(60, 64, 67, 0.3), 0px 1px 3px 1px rgba(60, 64, 67, 0.15);\n",
              "      fill: #174EA6;\n",
              "    }\n",
              "\n",
              "    [theme=dark] .colab-df-convert {\n",
              "      background-color: #3B4455;\n",
              "      fill: #D2E3FC;\n",
              "    }\n",
              "\n",
              "    [theme=dark] .colab-df-convert:hover {\n",
              "      background-color: #434B5C;\n",
              "      box-shadow: 0px 1px 3px 1px rgba(0, 0, 0, 0.15);\n",
              "      filter: drop-shadow(0px 1px 2px rgba(0, 0, 0, 0.3));\n",
              "      fill: #FFFFFF;\n",
              "    }\n",
              "  </style>\n",
              "\n",
              "      <script>\n",
              "        const buttonEl =\n",
              "          document.querySelector('#df-4155f058-b7f4-4de0-bd8d-6ff2b950ec5e button.colab-df-convert');\n",
              "        buttonEl.style.display =\n",
              "          google.colab.kernel.accessAllowed ? 'block' : 'none';\n",
              "\n",
              "        async function convertToInteractive(key) {\n",
              "          const element = document.querySelector('#df-4155f058-b7f4-4de0-bd8d-6ff2b950ec5e');\n",
              "          const dataTable =\n",
              "            await google.colab.kernel.invokeFunction('convertToInteractive',\n",
              "                                                     [key], {});\n",
              "          if (!dataTable) return;\n",
              "\n",
              "          const docLinkHtml = 'Like what you see? Visit the ' +\n",
              "            '<a target=\"_blank\" href=https://colab.research.google.com/notebooks/data_table.ipynb>data table notebook</a>'\n",
              "            + ' to learn more about interactive tables.';\n",
              "          element.innerHTML = '';\n",
              "          dataTable['output_type'] = 'display_data';\n",
              "          await google.colab.output.renderOutput(dataTable, element);\n",
              "          const docLink = document.createElement('div');\n",
              "          docLink.innerHTML = docLinkHtml;\n",
              "          element.appendChild(docLink);\n",
              "        }\n",
              "      </script>\n",
              "    </div>\n",
              "  </div>\n",
              "  "
            ]
          },
          "metadata": {},
          "execution_count": 3
        }
      ],
      "source": [
        "df1.head()"
      ]
    },
    {
      "cell_type": "code",
      "execution_count": null,
      "id": "f2ff77dc",
      "metadata": {
        "colab": {
          "base_uri": "https://localhost:8080/",
          "height": 264
        },
        "id": "f2ff77dc",
        "outputId": "69d62e9f-5aed-4520-a67c-d360cde9ecff"
      },
      "outputs": [
        {
          "output_type": "execute_result",
          "data": {
            "text/plain": [
              "        AMD       OXY       XLF      BABA         F       BAC       CCL  \\\n",
              "0 -0.118632 -0.124983 -0.029253 -0.088844 -0.021902  0.003125 -0.065633   \n",
              "1 -0.170107 -0.009756 -0.045030 -0.013968  0.044298 -0.065732 -0.013497   \n",
              "2  0.082587  0.203563 -0.000728 -0.027242  0.014440  0.001409 -0.038426   \n",
              "3  0.261949  0.089827 -0.009836  0.109051  0.041367 -0.029412 -0.012369   \n",
              "4  0.091770 -0.006176 -0.021707 -0.063027 -0.041558 -0.025304 -0.072632   \n",
              "5  0.222815  0.011998  0.055701  0.009163 -0.093044  0.095424  0.033677   \n",
              "\n",
              "        AMC       DAL        FB  ...       UNH       MMM       AAL      MULN  \\\n",
              "0  0.171875 -0.050555 -0.045856  ... -0.044852 -0.059840 -0.001289 -0.203552   \n",
              "1 -0.063333  0.022751 -0.103914  ... -0.053767 -0.062399 -0.040370  0.193825   \n",
              "2  0.258175 -0.047254  0.076413  ...  0.108330 -0.114477 -0.173788  0.139368   \n",
              "3 -0.151862  0.035044  0.115000  ...  0.021616  0.014610  0.014209 -0.153846   \n",
              "4  0.074324 -0.077993  0.013244  ...  0.015858  0.004236 -0.126119  0.095380   \n",
              "5  0.039346  0.098506 -0.111877  ...  0.035770  0.079300  0.041623 -0.027211   \n",
              "\n",
              "        QQQ      AAPL       XLE       FXI       JPM         V  \n",
              "0 -0.012928  0.063848 -0.108350 -0.103474  0.003732 -0.010384  \n",
              "1 -0.042342 -0.054210  0.010039  0.000424 -0.047879 -0.025311  \n",
              "2  0.006689 -0.015020  0.102737 -0.006562 -0.010821  0.060692  \n",
              "3  0.056729  0.130763  0.029942 -0.004901 -0.011283  0.030265  \n",
              "4  0.009290 -0.005599 -0.001052 -0.079871 -0.026259  0.014863  \n",
              "5  0.030164  0.027983  0.022398  0.028582  0.103167  0.032390  \n",
              "\n",
              "[6 rows x 25 columns]"
            ],
            "text/html": [
              "\n",
              "  <div id=\"df-b32d8b1c-57bc-4293-93f0-38fa80af2f7a\">\n",
              "    <div class=\"colab-df-container\">\n",
              "      <div>\n",
              "<style scoped>\n",
              "    .dataframe tbody tr th:only-of-type {\n",
              "        vertical-align: middle;\n",
              "    }\n",
              "\n",
              "    .dataframe tbody tr th {\n",
              "        vertical-align: top;\n",
              "    }\n",
              "\n",
              "    .dataframe thead th {\n",
              "        text-align: right;\n",
              "    }\n",
              "</style>\n",
              "<table border=\"1\" class=\"dataframe\">\n",
              "  <thead>\n",
              "    <tr style=\"text-align: right;\">\n",
              "      <th></th>\n",
              "      <th>AMD</th>\n",
              "      <th>OXY</th>\n",
              "      <th>XLF</th>\n",
              "      <th>BABA</th>\n",
              "      <th>F</th>\n",
              "      <th>BAC</th>\n",
              "      <th>CCL</th>\n",
              "      <th>AMC</th>\n",
              "      <th>DAL</th>\n",
              "      <th>FB</th>\n",
              "      <th>...</th>\n",
              "      <th>UNH</th>\n",
              "      <th>MMM</th>\n",
              "      <th>AAL</th>\n",
              "      <th>MULN</th>\n",
              "      <th>QQQ</th>\n",
              "      <th>AAPL</th>\n",
              "      <th>XLE</th>\n",
              "      <th>FXI</th>\n",
              "      <th>JPM</th>\n",
              "      <th>V</th>\n",
              "    </tr>\n",
              "  </thead>\n",
              "  <tbody>\n",
              "    <tr>\n",
              "      <th>0</th>\n",
              "      <td>-0.118632</td>\n",
              "      <td>-0.124983</td>\n",
              "      <td>-0.029253</td>\n",
              "      <td>-0.088844</td>\n",
              "      <td>-0.021902</td>\n",
              "      <td>0.003125</td>\n",
              "      <td>-0.065633</td>\n",
              "      <td>0.171875</td>\n",
              "      <td>-0.050555</td>\n",
              "      <td>-0.045856</td>\n",
              "      <td>...</td>\n",
              "      <td>-0.044852</td>\n",
              "      <td>-0.059840</td>\n",
              "      <td>-0.001289</td>\n",
              "      <td>-0.203552</td>\n",
              "      <td>-0.012928</td>\n",
              "      <td>0.063848</td>\n",
              "      <td>-0.108350</td>\n",
              "      <td>-0.103474</td>\n",
              "      <td>0.003732</td>\n",
              "      <td>-0.010384</td>\n",
              "    </tr>\n",
              "    <tr>\n",
              "      <th>1</th>\n",
              "      <td>-0.170107</td>\n",
              "      <td>-0.009756</td>\n",
              "      <td>-0.045030</td>\n",
              "      <td>-0.013968</td>\n",
              "      <td>0.044298</td>\n",
              "      <td>-0.065732</td>\n",
              "      <td>-0.013497</td>\n",
              "      <td>-0.063333</td>\n",
              "      <td>0.022751</td>\n",
              "      <td>-0.103914</td>\n",
              "      <td>...</td>\n",
              "      <td>-0.053767</td>\n",
              "      <td>-0.062399</td>\n",
              "      <td>-0.040370</td>\n",
              "      <td>0.193825</td>\n",
              "      <td>-0.042342</td>\n",
              "      <td>-0.054210</td>\n",
              "      <td>0.010039</td>\n",
              "      <td>0.000424</td>\n",
              "      <td>-0.047879</td>\n",
              "      <td>-0.025311</td>\n",
              "    </tr>\n",
              "    <tr>\n",
              "      <th>2</th>\n",
              "      <td>0.082587</td>\n",
              "      <td>0.203563</td>\n",
              "      <td>-0.000728</td>\n",
              "      <td>-0.027242</td>\n",
              "      <td>0.014440</td>\n",
              "      <td>0.001409</td>\n",
              "      <td>-0.038426</td>\n",
              "      <td>0.258175</td>\n",
              "      <td>-0.047254</td>\n",
              "      <td>0.076413</td>\n",
              "      <td>...</td>\n",
              "      <td>0.108330</td>\n",
              "      <td>-0.114477</td>\n",
              "      <td>-0.173788</td>\n",
              "      <td>0.139368</td>\n",
              "      <td>0.006689</td>\n",
              "      <td>-0.015020</td>\n",
              "      <td>0.102737</td>\n",
              "      <td>-0.006562</td>\n",
              "      <td>-0.010821</td>\n",
              "      <td>0.060692</td>\n",
              "    </tr>\n",
              "    <tr>\n",
              "      <th>3</th>\n",
              "      <td>0.261949</td>\n",
              "      <td>0.089827</td>\n",
              "      <td>-0.009836</td>\n",
              "      <td>0.109051</td>\n",
              "      <td>0.041367</td>\n",
              "      <td>-0.029412</td>\n",
              "      <td>-0.012369</td>\n",
              "      <td>-0.151862</td>\n",
              "      <td>0.035044</td>\n",
              "      <td>0.115000</td>\n",
              "      <td>...</td>\n",
              "      <td>0.021616</td>\n",
              "      <td>0.014610</td>\n",
              "      <td>0.014209</td>\n",
              "      <td>-0.153846</td>\n",
              "      <td>0.056729</td>\n",
              "      <td>0.130763</td>\n",
              "      <td>0.029942</td>\n",
              "      <td>-0.004901</td>\n",
              "      <td>-0.011283</td>\n",
              "      <td>0.030265</td>\n",
              "    </tr>\n",
              "    <tr>\n",
              "      <th>4</th>\n",
              "      <td>0.091770</td>\n",
              "      <td>-0.006176</td>\n",
              "      <td>-0.021707</td>\n",
              "      <td>-0.063027</td>\n",
              "      <td>-0.041558</td>\n",
              "      <td>-0.025304</td>\n",
              "      <td>-0.072632</td>\n",
              "      <td>0.074324</td>\n",
              "      <td>-0.077993</td>\n",
              "      <td>0.013244</td>\n",
              "      <td>...</td>\n",
              "      <td>0.015858</td>\n",
              "      <td>0.004236</td>\n",
              "      <td>-0.126119</td>\n",
              "      <td>0.095380</td>\n",
              "      <td>0.009290</td>\n",
              "      <td>-0.005599</td>\n",
              "      <td>-0.001052</td>\n",
              "      <td>-0.079871</td>\n",
              "      <td>-0.026259</td>\n",
              "      <td>0.014863</td>\n",
              "    </tr>\n",
              "    <tr>\n",
              "      <th>5</th>\n",
              "      <td>0.222815</td>\n",
              "      <td>0.011998</td>\n",
              "      <td>0.055701</td>\n",
              "      <td>0.009163</td>\n",
              "      <td>-0.093044</td>\n",
              "      <td>0.095424</td>\n",
              "      <td>0.033677</td>\n",
              "      <td>0.039346</td>\n",
              "      <td>0.098506</td>\n",
              "      <td>-0.111877</td>\n",
              "      <td>...</td>\n",
              "      <td>0.035770</td>\n",
              "      <td>0.079300</td>\n",
              "      <td>0.041623</td>\n",
              "      <td>-0.027211</td>\n",
              "      <td>0.030164</td>\n",
              "      <td>0.027983</td>\n",
              "      <td>0.022398</td>\n",
              "      <td>0.028582</td>\n",
              "      <td>0.103167</td>\n",
              "      <td>0.032390</td>\n",
              "    </tr>\n",
              "  </tbody>\n",
              "</table>\n",
              "<p>6 rows × 25 columns</p>\n",
              "</div>\n",
              "      <button class=\"colab-df-convert\" onclick=\"convertToInteractive('df-b32d8b1c-57bc-4293-93f0-38fa80af2f7a')\"\n",
              "              title=\"Convert this dataframe to an interactive table.\"\n",
              "              style=\"display:none;\">\n",
              "        \n",
              "  <svg xmlns=\"http://www.w3.org/2000/svg\" height=\"24px\"viewBox=\"0 0 24 24\"\n",
              "       width=\"24px\">\n",
              "    <path d=\"M0 0h24v24H0V0z\" fill=\"none\"/>\n",
              "    <path d=\"M18.56 5.44l.94 2.06.94-2.06 2.06-.94-2.06-.94-.94-2.06-.94 2.06-2.06.94zm-11 1L8.5 8.5l.94-2.06 2.06-.94-2.06-.94L8.5 2.5l-.94 2.06-2.06.94zm10 10l.94 2.06.94-2.06 2.06-.94-2.06-.94-.94-2.06-.94 2.06-2.06.94z\"/><path d=\"M17.41 7.96l-1.37-1.37c-.4-.4-.92-.59-1.43-.59-.52 0-1.04.2-1.43.59L10.3 9.45l-7.72 7.72c-.78.78-.78 2.05 0 2.83L4 21.41c.39.39.9.59 1.41.59.51 0 1.02-.2 1.41-.59l7.78-7.78 2.81-2.81c.8-.78.8-2.07 0-2.86zM5.41 20L4 18.59l7.72-7.72 1.47 1.35L5.41 20z\"/>\n",
              "  </svg>\n",
              "      </button>\n",
              "      \n",
              "  <style>\n",
              "    .colab-df-container {\n",
              "      display:flex;\n",
              "      flex-wrap:wrap;\n",
              "      gap: 12px;\n",
              "    }\n",
              "\n",
              "    .colab-df-convert {\n",
              "      background-color: #E8F0FE;\n",
              "      border: none;\n",
              "      border-radius: 50%;\n",
              "      cursor: pointer;\n",
              "      display: none;\n",
              "      fill: #1967D2;\n",
              "      height: 32px;\n",
              "      padding: 0 0 0 0;\n",
              "      width: 32px;\n",
              "    }\n",
              "\n",
              "    .colab-df-convert:hover {\n",
              "      background-color: #E2EBFA;\n",
              "      box-shadow: 0px 1px 2px rgba(60, 64, 67, 0.3), 0px 1px 3px 1px rgba(60, 64, 67, 0.15);\n",
              "      fill: #174EA6;\n",
              "    }\n",
              "\n",
              "    [theme=dark] .colab-df-convert {\n",
              "      background-color: #3B4455;\n",
              "      fill: #D2E3FC;\n",
              "    }\n",
              "\n",
              "    [theme=dark] .colab-df-convert:hover {\n",
              "      background-color: #434B5C;\n",
              "      box-shadow: 0px 1px 3px 1px rgba(0, 0, 0, 0.15);\n",
              "      filter: drop-shadow(0px 1px 2px rgba(0, 0, 0, 0.3));\n",
              "      fill: #FFFFFF;\n",
              "    }\n",
              "  </style>\n",
              "\n",
              "      <script>\n",
              "        const buttonEl =\n",
              "          document.querySelector('#df-b32d8b1c-57bc-4293-93f0-38fa80af2f7a button.colab-df-convert');\n",
              "        buttonEl.style.display =\n",
              "          google.colab.kernel.accessAllowed ? 'block' : 'none';\n",
              "\n",
              "        async function convertToInteractive(key) {\n",
              "          const element = document.querySelector('#df-b32d8b1c-57bc-4293-93f0-38fa80af2f7a');\n",
              "          const dataTable =\n",
              "            await google.colab.kernel.invokeFunction('convertToInteractive',\n",
              "                                                     [key], {});\n",
              "          if (!dataTable) return;\n",
              "\n",
              "          const docLinkHtml = 'Like what you see? Visit the ' +\n",
              "            '<a target=\"_blank\" href=https://colab.research.google.com/notebooks/data_table.ipynb>data table notebook</a>'\n",
              "            + ' to learn more about interactive tables.';\n",
              "          element.innerHTML = '';\n",
              "          dataTable['output_type'] = 'display_data';\n",
              "          await google.colab.output.renderOutput(dataTable, element);\n",
              "          const docLink = document.createElement('div');\n",
              "          docLink.innerHTML = docLinkHtml;\n",
              "          element.appendChild(docLink);\n",
              "        }\n",
              "      </script>\n",
              "    </div>\n",
              "  </div>\n",
              "  "
            ]
          },
          "metadata": {},
          "execution_count": 4
        }
      ],
      "source": [
        "ret.head(6)"
      ]
    },
    {
      "cell_type": "code",
      "execution_count": null,
      "id": "5c151d2d",
      "metadata": {
        "id": "5c151d2d",
        "colab": {
          "base_uri": "https://localhost:8080/"
        },
        "outputId": "009f473c-2ed1-42af-d49b-20b4d5014f1d"
      },
      "outputs": [
        {
          "output_type": "stream",
          "name": "stdout",
          "text": [
            "25\n"
          ]
        }
      ],
      "source": [
        "# Compute the covariance matrix of the percent change of prices\n",
        "Q = ret.cov().to_numpy()\n",
        "\n",
        "# Compute the mean for each column \n",
        "mu = np.array(np.mean(ret, axis = 0))\n",
        "\n",
        "# Store number of features（# of columns)\n",
        "n = ret.shape[1] \n",
        "print(n)"
      ]
    },
    {
      "cell_type": "markdown",
      "id": "86acb730",
      "metadata": {
        "id": "86acb730"
      },
      "source": [
        "Solve for the minimum variance portfolio"
      ]
    },
    {
      "cell_type": "code",
      "execution_count": null,
      "id": "a84ae3a5",
      "metadata": {
        "colab": {
          "base_uri": "https://localhost:8080/"
        },
        "id": "a84ae3a5",
        "outputId": "8ef422da-c26d-4364-e424-3ea707abfbb2"
      },
      "outputs": [
        {
          "output_type": "execute_result",
          "data": {
            "text/plain": [
              "0.0009278939303461065"
            ]
          },
          "metadata": {},
          "execution_count": 6
        }
      ],
      "source": [
        "# Create optimization variable w1, 25 total variables \n",
        "w1 = cp.Variable(n)\n",
        "\n",
        "# Form the problem , minimize\n",
        "constraints1 = [sum(w1) == 1 , w1 >= 0]\n",
        "prob1 = cp.Problem(cp.Minimize(cp.quad_form(w1, Q)) , [sum(w1) == 1 , w1 >= 0])\n",
        "\n",
        "#Solve Problem\n",
        "prob1.solve(verbose=False)"
      ]
    },
    {
      "cell_type": "code",
      "execution_count": null,
      "id": "3fb67fe1",
      "metadata": {
        "colab": {
          "base_uri": "https://localhost:8080/"
        },
        "id": "3fb67fe1",
        "outputId": "dcf9c438-659e-4640-ab93-734c766eebff"
      },
      "outputs": [
        {
          "output_type": "execute_result",
          "data": {
            "text/plain": [
              "array([ 2.34711076e-19,  5.74341943e-20,  8.04974643e-21,  8.47497298e-20,\n",
              "        1.98801020e-20,  1.09424374e-20,  2.73065413e-20,  2.72299411e-19,\n",
              "        5.54485957e-02,  1.08374508e-19,  8.96592846e-20,  6.59194971e-01,\n",
              "       -6.72526425e-20,  2.57096580e-20,  1.76013193e-03,  8.87191244e-02,\n",
              "        5.48842212e-02, -5.82451239e-20, -4.53773627e-19,  3.42087380e-20,\n",
              "       -3.00374544e-20,  8.76648789e-20,  9.01180838e-02, -1.21197912e-21,\n",
              "        4.98748717e-02])"
            ]
          },
          "metadata": {},
          "execution_count": 7
        }
      ],
      "source": [
        "# matrix of allocations which offers the minimum variance \n",
        "w_minVar = w1.value \n",
        "w_minVar"
      ]
    },
    {
      "cell_type": "code",
      "execution_count": null,
      "id": "4b75ee7e",
      "metadata": {
        "colab": {
          "base_uri": "https://localhost:8080/"
        },
        "id": "4b75ee7e",
        "outputId": "527992b1-da4e-4dbe-e023-f8038b6d3040"
      },
      "outputs": [
        {
          "output_type": "stream",
          "name": "stdout",
          "text": [
            "return for Minimum Variance porfolio: 0.008653285914910979\n",
            "variance for Minimum Variance porfolio: 0.0009278939303461066\n"
          ]
        }
      ],
      "source": [
        "#Compute the variance of the portfolio\n",
        "var_minVar = np.dot(w_minVar, np.dot(Q, w_minVar)) #variance\n",
        "\n",
        "#Compute the return of the portfolio\n",
        "ret_minVar = np.dot(mu, w_minVar) #expected return\n",
        "\n",
        "print(\"return for Minimum Variance porfolio: \" + str(ret_minVar))\n",
        "print(\"variance for Minimum Variance porfolio: \" + str(var_minVar))"
      ]
    },
    {
      "cell_type": "markdown",
      "id": "b4af7947",
      "metadata": {
        "id": "b4af7947"
      },
      "source": [
        "Solve for the maximum return portfolio"
      ]
    },
    {
      "cell_type": "code",
      "execution_count": null,
      "id": "fda48bdd",
      "metadata": {
        "colab": {
          "base_uri": "https://localhost:8080/"
        },
        "id": "fda48bdd",
        "outputId": "ff827e5e-4431-4d21-9f46-6d7a8ebc49dd"
      },
      "outputs": [
        {
          "output_type": "execute_result",
          "data": {
            "text/plain": [
              "0.1021163469313111"
            ]
          },
          "metadata": {},
          "execution_count": 9
        }
      ],
      "source": [
        "# Create optimization variable w2, 25 total variables \n",
        "w2 = cp.Variable(n)\n",
        "\n",
        "constraints2 = [sum(w2) == 1, w2 >= 0]\n",
        "prob2 = cp.Problem(cp.Maximize(mu.T@w2), constraints2)\n",
        "                   \n",
        "# Solve the problem \n",
        "prob2.solve(verbose=False)"
      ]
    },
    {
      "cell_type": "code",
      "execution_count": null,
      "id": "7612ff52",
      "metadata": {
        "colab": {
          "base_uri": "https://localhost:8080/"
        },
        "id": "7612ff52",
        "outputId": "c6faa058-793c-45d4-b814-d8b8b1494481"
      },
      "outputs": [
        {
          "output_type": "execute_result",
          "data": {
            "text/plain": [
              "array([4.00446549e-11, 2.33109317e-11, 2.11897368e-11, 2.02514107e-11,\n",
              "       2.13526338e-11, 2.10766681e-11, 2.36702200e-11, 2.30281295e-11,\n",
              "       2.20156300e-11, 1.84127151e-11, 1.42266925e-11, 1.97676588e-11,\n",
              "       1.08469522e-09, 1.88147929e-11, 2.37055006e-11, 1.85314364e-11,\n",
              "       2.26815434e-11, 2.41212013e-11, 9.99999998e-01, 1.68558540e-11,\n",
              "       8.78989931e-12, 2.30303345e-11, 2.19747289e-11, 2.02437383e-11,\n",
              "       1.72961027e-11])"
            ]
          },
          "metadata": {},
          "execution_count": 10
        }
      ],
      "source": [
        "# matrix of allocations which offers the optimized portfolio\n",
        "w_maxRet = w2.value #solution value: maximum expected return\n",
        "w_maxRet"
      ]
    },
    {
      "cell_type": "code",
      "execution_count": null,
      "id": "214b1476",
      "metadata": {
        "colab": {
          "base_uri": "https://localhost:8080/"
        },
        "id": "214b1476",
        "outputId": "f540d444-4477-441a-9c7e-48895c5cbaf0"
      },
      "outputs": [
        {
          "output_type": "stream",
          "name": "stdout",
          "text": [
            "return for Max Return porfolio: 0.3397485196506799\n",
            "variance for Max Return porfolio: 0.10211634693131112\n"
          ]
        }
      ],
      "source": [
        "#Compute the variance of the portfolio\n",
        "var_maxRet = np.dot(w_maxRet, np.dot(Q, w_maxRet)) #variance\n",
        "\n",
        "#Compute the return of the portfolio\n",
        "ret_maxRet = np.dot(mu, w_maxRet) #expected return\n",
        "\n",
        "print(\"return for Max Return porfolio: \" + str(var_maxRet))\n",
        "print(\"variance for Max Return porfolio: \" + str(ret_maxRet))"
      ]
    },
    {
      "cell_type": "markdown",
      "id": "a71f7185",
      "metadata": {
        "id": "a71f7185"
      },
      "source": [
        "## Compute classical Markowitz efficent frontier"
      ]
    },
    {
      "cell_type": "code",
      "execution_count": null,
      "id": "62f4d822",
      "metadata": {
        "colab": {
          "base_uri": "https://localhost:8080/"
        },
        "id": "62f4d822",
        "outputId": "01d8cf7e-5a92-48f6-a493-9fa2b081b6e9"
      },
      "outputs": [
        {
          "output_type": "execute_result",
          "data": {
            "text/plain": [
              "array([0.00865329, 0.0105607 , 0.0124681 , 0.01437551, 0.01628292,\n",
              "       0.01819033, 0.02009774, 0.02200515, 0.02391256, 0.02581997,\n",
              "       0.02772738, 0.02963479, 0.0315422 , 0.03344961, 0.03535702,\n",
              "       0.03726443, 0.03917184, 0.04107925, 0.04298666, 0.04489406,\n",
              "       0.04680147, 0.04870888, 0.05061629, 0.0525237 , 0.05443111,\n",
              "       0.05633852, 0.05824593, 0.06015334, 0.06206075, 0.06396816,\n",
              "       0.06587557, 0.06778298, 0.06969039, 0.0715978 , 0.07350521,\n",
              "       0.07541262, 0.07732002, 0.07922743, 0.08113484, 0.08304225,\n",
              "       0.08494966, 0.08685707, 0.08876448, 0.09067189, 0.0925793 ,\n",
              "       0.09448671, 0.09639412, 0.09830153, 0.10020894, 0.10211635])"
            ]
          },
          "metadata": {},
          "execution_count": 12
        }
      ],
      "source": [
        "#Create tareget ranges for portfolio returns\n",
        "targetLen = 50\n",
        "target_Return = np.linspace(ret_minVar,ret_maxRet,targetLen)\n",
        "target_Return"
      ]
    },
    {
      "cell_type": "code",
      "execution_count": null,
      "id": "74863249",
      "metadata": {
        "id": "74863249"
      },
      "outputs": [],
      "source": [
        "# Define optimization problem and compute one portfolio on efficient frontier\n",
        "w = cp.Variable(n)\n",
        "eps = cp.Parameter()\n",
        "\n",
        "constraints3 = [mu.T@w >= eps, sum(w) == 1, w >= 0]\n",
        "prob3 = cp.Problem(cp.Minimize(cp.quad_form(w, Q)), constraints3)"
      ]
    },
    {
      "cell_type": "code",
      "execution_count": null,
      "id": "96b5b47d",
      "metadata": {
        "id": "96b5b47d"
      },
      "outputs": [],
      "source": [
        "# Compute classical efficient frontier\n",
        "w_front_clas = []\n",
        "var_front_clas = []\n",
        "ret_front_clas = []\n",
        "for epsilon in target_Return:\n",
        "    eps.value = epsilon\n",
        "    prob3.solve()\n",
        "    w_front_clas.append(w.value)\n",
        "    var_front_clas.append(np.dot(w.value, np.dot(Q, w.value)))\n",
        "    ret_front_clas.append(np.dot(mu, w.value))"
      ]
    },
    {
      "cell_type": "code",
      "execution_count": null,
      "id": "a07384f1",
      "metadata": {
        "scrolled": true,
        "colab": {
          "base_uri": "https://localhost:8080/"
        },
        "id": "a07384f1",
        "outputId": "5bcdf530-db9e-4599-b2b7-738ab605d522"
      },
      "outputs": [
        {
          "output_type": "execute_result",
          "data": {
            "text/plain": [
              "50"
            ]
          },
          "metadata": {},
          "execution_count": 15
        }
      ],
      "source": [
        "len(var_front_clas)"
      ]
    },
    {
      "cell_type": "markdown",
      "id": "5cf0a8b5",
      "metadata": {
        "id": "5cf0a8b5"
      },
      "source": [
        "# Compute the resampled efficient frontier"
      ]
    },
    {
      "cell_type": "code",
      "source": [
        "x_resample = np.random.multivariate_normal(mu, Q, 36)\n",
        "mu_resample = np.array(np.mean(x_resample, axis = 0))\n",
        "mu_resample"
      ],
      "metadata": {
        "colab": {
          "base_uri": "https://localhost:8080/"
        },
        "id": "dFvzJ8_RcrKA",
        "outputId": "1ecaf4d1-4701-4689-d7c0-5d0928506794"
      },
      "id": "dFvzJ8_RcrKA",
      "execution_count": null,
      "outputs": [
        {
          "output_type": "execute_result",
          "data": {
            "text/plain": [
              "array([ 0.09906692,  0.01878305,  0.0099055 ,  0.01887402,  0.00915425,\n",
              "        0.01365211,  0.0032478 ,  0.07200775,  0.02001697,  0.02322111,\n",
              "        0.04336486,  0.01429292,  0.09433791,  0.00855284, -0.03174073,\n",
              "        0.02087502, -0.00117878, -0.01067452,  0.16636933,  0.02915831,\n",
              "        0.05736959,  0.00158439,  0.01601157,  0.01425249,  0.02412148])"
            ]
          },
          "metadata": {},
          "execution_count": 16
        }
      ]
    },
    {
      "cell_type": "code",
      "execution_count": null,
      "id": "81793370",
      "metadata": {
        "id": "81793370"
      },
      "outputs": [],
      "source": [
        "sample_size = ret.shape[0] \n",
        "repetition = 100\n",
        "\n",
        "#set variables for storing resuts\n",
        "weight_resample_all = []\n",
        "var_resample_all = []\n",
        "ret_resample_all = []\n",
        "mu_resample_100 = []\n",
        "Q_resample_100 = []\n",
        "var_minVar_100 = []\n",
        "ret_minVar_100 = []\n",
        "var_maxRet_100 = []\n",
        "ret_maxRet_100 = []\n",
        "\n",
        "#Use a random seed so that results will be consistent \n",
        "np.random.seed(15)\n",
        "\n",
        "#Resample by taking n (sample size) draws from the original input\n",
        "weight_resample_all = []\n",
        "for i in range(repetition):\n",
        "    \n",
        "    \n",
        "    #resample by drawing from the multivariate normal distribution with mu and Q\n",
        "    x_resample = np.random.multivariate_normal(mu, Q, 36)\n",
        "    \n",
        "    #Calculate the new mean vector (mu_resample) and new variance-covariance matrix (Q _resample) \n",
        "    #resampled mu and Q\n",
        "    mu_resample = np.array(np.mean(x_resample, axis = 0))\n",
        "    mu_resample_100.append(mu_resample)\n",
        "    x_resample_df = pd.DataFrame(x_resample)\n",
        "    Q_resample = x_resample_df.cov().to_numpy()\n",
        "    Q_resample_100.append(Q_resample)\n",
        "    \n",
        "    #Compute minimum variance\n",
        "    w_resam_1 = cp.Variable(n)\n",
        "    # Form the problem , minimize\n",
        "    constraints4 = [sum(w_resam_1) == 1 , w_resam_1 >= 0]\n",
        "    prob4 = cp.Problem(cp.Minimize(cp.quad_form(w_resam_1, Q_resample)), constraints4)\n",
        "    #Solve Problem\n",
        "    prob4.solve(verbose=False)\n",
        "\n",
        "    w_minVar = w_resam_1.value #solution value: minimum variance\n",
        "    var_minVar = np.dot(w_minVar, np.dot(Q_resample, w_minVar)) #variance\n",
        "    ret_minVar = np.dot(mu_resample, w_minVar) #expected return\n",
        "    var_minVar_100.append(var_minVar)\n",
        "    ret_minVar_100.append(ret_minVar)\n",
        "\n",
        "    #compute maximum expected return\n",
        "    w_resam_2 = cp.Variable(n)\n",
        "    constraints5 = [sum(w_resam_2) == 1, w_resam_2 >= 0]\n",
        "    prob5 = cp.Problem(cp.Maximize(mu_resample.T@w_resam_2), constraints5)\n",
        "\n",
        "    # Solve the problem \n",
        "    prob5.solve(verbose=False)\n",
        "\n",
        "    w_maxRet = w_resam_2.value #solution value: maximum expected return\n",
        "    var_maxRet = np.dot(w_maxRet, np.dot(Q_resample, w_maxRet)) #variance\n",
        "    ret_maxRet = np.dot(mu_resample, w_maxRet) #expected return\n",
        "    var_maxRet_100.append(var_maxRet)\n",
        "    ret_maxRet_100.append(ret_maxRet)\n",
        "\n",
        "    #target return\n",
        "    targetRet = np.linspace(ret_minVar,ret_maxRet,50)\n",
        "    \n",
        "    # Define optimization problem and compute one portfolio on efficient frontier\n",
        "    w_re = cp.Variable(n)\n",
        "    eps_re = cp.Parameter()\n",
        "    \n",
        "    constraints6 = [mu_resample.T@w_re >= eps_re, sum(w_re) == 1, w_re >= 0]\n",
        "    prob6 = cp.Problem(cp.Minimize(cp.quad_form(w_re, Q_resample)), constraints6)\n",
        "\n",
        "    # Compute efficient frontier\n",
        "    w_front_re = []\n",
        "    var_front_re = []\n",
        "    ret_front_re = []\n",
        "\n",
        "    for epsilon in targetRet:\n",
        "        eps_re.value = epsilon\n",
        "        \n",
        "        #solve problem for each epsilon\n",
        "        prob6.solve(solver = 'ECOS')\n",
        "\n",
        "        w_front_re.append(w_re.value)\n",
        "        var_front_re.append(np.dot(w_re.value, np.dot(Q_resample, w_re.value)))\n",
        "        ret_front_re.append(np.dot(mu_resample, w_re.value))\n",
        "    \n",
        "    #Store results for each resampling\n",
        "    weight_resample_all.append(w_front_re)\n",
        "    var_resample_all.append(var_front_re)\n",
        "    ret_resample_all.append(ret_front_re)"
      ]
    },
    {
      "cell_type": "code",
      "source": [
        "#compute the average weights at each return level(epsilon)\n",
        "weight_resample_all_ar = np.array(weight_resample_all)\n",
        "ave_weight_front = np.average(weight_resample_all_ar, axis = 0)\n",
        "print(ave_weight_front.shape)\n",
        "\n",
        "#compute the resampled efficient frontier based on the average weights and orignial mu & Q\n",
        "var_front_resample = []\n",
        "ret_front_resample = []\n",
        "for weight_50 in ave_weight_front:\n",
        "  var_front_resample.append(np.dot(weight_50, np.dot(Q, weight_50)))\n",
        "  ret_front_resample.append(np.dot(mu, weight_50))"
      ],
      "metadata": {
        "id": "mV4IleWUGS-n",
        "colab": {
          "base_uri": "https://localhost:8080/"
        },
        "outputId": "3ecb3bf5-002e-4732-e349-dc41476adf28"
      },
      "id": "mV4IleWUGS-n",
      "execution_count": null,
      "outputs": [
        {
          "output_type": "stream",
          "name": "stdout",
          "text": [
            "(50, 25)\n"
          ]
        }
      ]
    },
    {
      "cell_type": "code",
      "source": [
        "ave_weight_front"
      ],
      "metadata": {
        "colab": {
          "base_uri": "https://localhost:8080/"
        },
        "id": "pmgtYlNR3aQn",
        "outputId": "26d63de8-37e0-498c-dbcc-00381b9dde71"
      },
      "id": "pmgtYlNR3aQn",
      "execution_count": null,
      "outputs": [
        {
          "output_type": "execute_result",
          "data": {
            "text/plain": [
              "array([[ 7.01690028e-04,  7.41020298e-10,  4.41681200e-09, ...,\n",
              "         8.17027959e-02,  2.06214327e-02,  3.84545992e-02],\n",
              "       [ 2.87173231e-03,  3.85228126e-05,  1.89709706e-09, ...,\n",
              "         6.11673292e-02,  2.15372086e-02,  6.00075660e-02],\n",
              "       [ 8.82003503e-03,  1.60209188e-04,  1.33705923e-09, ...,\n",
              "         4.68253692e-02,  2.22072120e-02,  7.85443214e-02],\n",
              "       ...,\n",
              "       [ 2.13674948e-01, -1.21879744e-12,  1.96835473e-11, ...,\n",
              "         2.10935446e-11,  2.47303102e-04,  7.29010744e-04],\n",
              "       [ 1.93276499e-01, -7.96377316e-12,  5.55212147e-12, ...,\n",
              "         4.24627777e-12,  1.28267286e-11,  2.99659025e-04],\n",
              "       [ 1.70000002e-01,  1.35069186e-10,  1.80610591e-10, ...,\n",
              "         1.76003824e-10,  2.01227055e-10,  2.26665422e-10]])"
            ]
          },
          "metadata": {},
          "execution_count": 19
        }
      ]
    },
    {
      "cell_type": "code",
      "source": [
        "var_front_resample"
      ],
      "metadata": {
        "colab": {
          "base_uri": "https://localhost:8080/"
        },
        "id": "CZ-4X8BQVCI5",
        "outputId": "b9719921-966d-4d1a-c29e-82e500dbb173"
      },
      "id": "CZ-4X8BQVCI5",
      "execution_count": null,
      "outputs": [
        {
          "output_type": "execute_result",
          "data": {
            "text/plain": [
              "[0.000964015007138589,\n",
              " 0.0009956894726169084,\n",
              " 0.0010625255390182165,\n",
              " 0.0011599692029793112,\n",
              " 0.0012858573960349887,\n",
              " 0.0014469213178189522,\n",
              " 0.0016450712471442644,\n",
              " 0.0018784840523379891,\n",
              " 0.002144222504393473,\n",
              " 0.002443419936600746,\n",
              " 0.002780842085106743,\n",
              " 0.003157340774170291,\n",
              " 0.0035718749713409964,\n",
              " 0.004024655961631167,\n",
              " 0.004516776224431739,\n",
              " 0.00504701767608124,\n",
              " 0.0056137815413464884,\n",
              " 0.006219230381635508,\n",
              " 0.006865443412317591,\n",
              " 0.007548377025747407,\n",
              " 0.008277625545251785,\n",
              " 0.009044461400651113,\n",
              " 0.009832505561507884,\n",
              " 0.010643660903935506,\n",
              " 0.011489372913679251,\n",
              " 0.01237609903491893,\n",
              " 0.013308440240073494,\n",
              " 0.014270936508762155,\n",
              " 0.015289805945506413,\n",
              " 0.016394621679252177,\n",
              " 0.017594599510076844,\n",
              " 0.018899159931431087,\n",
              " 0.02032046238621737,\n",
              " 0.021855701133400435,\n",
              " 0.02351176767244612,\n",
              " 0.025340791845197008,\n",
              " 0.027367548214214266,\n",
              " 0.02973246319373489,\n",
              " 0.032395930126550065,\n",
              " 0.0353050843431702,\n",
              " 0.03847322485322217,\n",
              " 0.04207405688483186,\n",
              " 0.046076103654834735,\n",
              " 0.050786074727068926,\n",
              " 0.05647192826312276,\n",
              " 0.06290295963331766,\n",
              " 0.0699710018863542,\n",
              " 0.07825078895317242,\n",
              " 0.0888320745001488,\n",
              " 0.10002231759150823]"
            ]
          },
          "metadata": {},
          "execution_count": 20
        }
      ]
    },
    {
      "cell_type": "code",
      "source": [
        "weight_resample_all_ar = np.array(weight_resample_all)\n",
        "weight_resample_all_ar.shape"
      ],
      "metadata": {
        "colab": {
          "base_uri": "https://localhost:8080/"
        },
        "id": "45qQp2I0Bxg-",
        "outputId": "115ec53d-b4cc-403a-82a0-06f9368237e0"
      },
      "id": "45qQp2I0Bxg-",
      "execution_count": null,
      "outputs": [
        {
          "output_type": "execute_result",
          "data": {
            "text/plain": [
              "(100, 50, 25)"
            ]
          },
          "metadata": {},
          "execution_count": 21
        }
      ]
    },
    {
      "cell_type": "markdown",
      "source": [
        "## Part 2\n",
        "\n",
        "**Using the frontiers, compute three portfolio weights (minimum variance, maximum return, and Sharpe ratio) along both the classical and resampled frontiers.**"
      ],
      "metadata": {
        "id": "YgQyryyBrUe_"
      },
      "id": "YgQyryyBrUe_"
    },
    {
      "cell_type": "markdown",
      "source": [
        "On the classical efficient frontier, find the weights for minimum variance, maximum return and Sharp ratio porfolio."
      ],
      "metadata": {
        "id": "faVus6LwraUV"
      },
      "id": "faVus6LwraUV"
    },
    {
      "cell_type": "code",
      "source": [
        "# weights for Minimum Variance.\n",
        "classic_weights_minVar = w_front_clas[0] #[0] means we take the first weight combo in the frontier weights which represent the minVar portfolio.\n",
        "print(classic_weights_minVar)"
      ],
      "metadata": {
        "colab": {
          "base_uri": "https://localhost:8080/"
        },
        "id": "04WAKwzmrU4c",
        "outputId": "ee160aa2-80ae-461b-f725-eda5f7bc8bf1"
      },
      "id": "04WAKwzmrU4c",
      "execution_count": null,
      "outputs": [
        {
          "output_type": "stream",
          "name": "stdout",
          "text": [
            "[ 3.27231831e-19 -1.14158479e-20 -8.31044264e-22  1.11997265e-19\n",
            "  1.90860299e-20  1.70009911e-20 -2.67194251e-20  8.07705709e-20\n",
            "  5.54485957e-02  8.99771706e-20  9.08772980e-20  6.59194971e-01\n",
            "  9.71760135e-20  3.48214411e-20  1.76013193e-03  8.87191244e-02\n",
            "  5.48842212e-02 -8.25234018e-20 -1.26897129e-20  4.97872186e-20\n",
            "  4.42501729e-20  2.33161871e-20  9.01180838e-02  8.74792459e-21\n",
            "  4.98748717e-02]\n"
          ]
        }
      ]
    },
    {
      "cell_type": "code",
      "source": [
        "# weights for Minimum Variance - resampling\n",
        "resample_weights_minVar = ave_weight_front[0]\n",
        "print(resample_weights_minVar)"
      ],
      "metadata": {
        "colab": {
          "base_uri": "https://localhost:8080/"
        },
        "id": "JKK1Fl5PP6Mp",
        "outputId": "317fe149-5781-4ae9-9591-a1b268275630"
      },
      "id": "JKK1Fl5PP6Mp",
      "execution_count": null,
      "outputs": [
        {
          "output_type": "stream",
          "name": "stdout",
          "text": [
            "[7.01690028e-04 7.41020298e-10 4.41681200e-09 2.88902098e-03\n",
            " 4.47605105e-03 1.83839002e-09 9.75247033e-10 5.62971326e-03\n",
            " 2.54208074e-02 9.60949192e-05 5.45243228e-03 6.41067220e-01\n",
            " 6.13428358e-05 3.06105501e-02 1.74025173e-02 6.92591394e-02\n",
            " 5.47829817e-02 2.36796868e-05 4.85218823e-04 4.50878577e-09\n",
            " 8.62699280e-04 1.05794475e-09 8.17027959e-02 2.06214327e-02\n",
            " 3.84545992e-02]\n"
          ]
        }
      ]
    },
    {
      "cell_type": "code",
      "source": [
        "# weights for Maximum Return \n",
        "classic_weights_maxRet = w_front_clas[targetLen - 1]\n",
        "print(classic_weights_maxRet)"
      ],
      "metadata": {
        "colab": {
          "base_uri": "https://localhost:8080/"
        },
        "id": "bkXXEYPbsAir",
        "outputId": "344ea541-cd6f-4a04-e6d1-76f7e3ef148d"
      },
      "id": "bkXXEYPbsAir",
      "execution_count": null,
      "outputs": [
        {
          "output_type": "stream",
          "name": "stdout",
          "text": [
            "[-3.69310785e-06 -1.73732232e-05 -1.46513622e-05 -1.39387928e-05\n",
            " -1.48461009e-05 -1.45522788e-05 -1.78618558e-05 -1.64950255e-05\n",
            " -1.54703989e-05 -1.27246575e-05 -1.08433441e-05 -1.35992466e-05\n",
            "  3.02308681e-03 -1.29547906e-05 -1.79986306e-05 -1.28098616e-05\n",
            " -1.61873492e-05 -1.93337499e-05  9.97301088e-01 -1.19644126e-05\n",
            " -8.72463646e-06 -1.66768143e-05 -1.53960167e-05 -1.39080658e-05\n",
            " -1.21554690e-05]\n"
          ]
        }
      ]
    },
    {
      "cell_type": "code",
      "source": [
        "# weights for Maximum Return - resampling\n",
        "resample_weights_maxRet = ave_weight_front[targetLen - 1]\n",
        "print(resample_weights_maxRet)"
      ],
      "metadata": {
        "colab": {
          "base_uri": "https://localhost:8080/"
        },
        "id": "-83EwgPGQ4ZN",
        "outputId": "0f954086-7fe3-40d2-8f79-ecbc729216ec"
      },
      "id": "-83EwgPGQ4ZN",
      "execution_count": null,
      "outputs": [
        {
          "output_type": "stream",
          "name": "stdout",
          "text": [
            "[1.70000002e-01 1.35069186e-10 1.80610591e-10 1.80388867e-10\n",
            " 1.78797965e-10 1.80912535e-10 1.49959154e-10 1.94863104e-10\n",
            " 1.68062136e-10 1.91755826e-10 2.24624977e-10 2.14869701e-10\n",
            " 3.39999999e-01 2.05784416e-10 1.30889509e-10 2.00542880e-10\n",
            " 1.58848619e-10 1.10868970e-10 4.89999995e-01 2.13367475e-10\n",
            " 2.77643440e-10 1.47183375e-10 1.76003824e-10 2.01227055e-10\n",
            " 2.26665422e-10]\n"
          ]
        }
      ]
    },
    {
      "cell_type": "code",
      "source": [
        "#Compute sharp ratio and identify the portfolio with the highest sharpe ratio\n",
        "riskFreeRate = 0.002\n",
        "\n",
        "ret_array_clas = np.array(ret_front_clas)\n",
        "var_array_clas = np.array(var_front_clas)\n",
        "\n",
        "sharpe_array_clas = (ret_array_clas - riskFreeRate)/np.sqrt(var_array_clas)\n",
        "\n",
        "classic_weights_sharpe = w_front_clas[sharpe_array_clas.argmax()]\n",
        "print(sharpe_array_clas)\n",
        "print(sharpe_array_clas.argmax())\n",
        "print(classic_weights_sharpe)"
      ],
      "metadata": {
        "colab": {
          "base_uri": "https://localhost:8080/"
        },
        "id": "bKMcLJaTsJ1H",
        "outputId": "0c97b23d-2859-48fe-f7d4-f95933c1fc55"
      },
      "id": "bKMcLJaTsJ1H",
      "execution_count": null,
      "outputs": [
        {
          "output_type": "stream",
          "name": "stdout",
          "text": [
            "[0.21841729 0.27797437 0.32773841 0.36826892 0.40084006 0.42615505\n",
            " 0.44633031 0.4624906  0.47545637 0.48589632 0.49435103 0.50109046\n",
            " 0.50645874 0.51074942 0.5141787  0.51666607 0.51850325 0.51976041\n",
            " 0.52057517 0.52104411 0.52124292 0.52123104 0.52105527 0.52075255\n",
            " 0.52035209 0.51987708 0.51934591 0.51877323 0.51817071 0.51754764\n",
            " 0.51691144 0.51626799 0.51562199 0.51497714 0.51433639 0.51370202\n",
            " 0.51305877 0.51222578 0.50606699 0.49190377 0.47256729 0.4507326\n",
            " 0.42825704 0.40634554 0.38566497 0.34299185 0.28488889 0.23609746\n",
            " 0.19944177 0.17218151]\n",
            "20\n",
            "[ 3.03145246e-01 -5.30561024e-06 -1.62004752e-06 -6.56583631e-07\n",
            " -1.61935898e-06 -1.94628171e-06 -4.55772788e-06 -5.86979133e-06\n",
            " -2.61723444e-06 -1.03464147e-06 -4.15306274e-07  4.07769810e-01\n",
            "  1.68198785e-01 -9.44505366e-07 -2.72697665e-06 -7.81266516e-07\n",
            " -1.57975037e-06 -3.63964216e-06  2.27431086e-02 -6.76639004e-07\n",
            "  9.81855846e-02 -3.04851736e-06 -1.16261019e-06 -1.51716197e-06\n",
            " -8.15205306e-07]\n"
          ]
        }
      ]
    },
    {
      "cell_type": "code",
      "source": [
        "#Compute sharp ratio for resampled data and identify the portfolio with the highest sharpe ratio\n",
        "riskFreeRate = 0.002\n",
        "\n",
        "ret_array_resample = np.array(ret_front_resample)\n",
        "var_array_resample = np.array(var_front_resample)\n",
        "\n",
        "sharpe_array_resample = (ret_array_resample - riskFreeRate)/np.sqrt(var_array_resample)\n",
        "\n",
        "resample_weights_sharpe = ave_weight_front[sharpe_array_resample.argmax()]\n",
        "print(sharpe_array_resample)\n",
        "print(sharpe_array_resample.argmax())\n",
        "print(resample_weights_sharpe)"
      ],
      "metadata": {
        "colab": {
          "base_uri": "https://localhost:8080/"
        },
        "id": "YxZF6lJoRMAO",
        "outputId": "233d4dec-6411-4633-e2ce-e3a43fba8e48"
      },
      "id": "YxZF6lJoRMAO",
      "execution_count": null,
      "outputs": [
        {
          "output_type": "stream",
          "name": "stdout",
          "text": [
            "[0.21312606 0.25273912 0.29038922 0.32504232 0.35567227 0.3822775\n",
            " 0.40394768 0.42176075 0.43564073 0.44635722 0.45463077 0.46149229\n",
            " 0.46685351 0.47085292 0.47383582 0.47622275 0.47826705 0.48003351\n",
            " 0.48149973 0.48294265 0.48443787 0.48557416 0.48631134 0.48673288\n",
            " 0.48660721 0.48586637 0.48493204 0.48399334 0.48237749 0.47945073\n",
            " 0.47558029 0.47094583 0.46591422 0.46030599 0.45430872 0.4475569\n",
            " 0.44014776 0.43126375 0.42180614 0.41228958 0.40250347 0.39174826\n",
            " 0.38070943 0.36855166 0.35495156 0.34132182 0.32851581 0.31538419\n",
            " 0.30041097 0.28704812]\n",
            "23\n",
            "[2.67505266e-01 1.27235785e-03 1.36536559e-10 1.56298003e-02\n",
            " 5.84644562e-03 1.12606602e-10 5.06528378e-11 2.47873235e-03\n",
            " 5.23049891e-03 1.01457382e-03 3.37134571e-03 1.81728289e-01\n",
            " 2.06543922e-01 2.86493202e-02 6.04572796e-03 4.68201958e-02\n",
            " 1.14609818e-03 4.22194995e-11 6.31504945e-02 3.08520702e-10\n",
            " 1.11448087e-01 6.35181912e-11 2.52939710e-03 4.26066652e-03\n",
            " 4.53287802e-02]\n"
          ]
        }
      ]
    },
    {
      "cell_type": "code",
      "source": [
        "#We want return for the whole year so only use first and last month\n",
        "price2021 = df2.iloc[:,1:]\n",
        "price2021_ = price2021.drop(price2021.index[1:11])\n",
        "price2021_.reset_index(inplace = True, drop = True)\n",
        "\n",
        "#Compute percent change\n",
        "ret_2021 = price2021_.pct_change().iloc[1:,:]\n",
        "ret_2021"
      ],
      "metadata": {
        "colab": {
          "base_uri": "https://localhost:8080/",
          "height": 109
        },
        "id": "W0LoSce_6w9M",
        "outputId": "a0a209c9-2b0e-4467-cbb9-190993317f9e"
      },
      "id": "W0LoSce_6w9M",
      "execution_count": null,
      "outputs": [
        {
          "output_type": "execute_result",
          "data": {
            "text/plain": [
              "       AMD       OXY       XLF     BABA         F       BAC       CCL  \\\n",
              "1  0.68029  0.446726  0.366112 -0.53201  0.982391  0.522067  0.077665   \n",
              "\n",
              "        AMC       DAL        FB  ...       UNH       MMM      AAL      MULN  \\\n",
              "1  1.051282  0.029505  0.302017  ...  0.521509  0.043312  0.04601 -0.584591   \n",
              "\n",
              "        QQQ      AAPL       XLE       FXI       JPM         V  \n",
              "1  0.269255  0.353931  0.458557 -0.256478  0.261573  0.128286  \n",
              "\n",
              "[1 rows x 25 columns]"
            ],
            "text/html": [
              "\n",
              "  <div id=\"df-8ab79195-b22d-4a34-a652-999e7e91efff\">\n",
              "    <div class=\"colab-df-container\">\n",
              "      <div>\n",
              "<style scoped>\n",
              "    .dataframe tbody tr th:only-of-type {\n",
              "        vertical-align: middle;\n",
              "    }\n",
              "\n",
              "    .dataframe tbody tr th {\n",
              "        vertical-align: top;\n",
              "    }\n",
              "\n",
              "    .dataframe thead th {\n",
              "        text-align: right;\n",
              "    }\n",
              "</style>\n",
              "<table border=\"1\" class=\"dataframe\">\n",
              "  <thead>\n",
              "    <tr style=\"text-align: right;\">\n",
              "      <th></th>\n",
              "      <th>AMD</th>\n",
              "      <th>OXY</th>\n",
              "      <th>XLF</th>\n",
              "      <th>BABA</th>\n",
              "      <th>F</th>\n",
              "      <th>BAC</th>\n",
              "      <th>CCL</th>\n",
              "      <th>AMC</th>\n",
              "      <th>DAL</th>\n",
              "      <th>FB</th>\n",
              "      <th>...</th>\n",
              "      <th>UNH</th>\n",
              "      <th>MMM</th>\n",
              "      <th>AAL</th>\n",
              "      <th>MULN</th>\n",
              "      <th>QQQ</th>\n",
              "      <th>AAPL</th>\n",
              "      <th>XLE</th>\n",
              "      <th>FXI</th>\n",
              "      <th>JPM</th>\n",
              "      <th>V</th>\n",
              "    </tr>\n",
              "  </thead>\n",
              "  <tbody>\n",
              "    <tr>\n",
              "      <th>1</th>\n",
              "      <td>0.68029</td>\n",
              "      <td>0.446726</td>\n",
              "      <td>0.366112</td>\n",
              "      <td>-0.53201</td>\n",
              "      <td>0.982391</td>\n",
              "      <td>0.522067</td>\n",
              "      <td>0.077665</td>\n",
              "      <td>1.051282</td>\n",
              "      <td>0.029505</td>\n",
              "      <td>0.302017</td>\n",
              "      <td>...</td>\n",
              "      <td>0.521509</td>\n",
              "      <td>0.043312</td>\n",
              "      <td>0.04601</td>\n",
              "      <td>-0.584591</td>\n",
              "      <td>0.269255</td>\n",
              "      <td>0.353931</td>\n",
              "      <td>0.458557</td>\n",
              "      <td>-0.256478</td>\n",
              "      <td>0.261573</td>\n",
              "      <td>0.128286</td>\n",
              "    </tr>\n",
              "  </tbody>\n",
              "</table>\n",
              "<p>1 rows × 25 columns</p>\n",
              "</div>\n",
              "      <button class=\"colab-df-convert\" onclick=\"convertToInteractive('df-8ab79195-b22d-4a34-a652-999e7e91efff')\"\n",
              "              title=\"Convert this dataframe to an interactive table.\"\n",
              "              style=\"display:none;\">\n",
              "        \n",
              "  <svg xmlns=\"http://www.w3.org/2000/svg\" height=\"24px\"viewBox=\"0 0 24 24\"\n",
              "       width=\"24px\">\n",
              "    <path d=\"M0 0h24v24H0V0z\" fill=\"none\"/>\n",
              "    <path d=\"M18.56 5.44l.94 2.06.94-2.06 2.06-.94-2.06-.94-.94-2.06-.94 2.06-2.06.94zm-11 1L8.5 8.5l.94-2.06 2.06-.94-2.06-.94L8.5 2.5l-.94 2.06-2.06.94zm10 10l.94 2.06.94-2.06 2.06-.94-2.06-.94-.94-2.06-.94 2.06-2.06.94z\"/><path d=\"M17.41 7.96l-1.37-1.37c-.4-.4-.92-.59-1.43-.59-.52 0-1.04.2-1.43.59L10.3 9.45l-7.72 7.72c-.78.78-.78 2.05 0 2.83L4 21.41c.39.39.9.59 1.41.59.51 0 1.02-.2 1.41-.59l7.78-7.78 2.81-2.81c.8-.78.8-2.07 0-2.86zM5.41 20L4 18.59l7.72-7.72 1.47 1.35L5.41 20z\"/>\n",
              "  </svg>\n",
              "      </button>\n",
              "      \n",
              "  <style>\n",
              "    .colab-df-container {\n",
              "      display:flex;\n",
              "      flex-wrap:wrap;\n",
              "      gap: 12px;\n",
              "    }\n",
              "\n",
              "    .colab-df-convert {\n",
              "      background-color: #E8F0FE;\n",
              "      border: none;\n",
              "      border-radius: 50%;\n",
              "      cursor: pointer;\n",
              "      display: none;\n",
              "      fill: #1967D2;\n",
              "      height: 32px;\n",
              "      padding: 0 0 0 0;\n",
              "      width: 32px;\n",
              "    }\n",
              "\n",
              "    .colab-df-convert:hover {\n",
              "      background-color: #E2EBFA;\n",
              "      box-shadow: 0px 1px 2px rgba(60, 64, 67, 0.3), 0px 1px 3px 1px rgba(60, 64, 67, 0.15);\n",
              "      fill: #174EA6;\n",
              "    }\n",
              "\n",
              "    [theme=dark] .colab-df-convert {\n",
              "      background-color: #3B4455;\n",
              "      fill: #D2E3FC;\n",
              "    }\n",
              "\n",
              "    [theme=dark] .colab-df-convert:hover {\n",
              "      background-color: #434B5C;\n",
              "      box-shadow: 0px 1px 3px 1px rgba(0, 0, 0, 0.15);\n",
              "      filter: drop-shadow(0px 1px 2px rgba(0, 0, 0, 0.3));\n",
              "      fill: #FFFFFF;\n",
              "    }\n",
              "  </style>\n",
              "\n",
              "      <script>\n",
              "        const buttonEl =\n",
              "          document.querySelector('#df-8ab79195-b22d-4a34-a652-999e7e91efff button.colab-df-convert');\n",
              "        buttonEl.style.display =\n",
              "          google.colab.kernel.accessAllowed ? 'block' : 'none';\n",
              "\n",
              "        async function convertToInteractive(key) {\n",
              "          const element = document.querySelector('#df-8ab79195-b22d-4a34-a652-999e7e91efff');\n",
              "          const dataTable =\n",
              "            await google.colab.kernel.invokeFunction('convertToInteractive',\n",
              "                                                     [key], {});\n",
              "          if (!dataTable) return;\n",
              "\n",
              "          const docLinkHtml = 'Like what you see? Visit the ' +\n",
              "            '<a target=\"_blank\" href=https://colab.research.google.com/notebooks/data_table.ipynb>data table notebook</a>'\n",
              "            + ' to learn more about interactive tables.';\n",
              "          element.innerHTML = '';\n",
              "          dataTable['output_type'] = 'display_data';\n",
              "          await google.colab.output.renderOutput(dataTable, element);\n",
              "          const docLink = document.createElement('div');\n",
              "          docLink.innerHTML = docLinkHtml;\n",
              "          element.appendChild(docLink);\n",
              "        }\n",
              "      </script>\n",
              "    </div>\n",
              "  </div>\n",
              "  "
            ]
          },
          "metadata": {},
          "execution_count": 28
        }
      ]
    },
    {
      "cell_type": "code",
      "source": [
        "#From classical frontier find Minimum variance portfolio\n",
        "classic_minVar_ret2021 = np.dot(ret_2021, classic_weights_minVar)\n",
        "print(classic_minVar_ret2021)\n",
        "\n",
        "#Maximum return portfolio\n",
        "classic_maxRet_ret2021 = np.dot(ret_2021, classic_weights_maxRet)\n",
        "print(classic_maxRet_ret2021)\n",
        "\n",
        "#Sharpe ratio portfolio\n",
        "classic_sharpe_ret2021 = np.dot(ret_2021, classic_weights_sharpe)\n",
        "print(classic_sharpe_ret2021)"
      ],
      "metadata": {
        "colab": {
          "base_uri": "https://localhost:8080/"
        },
        "id": "i_Tm1Qaw6wvS",
        "outputId": "8f3af25e-942a-4186-ec81-c978cf54c337"
      },
      "id": "i_Tm1Qaw6wvS",
      "execution_count": null,
      "outputs": [
        {
          "output_type": "stream",
          "name": "stdout",
          "text": [
            "[0.02822425]\n",
            "[-0.58210478]\n",
            "[0.27956668]\n"
          ]
        }
      ]
    },
    {
      "cell_type": "code",
      "source": [
        "#Compute returns on $1000\n",
        "\n",
        "print('Out-of-sample returns on $1000 investment: \\n')\n",
        "print('On the Classical Efficient Frontier, the minimum variance portfolio returns $' , classic_minVar_ret2021*1000)\n",
        "print('On the Classical Efficient Frontier, the maximum return portfolio returns $' , classic_maxRet_ret2021*1000)\n",
        "print('On the Classical Efficient Frontier, the optimal Sharpe ratio portfolio returns $' , classic_sharpe_ret2021*1000 , '\\n')"
      ],
      "metadata": {
        "colab": {
          "base_uri": "https://localhost:8080/"
        },
        "id": "l7gZhDSFK0wB",
        "outputId": "804c2f49-cacc-47bb-a25e-8cefc7a26dc6"
      },
      "id": "l7gZhDSFK0wB",
      "execution_count": null,
      "outputs": [
        {
          "output_type": "stream",
          "name": "stdout",
          "text": [
            "Out-of-sample returns on $1000 investment: \n",
            "\n",
            "On the Classical Efficient Frontier, the minimum variance portfolio returns $ [28.22424688]\n",
            "On the Classical Efficient Frontier, the maximum return portfolio returns $ [-582.10477944]\n",
            "On the Classical Efficient Frontier, the optimal Sharpe ratio portfolio returns $ [279.56668474] \n",
            "\n"
          ]
        }
      ]
    },
    {
      "cell_type": "markdown",
      "source": [
        "Calculate the return for resampled frontier"
      ],
      "metadata": {
        "id": "clE7m2WYSJ6L"
      },
      "id": "clE7m2WYSJ6L"
    },
    {
      "cell_type": "code",
      "source": [
        "#From classical frontier find Minimum variance portfolio\n",
        "resample_minVar_ret2021 = np.dot(ret_2021, resample_weights_minVar)\n",
        "print(resample_minVar_ret2021)\n",
        "\n",
        "#Maximum return portfolio\n",
        "resample_maxRet_ret2021 = np.dot(ret_2021, resample_weights_maxRet)\n",
        "print(resample_maxRet_ret2021)\n",
        "\n",
        "#Sharpe ratio portfolio\n",
        "resample_sharpe_ret2021 = np.dot(ret_2021, resample_weights_sharpe)\n",
        "print(resample_sharpe_ret2021)\n"
      ],
      "metadata": {
        "colab": {
          "base_uri": "https://localhost:8080/"
        },
        "id": "PxeZvae8Pb1_",
        "outputId": "8187acc0-7f9d-4027-c70c-eaa14886aaca"
      },
      "id": "PxeZvae8Pb1_",
      "execution_count": null,
      "outputs": [
        {
          "output_type": "stream",
          "name": "stdout",
          "text": [
            "[0.05915957]\n",
            "[-0.05800687]\n",
            "[0.30304251]\n"
          ]
        }
      ]
    },
    {
      "cell_type": "code",
      "source": [
        "#Compute returns on $1000\n",
        "print('On the Resampled Efficient Frontier, the minimum variance portfolio returns $' , resample_minVar_ret2021*1000)\n",
        "print('On the Resampled Efficient Frontier, the maximum return portfolio returns $' , resample_maxRet_ret2021*1000)\n",
        "print('On the Resampled Efficient Frontier, the optimal Sharpe ratio portfolio returns $' , resample_sharpe_ret2021*1000)"
      ],
      "metadata": {
        "colab": {
          "base_uri": "https://localhost:8080/"
        },
        "id": "UtcV19L2Pbnt",
        "outputId": "2d6b6c08-87e3-4e3b-b158-ff57bad2c51e"
      },
      "id": "UtcV19L2Pbnt",
      "execution_count": null,
      "outputs": [
        {
          "output_type": "stream",
          "name": "stdout",
          "text": [
            "On the Resampled Efficient Frontier, the minimum variance portfolio returns $ [59.15956556]\n",
            "On the Resampled Efficient Frontier, the maximum return portfolio returns $ [-58.00687383]\n",
            "On the Resampled Efficient Frontier, the optimal Sharpe ratio portfolio returns $ [303.04250642]\n"
          ]
        }
      ]
    },
    {
      "cell_type": "markdown",
      "source": [
        "## Q3: Plot the classical and resampled efficient frontiers"
      ],
      "metadata": {
        "id": "1_t9DzEsJz-1"
      },
      "id": "1_t9DzEsJz-1"
    },
    {
      "cell_type": "code",
      "source": [
        "axC = plt.gca()\n",
        "plt.rcParams['figure.figsize'] = [10, 8]\n",
        "\n",
        "for i in range(repetition):\n",
        "    # Plot volatility versus expected return for individual stocks\n",
        "    axC.scatter(x=np.sqrt(np.diag(Q_resample_100[i])), y=mu_resample_100[i], color='darkgray', label='Individual Stocks' if i == 0 else \"\")\n",
        "    \n",
        "    # Plot volatility versus expected return for mimimum variance portfolio\n",
        "    axC.scatter(x=np.sqrt(var_minVar_100[i]), y=ret_minVar_100[i], marker='D', s=30,  color='limegreen', label='Minimum Variance Portfolio' if i == 0 else \"\")\n",
        "\n",
        "    # Plot volatility versus expected return for maximum return portfolio\n",
        "    axC.scatter(x=np.sqrt(var_maxRet_100[i]), y=ret_maxRet_100[i],  marker='D', s=30, color='darkviolet', label='Maximum Return Portfolio' if i == 0 else \"\")\n",
        "\n",
        "    # Plot efficient frontier\n",
        "    axC.plot(np.sqrt(var_resample_all[i]), ret_resample_all[i], '--', color='peachpuff', label='Efficient Frontier' if i == 0 else \"\")\n",
        "\n",
        "#Plot the classical mean-variance efficient frontier\n",
        "axC.plot(np.sqrt(var_front_clas), ret_front_clas, color='blue', linewidth=3, label='Classical Efficient Frontier')\n",
        "\n",
        "#Plot the resampled efficient frontier\n",
        "axC.plot(np.sqrt(var_front_resample), ret_front_resample, color='red', linewidth=3, label='Resampled Efficient Frontier')\n",
        "\n",
        "axC.set_xlabel('Volatility (Standard Deviation)')\n",
        "axC.set_ylabel('Expected Return')\n",
        "plt.title('Efficient Frontier')\n",
        "axC.legend(loc=\"lower right\")\n",
        "axC.grid()\n",
        "plt.show()"
      ],
      "metadata": {
        "colab": {
          "base_uri": "https://localhost:8080/",
          "height": 621
        },
        "id": "WnDa9-qxM5yW",
        "outputId": "3789edb1-1b42-4cee-af30-30021785c4bb"
      },
      "id": "WnDa9-qxM5yW",
      "execution_count": null,
      "outputs": [
        {
          "output_type": "display_data",
          "data": {
            "text/plain": [
              "<Figure size 864x720 with 1 Axes>"
            ],
            "image/png": "[encoded data removed]"
          },
          "metadata": {
            "needs_background": "light"
          }
        }
      ]
    },
    {
      "cell_type": "markdown",
      "source": [
        "## Part 4. Plot the portfolio compositions for classical and resampled frontiers."
      ],
      "metadata": {
        "id": "_u6p8vQyAWOc"
      },
      "id": "_u6p8vQyAWOc"
    },
    {
      "cell_type": "code",
      "source": [
        "#plot portfolio compositions for classical frontiers\n",
        "x_tick = np.arange(len(targetRet))+1\n",
        "color_list = ['fuchsia','green','pink','orange','purple','royalblue','grey','firebrick','olive','black',\n",
        "              'yellow','lime','indigo','red','blue','teal','skyblue','tan','cyan','navy']\n",
        "plt.figure(figsize=(8, 6))\n",
        "plt.stackplot(x_tick, np.array(w_front_clas).T, colors=color_list)\n",
        "plt.legend(df1.columns[1:], bbox_to_anchor=(1.2, 1))\n",
        "plt.xlim((1,len(targetRet)))\n",
        "plt.ylim((0,1))\n",
        "plt.xticks(np.arange(1,len(targetRet)+1,5))\n",
        "plt.xlabel(\"Portfolio No. (with increasing target return)\")\n",
        "plt.ylabel(\"Portfolio Weights\")\n",
        "plt.title(\"Portfolio Allocations: Classical Mean-Variance Optimization\")\n",
        "plt.show()"
      ],
      "metadata": {
        "colab": {
          "base_uri": "https://localhost:8080/",
          "height": 430
        },
        "id": "xsjkrIpaAHUk",
        "outputId": "cd2e9b49-3831-4cf8-8ac0-ced8f9c830db"
      },
      "id": "xsjkrIpaAHUk",
      "execution_count": null,
      "outputs": [
        {
          "output_type": "display_data",
          "data": {
            "text/plain": [
              "<Figure size 576x432 with 1 Axes>"
            ],
            "image/png": "[encoded data removed]"
          },
          "metadata": {
            "needs_background": "light"
          }
        }
      ]
    },
    {
      "cell_type": "code",
      "source": [
        "#plot portfolio compositions for classical frontiers\n",
        "x_tick = np.arange(len(targetRet))+1\n",
        "color_list = ['fuchsia','green','pink','orange','purple','royalblue','grey','firebrick','olive','black',\n",
        "              'yellow','lime','indigo','red','blue','teal','skyblue','tan','cyan','navy']\n",
        "plt.figure(figsize=(8, 6))\n",
        "plt.stackplot(x_tick, np.array(ave_weight_front).T, colors=color_list)\n",
        "plt.legend(df1.columns[1:], bbox_to_anchor=(1.2, 1))\n",
        "plt.xlim((1,len(targetRet)))\n",
        "plt.ylim((0,1))\n",
        "plt.xticks(np.arange(1,len(targetRet)+1,5))\n",
        "plt.xlabel(\"Portfolio No. (with increasing target return)\")\n",
        "plt.ylabel(\"Portfolio Weights\")\n",
        "plt.title(\"Portfolio Allocations: Resampled\")\n",
        "plt.show()"
      ],
      "metadata": {
        "colab": {
          "base_uri": "https://localhost:8080/",
          "height": 430
        },
        "id": "FCdWB28nAHMO",
        "outputId": "69cc2210-2a2c-4e8a-fc1a-eebf789c71bc"
      },
      "id": "FCdWB28nAHMO",
      "execution_count": null,
      "outputs": [
        {
          "output_type": "display_data",
          "data": {
            "text/plain": [
              "<Figure size 576x432 with 1 Axes>"
            ],
            "image/png": "[encoded data removed]"
          },
          "metadata": {
            "needs_background": "light"
          }
        }
      ]
    }
  ],
  "metadata": {
    "kernelspec": {
      "display_name": "Python 3 (ipykernel)",
      "language": "python",
      "name": "python3"
    },
    "language_info": {
      "codemirror_mode": {
        "name": "ipython",
        "version": 3
      },
      "file_extension": ".py",
      "mimetype": "text/x-python",
      "name": "python",
      "nbconvert_exporter": "python",
      "pygments_lexer": "ipython3",
      "version": "3.9.7"
    },
    "colab": {
      "name": "Zhang_1002247017_assignment3.ipynb",
      "provenance": []
    }
  },
  "nbformat": 4,
  "nbformat_minor": 5
}